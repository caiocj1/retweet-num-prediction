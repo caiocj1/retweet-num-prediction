{
 "cells": [
  {
   "cell_type": "markdown",
   "source": [
    "# Data Exploration"
   ],
   "metadata": {
    "collapsed": false
   }
  },
  {
   "cell_type": "markdown",
   "source": [
    "## Setup"
   ],
   "metadata": {
    "collapsed": false
   }
  },
  {
   "cell_type": "code",
   "execution_count": 1,
   "outputs": [
    {
     "name": "stderr",
     "output_type": "stream",
     "text": [
      "C:\\Users\\caioj\\Anaconda3\\envs\\forest-env\\lib\\site-packages\\xgboost\\compat.py:36: FutureWarning: pandas.Int64Index is deprecated and will be removed from pandas in a future version. Use pandas.Index with the appropriate dtype instead.\n",
      "  from pandas import MultiIndex, Int64Index\n"
     ]
    }
   ],
   "source": [
    "import numpy as np\n",
    "import pandas as pd\n",
    "import sklearn\n",
    "import sklearn.neighbors\n",
    "import sklearn.ensemble\n",
    "import sklearn.cluster\n",
    "import sklearn.feature_selection\n",
    "import matplotlib.pyplot as plt\n",
    "import ast\n",
    "import gensim, logging\n",
    "import xgboost\n",
    "import lightgbm\n",
    "import datetime\n",
    "import seaborn as sbn\n",
    "import torch"
   ],
   "metadata": {
    "collapsed": false
   }
  },
  {
   "cell_type": "code",
   "execution_count": 2,
   "outputs": [
    {
     "data": {
      "text/plain": "       retweets_count  favorites_count  followers_count  statuses_count  \\\ncount   353969.000000    353969.000000     3.539690e+05    3.539690e+05   \nmean        15.831810        46.655442     2.021548e+04    4.808507e+04   \nstd        241.986723       852.044385     2.598715e+05    1.133854e+05   \nmin          0.000000         0.000000     0.000000e+00    1.000000e+00   \n25%          0.000000         0.000000     1.600000e+02    2.972000e+03   \n50%          1.000000         0.000000     7.260000e+02    1.250100e+04   \n75%          3.000000         1.000000     2.283000e+03    4.352200e+04   \nmax      63674.000000    122591.000000     1.441710e+07    8.183508e+06   \n\n       friends_count       verified     timestamp       TweetID  \ncount  353969.000000  353969.000000  3.539690e+05  3.539690e+05  \nmean     1459.289003       0.030005  1.647004e+12  6.872503e+05  \nstd      2502.933271       0.170602  4.846468e+09  4.175793e+05  \nmin         0.000000       0.000000  1.301178e+12  3.000000e+00  \n25%       214.000000       0.000000  1.647068e+12  3.194490e+05  \n50%       693.000000       0.000000  1.647292e+12  6.719730e+05  \n75%      1804.000000       0.000000  1.647532e+12  1.049644e+06  \nmax    237269.000000       1.000000  1.647727e+12  1.434456e+06  ",
      "text/html": "<div>\n<style scoped>\n    .dataframe tbody tr th:only-of-type {\n        vertical-align: middle;\n    }\n\n    .dataframe tbody tr th {\n        vertical-align: top;\n    }\n\n    .dataframe thead th {\n        text-align: right;\n    }\n</style>\n<table border=\"1\" class=\"dataframe\">\n  <thead>\n    <tr style=\"text-align: right;\">\n      <th></th>\n      <th>retweets_count</th>\n      <th>favorites_count</th>\n      <th>followers_count</th>\n      <th>statuses_count</th>\n      <th>friends_count</th>\n      <th>verified</th>\n      <th>timestamp</th>\n      <th>TweetID</th>\n    </tr>\n  </thead>\n  <tbody>\n    <tr>\n      <th>count</th>\n      <td>353969.000000</td>\n      <td>353969.000000</td>\n      <td>3.539690e+05</td>\n      <td>3.539690e+05</td>\n      <td>353969.000000</td>\n      <td>353969.000000</td>\n      <td>3.539690e+05</td>\n      <td>3.539690e+05</td>\n    </tr>\n    <tr>\n      <th>mean</th>\n      <td>15.831810</td>\n      <td>46.655442</td>\n      <td>2.021548e+04</td>\n      <td>4.808507e+04</td>\n      <td>1459.289003</td>\n      <td>0.030005</td>\n      <td>1.647004e+12</td>\n      <td>6.872503e+05</td>\n    </tr>\n    <tr>\n      <th>std</th>\n      <td>241.986723</td>\n      <td>852.044385</td>\n      <td>2.598715e+05</td>\n      <td>1.133854e+05</td>\n      <td>2502.933271</td>\n      <td>0.170602</td>\n      <td>4.846468e+09</td>\n      <td>4.175793e+05</td>\n    </tr>\n    <tr>\n      <th>min</th>\n      <td>0.000000</td>\n      <td>0.000000</td>\n      <td>0.000000e+00</td>\n      <td>1.000000e+00</td>\n      <td>0.000000</td>\n      <td>0.000000</td>\n      <td>1.301178e+12</td>\n      <td>3.000000e+00</td>\n    </tr>\n    <tr>\n      <th>25%</th>\n      <td>0.000000</td>\n      <td>0.000000</td>\n      <td>1.600000e+02</td>\n      <td>2.972000e+03</td>\n      <td>214.000000</td>\n      <td>0.000000</td>\n      <td>1.647068e+12</td>\n      <td>3.194490e+05</td>\n    </tr>\n    <tr>\n      <th>50%</th>\n      <td>1.000000</td>\n      <td>0.000000</td>\n      <td>7.260000e+02</td>\n      <td>1.250100e+04</td>\n      <td>693.000000</td>\n      <td>0.000000</td>\n      <td>1.647292e+12</td>\n      <td>6.719730e+05</td>\n    </tr>\n    <tr>\n      <th>75%</th>\n      <td>3.000000</td>\n      <td>1.000000</td>\n      <td>2.283000e+03</td>\n      <td>4.352200e+04</td>\n      <td>1804.000000</td>\n      <td>0.000000</td>\n      <td>1.647532e+12</td>\n      <td>1.049644e+06</td>\n    </tr>\n    <tr>\n      <th>max</th>\n      <td>63674.000000</td>\n      <td>122591.000000</td>\n      <td>1.441710e+07</td>\n      <td>8.183508e+06</td>\n      <td>237269.000000</td>\n      <td>1.000000</td>\n      <td>1.647727e+12</td>\n      <td>1.434456e+06</td>\n    </tr>\n  </tbody>\n</table>\n</div>"
     },
     "execution_count": 2,
     "metadata": {},
     "output_type": "execute_result"
    }
   ],
   "source": [
    "read_train_df = pd.read_csv('data/train.csv')\n",
    "read_test_df = pd.read_csv('data/evaluation.csv')\n",
    "read_train_df.describe()"
   ],
   "metadata": {
    "collapsed": false
   }
  },
  {
   "cell_type": "code",
   "execution_count": 3,
   "outputs": [
    {
     "data": {
      "text/plain": "                                                     text  retweets_count  \\\n0                      rt refarcir macron ans nom prépare               3   \n1                                               populaire               0   \n2                                     faut dégager cinglé               3   \n3       enseignants mettre prescriptions président rép...               0   \n4                              mafieuse oppressive macron               0   \n...                                                   ...             ...   \n353964                     gonflette tour raciste frustré               0   \n353965  france caste crapuleuse encadrée gangsters irr...               0   \n353966                      eric zemmour français berbère               3   \n353967                           gauchistes dépression pq               0   \n353968      algérie emmanuel macron grande histoire amour               0   \n\n        favorites_count  followers_count  statuses_count  friends_count  \\\n0                     0             3682          453535           3628   \n1                     0               86            1016            284   \n2                     1             1944           28234           1995   \n3                     0                1            1072              0   \n4                     0            13957           25311          10841   \n...                 ...              ...             ...            ...   \n353964                0               34            1509             55   \n353965                0               89           11166            127   \n353966                0             1888             712           3086   \n353967                0              139             486            320   \n353968                0                0              82             24   \n\n       mentions                         urls  verified hashtags  \\\n0            []                           []         0       []   \n1            []                           []         0       []   \n2            []                           []         0       []   \n3            []  ['https://t.co/rytlted08g']         0       []   \n4            []                           []         0       []   \n...         ...                          ...       ...      ...   \n353964       []  ['https://t.co/pma33zhslx']         0       []   \n353965       []                           []         0       []   \n353966       []                           []         0       []   \n353967       []                           []         0       []   \n353968       []                           []         0       []   \n\n            timestamp  TweetID  \n0       1646978048000   832509  \n1       1647694288000  1388011  \n2       1647370048000    63896  \n3       1647256282000   979251  \n4       1647258374000  1040049  \n...               ...      ...  \n353964  1647438153000   142573  \n353965  1647072106000   240866  \n353966  1647607230000  1173763  \n353967  1646987195000   929182  \n353968  1647602843000  1250518  \n\n[353969 rows x 12 columns]",
      "text/html": "<div>\n<style scoped>\n    .dataframe tbody tr th:only-of-type {\n        vertical-align: middle;\n    }\n\n    .dataframe tbody tr th {\n        vertical-align: top;\n    }\n\n    .dataframe thead th {\n        text-align: right;\n    }\n</style>\n<table border=\"1\" class=\"dataframe\">\n  <thead>\n    <tr style=\"text-align: right;\">\n      <th></th>\n      <th>text</th>\n      <th>retweets_count</th>\n      <th>favorites_count</th>\n      <th>followers_count</th>\n      <th>statuses_count</th>\n      <th>friends_count</th>\n      <th>mentions</th>\n      <th>urls</th>\n      <th>verified</th>\n      <th>hashtags</th>\n      <th>timestamp</th>\n      <th>TweetID</th>\n    </tr>\n  </thead>\n  <tbody>\n    <tr>\n      <th>0</th>\n      <td>rt refarcir macron ans nom prépare</td>\n      <td>3</td>\n      <td>0</td>\n      <td>3682</td>\n      <td>453535</td>\n      <td>3628</td>\n      <td>[]</td>\n      <td>[]</td>\n      <td>0</td>\n      <td>[]</td>\n      <td>1646978048000</td>\n      <td>832509</td>\n    </tr>\n    <tr>\n      <th>1</th>\n      <td>populaire</td>\n      <td>0</td>\n      <td>0</td>\n      <td>86</td>\n      <td>1016</td>\n      <td>284</td>\n      <td>[]</td>\n      <td>[]</td>\n      <td>0</td>\n      <td>[]</td>\n      <td>1647694288000</td>\n      <td>1388011</td>\n    </tr>\n    <tr>\n      <th>2</th>\n      <td>faut dégager cinglé</td>\n      <td>3</td>\n      <td>1</td>\n      <td>1944</td>\n      <td>28234</td>\n      <td>1995</td>\n      <td>[]</td>\n      <td>[]</td>\n      <td>0</td>\n      <td>[]</td>\n      <td>1647370048000</td>\n      <td>63896</td>\n    </tr>\n    <tr>\n      <th>3</th>\n      <td>enseignants mettre prescriptions président rép...</td>\n      <td>0</td>\n      <td>0</td>\n      <td>1</td>\n      <td>1072</td>\n      <td>0</td>\n      <td>[]</td>\n      <td>['https://t.co/rytlted08g']</td>\n      <td>0</td>\n      <td>[]</td>\n      <td>1647256282000</td>\n      <td>979251</td>\n    </tr>\n    <tr>\n      <th>4</th>\n      <td>mafieuse oppressive macron</td>\n      <td>0</td>\n      <td>0</td>\n      <td>13957</td>\n      <td>25311</td>\n      <td>10841</td>\n      <td>[]</td>\n      <td>[]</td>\n      <td>0</td>\n      <td>[]</td>\n      <td>1647258374000</td>\n      <td>1040049</td>\n    </tr>\n    <tr>\n      <th>...</th>\n      <td>...</td>\n      <td>...</td>\n      <td>...</td>\n      <td>...</td>\n      <td>...</td>\n      <td>...</td>\n      <td>...</td>\n      <td>...</td>\n      <td>...</td>\n      <td>...</td>\n      <td>...</td>\n      <td>...</td>\n    </tr>\n    <tr>\n      <th>353964</th>\n      <td>gonflette tour raciste frustré</td>\n      <td>0</td>\n      <td>0</td>\n      <td>34</td>\n      <td>1509</td>\n      <td>55</td>\n      <td>[]</td>\n      <td>['https://t.co/pma33zhslx']</td>\n      <td>0</td>\n      <td>[]</td>\n      <td>1647438153000</td>\n      <td>142573</td>\n    </tr>\n    <tr>\n      <th>353965</th>\n      <td>france caste crapuleuse encadrée gangsters irr...</td>\n      <td>0</td>\n      <td>0</td>\n      <td>89</td>\n      <td>11166</td>\n      <td>127</td>\n      <td>[]</td>\n      <td>[]</td>\n      <td>0</td>\n      <td>[]</td>\n      <td>1647072106000</td>\n      <td>240866</td>\n    </tr>\n    <tr>\n      <th>353966</th>\n      <td>eric zemmour français berbère</td>\n      <td>3</td>\n      <td>0</td>\n      <td>1888</td>\n      <td>712</td>\n      <td>3086</td>\n      <td>[]</td>\n      <td>[]</td>\n      <td>0</td>\n      <td>[]</td>\n      <td>1647607230000</td>\n      <td>1173763</td>\n    </tr>\n    <tr>\n      <th>353967</th>\n      <td>gauchistes dépression pq</td>\n      <td>0</td>\n      <td>0</td>\n      <td>139</td>\n      <td>486</td>\n      <td>320</td>\n      <td>[]</td>\n      <td>[]</td>\n      <td>0</td>\n      <td>[]</td>\n      <td>1646987195000</td>\n      <td>929182</td>\n    </tr>\n    <tr>\n      <th>353968</th>\n      <td>algérie emmanuel macron grande histoire amour</td>\n      <td>0</td>\n      <td>0</td>\n      <td>0</td>\n      <td>82</td>\n      <td>24</td>\n      <td>[]</td>\n      <td>[]</td>\n      <td>0</td>\n      <td>[]</td>\n      <td>1647602843000</td>\n      <td>1250518</td>\n    </tr>\n  </tbody>\n</table>\n<p>353969 rows × 12 columns</p>\n</div>"
     },
     "execution_count": 3,
     "metadata": {},
     "output_type": "execute_result"
    }
   ],
   "source": [
    "read_train_df"
   ],
   "metadata": {
    "collapsed": false
   }
  },
  {
   "cell_type": "code",
   "execution_count": 4,
   "outputs": [
    {
     "data": {
      "text/plain": "count    353969.0\nmean          0.0\nstd           0.0\nmin           0.0\n25%           0.0\n50%           0.0\n75%           0.0\nmax           0.0\nName: mentions, dtype: float64"
     },
     "execution_count": 4,
     "metadata": {},
     "output_type": "execute_result"
    }
   ],
   "source": [
    "read_train_df['mentions'].apply(ast.literal_eval).apply(len).describe()"
   ],
   "metadata": {
    "collapsed": false
   }
  },
  {
   "cell_type": "code",
   "execution_count": 5,
   "outputs": [],
   "source": [
    "read_train_df.urls = read_train_df.urls.apply(ast.literal_eval)\n",
    "read_train_df.hashtags = read_train_df.hashtags.apply(ast.literal_eval)\n",
    "\n",
    "read_test_df.urls = read_test_df.urls.apply(ast.literal_eval)\n",
    "read_test_df.hashtags = read_test_df.hashtags.apply(ast.literal_eval)"
   ],
   "metadata": {
    "collapsed": false
   }
  },
  {
   "cell_type": "code",
   "execution_count": 6,
   "outputs": [],
   "source": [
    "def format_df(df: pd.DataFrame,\n",
    "                  type: str = 'train',\n",
    "                  keep_time: bool = False):\n",
    "    final_df = df.drop(['TweetID', 'mentions', 'timestamp'], axis=1)\n",
    "\n",
    "    final_df['text'] = final_df['text'].apply(str.split)\n",
    "\n",
    "    final_df['url_count'] = final_df.urls.apply(len)\n",
    "    final_df['hashtag_count'] = final_df.hashtags.apply(len)\n",
    "\n",
    "    if keep_time:\n",
    "        timestamps = df.timestamp // 1000\n",
    "        timestamps = timestamps.apply(datetime.datetime.fromtimestamp).apply(datetime.datetime.timetuple)\n",
    "\n",
    "        time_df = pd.DataFrame(timestamps.tolist(), index=df.index,\n",
    "                               columns=['tm_year', 'tm_mon', 'tm_mday', 'tm_hour', 'tm_min', 'tm_sec', 'tm_wday',\n",
    "                                        'tm_yday', 'tm_isdst'])\n",
    "\n",
    "        final_df = pd.concat([final_df, time_df], axis=1)\n",
    "\n",
    "    return final_df"
   ],
   "metadata": {
    "collapsed": false
   }
  },
  {
   "cell_type": "code",
   "execution_count": 7,
   "outputs": [],
   "source": [
    "train_df = format_df(read_train_df, keep_time=True)\n",
    "test_df = format_df(read_test_df, keep_time=True)"
   ],
   "metadata": {
    "collapsed": false
   }
  },
  {
   "cell_type": "code",
   "execution_count": 8,
   "outputs": [
    {
     "data": {
      "text/plain": "                                                     text  retweets_count  \\\n0               [rt, refarcir, macron, ans, nom, prépare]               3   \n1                                             [populaire]               0   \n2                                 [faut, dégager, cinglé]               3   \n3       [enseignants, mettre, prescriptions, président...               0   \n4                          [mafieuse, oppressive, macron]               0   \n...                                                   ...             ...   \n353964                [gonflette, tour, raciste, frustré]               0   \n353965  [france, caste, crapuleuse, encadrée, gangster...               0   \n353966                 [eric, zemmour, français, berbère]               3   \n353967                       [gauchistes, dépression, pq]               0   \n353968  [algérie, emmanuel, macron, grande, histoire, ...               0   \n\n        favorites_count  followers_count  statuses_count  friends_count  \\\n0                     0             3682          453535           3628   \n1                     0               86            1016            284   \n2                     1             1944           28234           1995   \n3                     0                1            1072              0   \n4                     0            13957           25311          10841   \n...                 ...              ...             ...            ...   \n353964                0               34            1509             55   \n353965                0               89           11166            127   \n353966                0             1888             712           3086   \n353967                0              139             486            320   \n353968                0                0              82             24   \n\n                             urls  verified hashtags  url_count  \\\n0                              []         0       []          0   \n1                              []         0       []          0   \n2                              []         0       []          0   \n3       [https://t.co/rytlted08g]         0       []          1   \n4                              []         0       []          0   \n...                           ...       ...      ...        ...   \n353964  [https://t.co/pma33zhslx]         0       []          1   \n353965                         []         0       []          0   \n353966                         []         0       []          0   \n353967                         []         0       []          0   \n353968                         []         0       []          0   \n\n        hashtag_count  tm_year  tm_mon  tm_mday  tm_hour  tm_min  tm_sec  \\\n0                   0     2022       3       11        6      54       8   \n1                   0     2022       3       19       13      51      28   \n2                   0     2022       3       15       19      47      28   \n3                   0     2022       3       14       12      11      22   \n4                   0     2022       3       14       12      46      14   \n...               ...      ...     ...      ...      ...     ...     ...   \n353964              0     2022       3       16       14      42      33   \n353965              0     2022       3       12        9       1      46   \n353966              0     2022       3       18       13      40      30   \n353967              0     2022       3       11        9      26      35   \n353968              0     2022       3       18       12      27      23   \n\n        tm_wday  tm_yday  tm_isdst  \n0             4       70        -1  \n1             5       78        -1  \n2             1       74        -1  \n3             0       73        -1  \n4             0       73        -1  \n...         ...      ...       ...  \n353964        2       75        -1  \n353965        5       71        -1  \n353966        4       77        -1  \n353967        4       70        -1  \n353968        4       77        -1  \n\n[353969 rows x 20 columns]",
      "text/html": "<div>\n<style scoped>\n    .dataframe tbody tr th:only-of-type {\n        vertical-align: middle;\n    }\n\n    .dataframe tbody tr th {\n        vertical-align: top;\n    }\n\n    .dataframe thead th {\n        text-align: right;\n    }\n</style>\n<table border=\"1\" class=\"dataframe\">\n  <thead>\n    <tr style=\"text-align: right;\">\n      <th></th>\n      <th>text</th>\n      <th>retweets_count</th>\n      <th>favorites_count</th>\n      <th>followers_count</th>\n      <th>statuses_count</th>\n      <th>friends_count</th>\n      <th>urls</th>\n      <th>verified</th>\n      <th>hashtags</th>\n      <th>url_count</th>\n      <th>hashtag_count</th>\n      <th>tm_year</th>\n      <th>tm_mon</th>\n      <th>tm_mday</th>\n      <th>tm_hour</th>\n      <th>tm_min</th>\n      <th>tm_sec</th>\n      <th>tm_wday</th>\n      <th>tm_yday</th>\n      <th>tm_isdst</th>\n    </tr>\n  </thead>\n  <tbody>\n    <tr>\n      <th>0</th>\n      <td>[rt, refarcir, macron, ans, nom, prépare]</td>\n      <td>3</td>\n      <td>0</td>\n      <td>3682</td>\n      <td>453535</td>\n      <td>3628</td>\n      <td>[]</td>\n      <td>0</td>\n      <td>[]</td>\n      <td>0</td>\n      <td>0</td>\n      <td>2022</td>\n      <td>3</td>\n      <td>11</td>\n      <td>6</td>\n      <td>54</td>\n      <td>8</td>\n      <td>4</td>\n      <td>70</td>\n      <td>-1</td>\n    </tr>\n    <tr>\n      <th>1</th>\n      <td>[populaire]</td>\n      <td>0</td>\n      <td>0</td>\n      <td>86</td>\n      <td>1016</td>\n      <td>284</td>\n      <td>[]</td>\n      <td>0</td>\n      <td>[]</td>\n      <td>0</td>\n      <td>0</td>\n      <td>2022</td>\n      <td>3</td>\n      <td>19</td>\n      <td>13</td>\n      <td>51</td>\n      <td>28</td>\n      <td>5</td>\n      <td>78</td>\n      <td>-1</td>\n    </tr>\n    <tr>\n      <th>2</th>\n      <td>[faut, dégager, cinglé]</td>\n      <td>3</td>\n      <td>1</td>\n      <td>1944</td>\n      <td>28234</td>\n      <td>1995</td>\n      <td>[]</td>\n      <td>0</td>\n      <td>[]</td>\n      <td>0</td>\n      <td>0</td>\n      <td>2022</td>\n      <td>3</td>\n      <td>15</td>\n      <td>19</td>\n      <td>47</td>\n      <td>28</td>\n      <td>1</td>\n      <td>74</td>\n      <td>-1</td>\n    </tr>\n    <tr>\n      <th>3</th>\n      <td>[enseignants, mettre, prescriptions, président...</td>\n      <td>0</td>\n      <td>0</td>\n      <td>1</td>\n      <td>1072</td>\n      <td>0</td>\n      <td>[https://t.co/rytlted08g]</td>\n      <td>0</td>\n      <td>[]</td>\n      <td>1</td>\n      <td>0</td>\n      <td>2022</td>\n      <td>3</td>\n      <td>14</td>\n      <td>12</td>\n      <td>11</td>\n      <td>22</td>\n      <td>0</td>\n      <td>73</td>\n      <td>-1</td>\n    </tr>\n    <tr>\n      <th>4</th>\n      <td>[mafieuse, oppressive, macron]</td>\n      <td>0</td>\n      <td>0</td>\n      <td>13957</td>\n      <td>25311</td>\n      <td>10841</td>\n      <td>[]</td>\n      <td>0</td>\n      <td>[]</td>\n      <td>0</td>\n      <td>0</td>\n      <td>2022</td>\n      <td>3</td>\n      <td>14</td>\n      <td>12</td>\n      <td>46</td>\n      <td>14</td>\n      <td>0</td>\n      <td>73</td>\n      <td>-1</td>\n    </tr>\n    <tr>\n      <th>...</th>\n      <td>...</td>\n      <td>...</td>\n      <td>...</td>\n      <td>...</td>\n      <td>...</td>\n      <td>...</td>\n      <td>...</td>\n      <td>...</td>\n      <td>...</td>\n      <td>...</td>\n      <td>...</td>\n      <td>...</td>\n      <td>...</td>\n      <td>...</td>\n      <td>...</td>\n      <td>...</td>\n      <td>...</td>\n      <td>...</td>\n      <td>...</td>\n      <td>...</td>\n    </tr>\n    <tr>\n      <th>353964</th>\n      <td>[gonflette, tour, raciste, frustré]</td>\n      <td>0</td>\n      <td>0</td>\n      <td>34</td>\n      <td>1509</td>\n      <td>55</td>\n      <td>[https://t.co/pma33zhslx]</td>\n      <td>0</td>\n      <td>[]</td>\n      <td>1</td>\n      <td>0</td>\n      <td>2022</td>\n      <td>3</td>\n      <td>16</td>\n      <td>14</td>\n      <td>42</td>\n      <td>33</td>\n      <td>2</td>\n      <td>75</td>\n      <td>-1</td>\n    </tr>\n    <tr>\n      <th>353965</th>\n      <td>[france, caste, crapuleuse, encadrée, gangster...</td>\n      <td>0</td>\n      <td>0</td>\n      <td>89</td>\n      <td>11166</td>\n      <td>127</td>\n      <td>[]</td>\n      <td>0</td>\n      <td>[]</td>\n      <td>0</td>\n      <td>0</td>\n      <td>2022</td>\n      <td>3</td>\n      <td>12</td>\n      <td>9</td>\n      <td>1</td>\n      <td>46</td>\n      <td>5</td>\n      <td>71</td>\n      <td>-1</td>\n    </tr>\n    <tr>\n      <th>353966</th>\n      <td>[eric, zemmour, français, berbère]</td>\n      <td>3</td>\n      <td>0</td>\n      <td>1888</td>\n      <td>712</td>\n      <td>3086</td>\n      <td>[]</td>\n      <td>0</td>\n      <td>[]</td>\n      <td>0</td>\n      <td>0</td>\n      <td>2022</td>\n      <td>3</td>\n      <td>18</td>\n      <td>13</td>\n      <td>40</td>\n      <td>30</td>\n      <td>4</td>\n      <td>77</td>\n      <td>-1</td>\n    </tr>\n    <tr>\n      <th>353967</th>\n      <td>[gauchistes, dépression, pq]</td>\n      <td>0</td>\n      <td>0</td>\n      <td>139</td>\n      <td>486</td>\n      <td>320</td>\n      <td>[]</td>\n      <td>0</td>\n      <td>[]</td>\n      <td>0</td>\n      <td>0</td>\n      <td>2022</td>\n      <td>3</td>\n      <td>11</td>\n      <td>9</td>\n      <td>26</td>\n      <td>35</td>\n      <td>4</td>\n      <td>70</td>\n      <td>-1</td>\n    </tr>\n    <tr>\n      <th>353968</th>\n      <td>[algérie, emmanuel, macron, grande, histoire, ...</td>\n      <td>0</td>\n      <td>0</td>\n      <td>0</td>\n      <td>82</td>\n      <td>24</td>\n      <td>[]</td>\n      <td>0</td>\n      <td>[]</td>\n      <td>0</td>\n      <td>0</td>\n      <td>2022</td>\n      <td>3</td>\n      <td>18</td>\n      <td>12</td>\n      <td>27</td>\n      <td>23</td>\n      <td>4</td>\n      <td>77</td>\n      <td>-1</td>\n    </tr>\n  </tbody>\n</table>\n<p>353969 rows × 20 columns</p>\n</div>"
     },
     "execution_count": 8,
     "metadata": {},
     "output_type": "execute_result"
    }
   ],
   "source": [
    "train_df"
   ],
   "metadata": {
    "collapsed": false
   }
  },
  {
   "cell_type": "code",
   "execution_count": 9,
   "outputs": [
    {
     "data": {
      "text/plain": "        favorites_count  followers_count  statuses_count  friends_count  \\\n0                     0             3682          453535           3628   \n1                     0               86            1016            284   \n2                     1             1944           28234           1995   \n3                     0                1            1072              0   \n4                     0            13957           25311          10841   \n...                 ...              ...             ...            ...   \n353964                0               34            1509             55   \n353965                0               89           11166            127   \n353966                0             1888             712           3086   \n353967                0              139             486            320   \n353968                0                0              82             24   \n\n        verified  url_count  hashtag_count  tm_year  tm_mon  tm_mday  tm_hour  \\\n0              0          0              0     2022       3       11        6   \n1              0          0              0     2022       3       19       13   \n2              0          0              0     2022       3       15       19   \n3              0          1              0     2022       3       14       12   \n4              0          0              0     2022       3       14       12   \n...          ...        ...            ...      ...     ...      ...      ...   \n353964         0          1              0     2022       3       16       14   \n353965         0          0              0     2022       3       12        9   \n353966         0          0              0     2022       3       18       13   \n353967         0          0              0     2022       3       11        9   \n353968         0          0              0     2022       3       18       12   \n\n        tm_min  tm_sec  tm_wday  tm_yday  tm_isdst  \n0           54       8        4       70        -1  \n1           51      28        5       78        -1  \n2           47      28        1       74        -1  \n3           11      22        0       73        -1  \n4           46      14        0       73        -1  \n...        ...     ...      ...      ...       ...  \n353964      42      33        2       75        -1  \n353965       1      46        5       71        -1  \n353966      40      30        4       77        -1  \n353967      26      35        4       70        -1  \n353968      27      23        4       77        -1  \n\n[353969 rows x 16 columns]",
      "text/html": "<div>\n<style scoped>\n    .dataframe tbody tr th:only-of-type {\n        vertical-align: middle;\n    }\n\n    .dataframe tbody tr th {\n        vertical-align: top;\n    }\n\n    .dataframe thead th {\n        text-align: right;\n    }\n</style>\n<table border=\"1\" class=\"dataframe\">\n  <thead>\n    <tr style=\"text-align: right;\">\n      <th></th>\n      <th>favorites_count</th>\n      <th>followers_count</th>\n      <th>statuses_count</th>\n      <th>friends_count</th>\n      <th>verified</th>\n      <th>url_count</th>\n      <th>hashtag_count</th>\n      <th>tm_year</th>\n      <th>tm_mon</th>\n      <th>tm_mday</th>\n      <th>tm_hour</th>\n      <th>tm_min</th>\n      <th>tm_sec</th>\n      <th>tm_wday</th>\n      <th>tm_yday</th>\n      <th>tm_isdst</th>\n    </tr>\n  </thead>\n  <tbody>\n    <tr>\n      <th>0</th>\n      <td>0</td>\n      <td>3682</td>\n      <td>453535</td>\n      <td>3628</td>\n      <td>0</td>\n      <td>0</td>\n      <td>0</td>\n      <td>2022</td>\n      <td>3</td>\n      <td>11</td>\n      <td>6</td>\n      <td>54</td>\n      <td>8</td>\n      <td>4</td>\n      <td>70</td>\n      <td>-1</td>\n    </tr>\n    <tr>\n      <th>1</th>\n      <td>0</td>\n      <td>86</td>\n      <td>1016</td>\n      <td>284</td>\n      <td>0</td>\n      <td>0</td>\n      <td>0</td>\n      <td>2022</td>\n      <td>3</td>\n      <td>19</td>\n      <td>13</td>\n      <td>51</td>\n      <td>28</td>\n      <td>5</td>\n      <td>78</td>\n      <td>-1</td>\n    </tr>\n    <tr>\n      <th>2</th>\n      <td>1</td>\n      <td>1944</td>\n      <td>28234</td>\n      <td>1995</td>\n      <td>0</td>\n      <td>0</td>\n      <td>0</td>\n      <td>2022</td>\n      <td>3</td>\n      <td>15</td>\n      <td>19</td>\n      <td>47</td>\n      <td>28</td>\n      <td>1</td>\n      <td>74</td>\n      <td>-1</td>\n    </tr>\n    <tr>\n      <th>3</th>\n      <td>0</td>\n      <td>1</td>\n      <td>1072</td>\n      <td>0</td>\n      <td>0</td>\n      <td>1</td>\n      <td>0</td>\n      <td>2022</td>\n      <td>3</td>\n      <td>14</td>\n      <td>12</td>\n      <td>11</td>\n      <td>22</td>\n      <td>0</td>\n      <td>73</td>\n      <td>-1</td>\n    </tr>\n    <tr>\n      <th>4</th>\n      <td>0</td>\n      <td>13957</td>\n      <td>25311</td>\n      <td>10841</td>\n      <td>0</td>\n      <td>0</td>\n      <td>0</td>\n      <td>2022</td>\n      <td>3</td>\n      <td>14</td>\n      <td>12</td>\n      <td>46</td>\n      <td>14</td>\n      <td>0</td>\n      <td>73</td>\n      <td>-1</td>\n    </tr>\n    <tr>\n      <th>...</th>\n      <td>...</td>\n      <td>...</td>\n      <td>...</td>\n      <td>...</td>\n      <td>...</td>\n      <td>...</td>\n      <td>...</td>\n      <td>...</td>\n      <td>...</td>\n      <td>...</td>\n      <td>...</td>\n      <td>...</td>\n      <td>...</td>\n      <td>...</td>\n      <td>...</td>\n      <td>...</td>\n    </tr>\n    <tr>\n      <th>353964</th>\n      <td>0</td>\n      <td>34</td>\n      <td>1509</td>\n      <td>55</td>\n      <td>0</td>\n      <td>1</td>\n      <td>0</td>\n      <td>2022</td>\n      <td>3</td>\n      <td>16</td>\n      <td>14</td>\n      <td>42</td>\n      <td>33</td>\n      <td>2</td>\n      <td>75</td>\n      <td>-1</td>\n    </tr>\n    <tr>\n      <th>353965</th>\n      <td>0</td>\n      <td>89</td>\n      <td>11166</td>\n      <td>127</td>\n      <td>0</td>\n      <td>0</td>\n      <td>0</td>\n      <td>2022</td>\n      <td>3</td>\n      <td>12</td>\n      <td>9</td>\n      <td>1</td>\n      <td>46</td>\n      <td>5</td>\n      <td>71</td>\n      <td>-1</td>\n    </tr>\n    <tr>\n      <th>353966</th>\n      <td>0</td>\n      <td>1888</td>\n      <td>712</td>\n      <td>3086</td>\n      <td>0</td>\n      <td>0</td>\n      <td>0</td>\n      <td>2022</td>\n      <td>3</td>\n      <td>18</td>\n      <td>13</td>\n      <td>40</td>\n      <td>30</td>\n      <td>4</td>\n      <td>77</td>\n      <td>-1</td>\n    </tr>\n    <tr>\n      <th>353967</th>\n      <td>0</td>\n      <td>139</td>\n      <td>486</td>\n      <td>320</td>\n      <td>0</td>\n      <td>0</td>\n      <td>0</td>\n      <td>2022</td>\n      <td>3</td>\n      <td>11</td>\n      <td>9</td>\n      <td>26</td>\n      <td>35</td>\n      <td>4</td>\n      <td>70</td>\n      <td>-1</td>\n    </tr>\n    <tr>\n      <th>353968</th>\n      <td>0</td>\n      <td>0</td>\n      <td>82</td>\n      <td>24</td>\n      <td>0</td>\n      <td>0</td>\n      <td>0</td>\n      <td>2022</td>\n      <td>3</td>\n      <td>18</td>\n      <td>12</td>\n      <td>27</td>\n      <td>23</td>\n      <td>4</td>\n      <td>77</td>\n      <td>-1</td>\n    </tr>\n  </tbody>\n</table>\n<p>353969 rows × 16 columns</p>\n</div>"
     },
     "execution_count": 9,
     "metadata": {},
     "output_type": "execute_result"
    }
   ],
   "source": [
    "train_df_input = train_df.drop(['retweets_count', 'text', 'urls', 'hashtags'], axis=1)\n",
    "train_df_input"
   ],
   "metadata": {
    "collapsed": false
   }
  },
  {
   "cell_type": "code",
   "execution_count": 10,
   "outputs": [],
   "source": [
    "def score_dataset(X, y, model=xgboost.XGBRegressor()):\n",
    "    score = sklearn.model_selection.cross_val_score(\n",
    "        model, X, y, cv=5, scoring='neg_mean_absolute_error'\n",
    "    )\n",
    "    score = - score.mean()\n",
    "    return score"
   ],
   "metadata": {
    "collapsed": false
   }
  },
  {
   "cell_type": "code",
   "execution_count": 11,
   "outputs": [
    {
     "name": "stdout",
     "output_type": "stream",
     "text": [
      "Baseline score: 6.68995 MAE\n"
     ]
    }
   ],
   "source": [
    "baseline_score = score_dataset(train_df_input.values, train_df['retweets_count'].values)\n",
    "print(f'Baseline score: {baseline_score:.5f} MAE')"
   ],
   "metadata": {
    "collapsed": false
   }
  },
  {
   "cell_type": "markdown",
   "source": [
    "## Data Visualization, Feature Engineering"
   ],
   "metadata": {
    "collapsed": false
   }
  },
  {
   "cell_type": "code",
   "execution_count": 79,
   "outputs": [],
   "source": [
    "discrete_features = train_df_input.columns == 'verified'\n",
    "\n",
    "mi_scores = sklearn.feature_selection.mutual_info_regression(train_df_input, train_df['retweets_count'], discrete_features=discrete_features)\n",
    "mi_scores = pd.Series(mi_scores, name=\"MI Scores\", index=train_df_input.columns)\n",
    "mi_scores = mi_scores.sort_values(ascending=False)"
   ],
   "metadata": {
    "collapsed": false
   }
  },
  {
   "cell_type": "code",
   "execution_count": 80,
   "outputs": [
    {
     "data": {
      "text/plain": "<Figure size 800x500 with 1 Axes>",
      "image/png": "[encoded data removed]"
     },
     "metadata": {},
     "output_type": "display_data"
    }
   ],
   "source": [
    "plt.figure(dpi=100, figsize=(8, 5))\n",
    "mi_scores = mi_scores.sort_values(ascending=True)\n",
    "width = np.arange(len(mi_scores))\n",
    "ticks = list(mi_scores.index)\n",
    "plt.barh(width, mi_scores)\n",
    "plt.yticks(width, ticks)\n",
    "plt.title(\"Mutual Information Scores\")\n",
    "plt.show()"
   ],
   "metadata": {
    "collapsed": false
   }
  },
  {
   "cell_type": "code",
   "execution_count": null,
   "outputs": [],
   "source": [
    "new_train_df = train_df_input.drop(['tm_sec', 'tm_isdst'], axis=1)"
   ],
   "metadata": {
    "collapsed": false
   }
  },
  {
   "cell_type": "code",
   "execution_count": null,
   "outputs": [],
   "source": [
    "baseline_score = score_dataset(new_train_df.values, train_df['retweets_count'].values)\n",
    "print(f'Baseline score: {baseline_score:.5f} MAE')"
   ],
   "metadata": {
    "collapsed": false
   }
  },
  {
   "cell_type": "code",
   "execution_count": null,
   "outputs": [],
   "source": [
    "fig, ax = plt.subplots(4, 2)\n",
    "\n",
    "sbn.kdeplot(ax=ax[0, 0], data=train_df.favorites_count)\n",
    "sbn.kdeplot(ax=ax[0, 1], data=np.log10(train_df.favorites_count).replace([-np.inf], -10))\n",
    "sbn.kdeplot(ax=ax[1, 0], data=train_df.friends_count)\n",
    "sbn.kdeplot(ax=ax[1, 1], data=np.log10(train_df.friends_count).replace([-np.inf], -10))\n",
    "sbn.kdeplot(ax=ax[2, 0], data=train_df.followers_count)\n",
    "sbn.kdeplot(ax=ax[2, 1], data=np.log10(train_df.followers_count).replace([-np.inf], -10))\n",
    "sbn.kdeplot(ax=ax[3, 0], data=train_df.statuses_count)\n",
    "sbn.kdeplot(ax=ax[3, 1], data=np.log10(train_df.statuses_count).replace([-np.inf], -10))\n",
    "\n",
    "fig.tight_layout()\n",
    "plt.show()"
   ],
   "metadata": {
    "collapsed": false
   }
  },
  {
   "cell_type": "code",
   "execution_count": null,
   "outputs": [],
   "source": [
    "new_train_df.favorites_count = np.log10(train_df_input.favorites_count).replace([-np.inf], -10)\n",
    "new_train_df.friends_count = np.log10(train_df_input.friends_count).replace([-np.inf], -10)\n",
    "new_train_df.followers_count = np.log10(train_df_input.followers_count).replace([-np.inf], -10)\n",
    "new_train_df.statuses_count = np.log10(train_df_input.statuses_count).replace([-np.inf], -10)"
   ],
   "metadata": {
    "collapsed": false
   }
  },
  {
   "cell_type": "code",
   "execution_count": null,
   "outputs": [],
   "source": [
    "new_train_df"
   ],
   "metadata": {
    "collapsed": false
   }
  },
  {
   "cell_type": "code",
   "execution_count": null,
   "outputs": [],
   "source": [
    "baseline_score = score_dataset(new_train_df.values, train_df['retweets_count'].values)\n",
    "print(f'Baseline score: {baseline_score:.5f} MAE')"
   ],
   "metadata": {
    "collapsed": false
   }
  },
  {
   "cell_type": "code",
   "execution_count": null,
   "outputs": [],
   "source": [
    "scaler = sklearn.preprocessing.StandardScaler()\n",
    "scaler.fit(new_train_df)\n",
    "\n",
    "kmeans = sklearn.cluster.KMeans(n_clusters=9, random_state=0).fit(scaler.transform(new_train_df))"
   ],
   "metadata": {
    "collapsed": false
   }
  },
  {
   "cell_type": "code",
   "execution_count": null,
   "outputs": [],
   "source": [
    "for i in range(kmeans.n_clusters):\n",
    "    mean_rtwts = train_df[kmeans.labels_ == i]['retweets_count'].mean()\n",
    "    print(f'Cluster {i} mean retweets: {mean_rtwts}')"
   ],
   "metadata": {
    "collapsed": false
   }
  },
  {
   "cell_type": "code",
   "execution_count": null,
   "outputs": [],
   "source": [
    "new_train_df['cluster'] = kmeans.labels_\n",
    "new_train_df['cluster'] = new_train_df['cluster'].astype('category')"
   ],
   "metadata": {
    "collapsed": false
   }
  },
  {
   "cell_type": "code",
   "execution_count": null,
   "outputs": [],
   "source": [
    "baseline_score = score_dataset(new_train_df.values, train_df['retweets_count'].values)\n",
    "print(f'Baseline score: {baseline_score:.5f} MAE')"
   ],
   "metadata": {
    "collapsed": false
   }
  },
  {
   "cell_type": "code",
   "execution_count": null,
   "outputs": [],
   "source": [
    "hashtags_temp = train_df.explode('hashtags')[['hashtags', 'retweets_count']].groupby('hashtags').mean()\n",
    "hashtags_temp"
   ],
   "metadata": {
    "collapsed": false
   }
  },
  {
   "cell_type": "code",
   "execution_count": null,
   "outputs": [],
   "source": [
    "retweet_hash_avg = hashtags_temp.to_dict()['retweets_count']\n",
    "retweet_hash_avg"
   ],
   "metadata": {
    "collapsed": false
   }
  },
  {
   "cell_type": "code",
   "execution_count": null,
   "outputs": [],
   "source": [
    "def get_list_avg(list_obj):\n",
    "    sum = 0\n",
    "    for hash in list_obj:\n",
    "        sum += retweet_hash_avg[hash] if hash in retweet_hash_avg else -1.0\n",
    "    return sum / len(list_obj) if list_obj else -1.0\n",
    "\n",
    "new_train_df['retweet_hash_avg'] = train_df['hashtags'].apply(get_list_avg)"
   ],
   "metadata": {
    "collapsed": false
   }
  },
  {
   "cell_type": "code",
   "execution_count": null,
   "outputs": [],
   "source": [
    "baseline_score = score_dataset(new_train_df.values, train_df['retweets_count'].values)\n",
    "print(f'Baseline score: {baseline_score:.5f} MAE')"
   ],
   "metadata": {
    "collapsed": false
   }
  },
  {
   "cell_type": "code",
   "execution_count": null,
   "outputs": [],
   "source": [
    "test_hashs = test_df.explode('hashtags')['hashtags'].unique()[1:]\n",
    "sum = 0\n",
    "for i in range(len(test_hashs)):\n",
    "    if test_hashs[i] in retweet_hash_avg:\n",
    "        sum += 1\n",
    "print(sum, len(test_hashs))"
   ],
   "metadata": {
    "collapsed": false
   }
  },
  {
   "cell_type": "code",
   "execution_count": 13,
   "outputs": [],
   "source": [
    "def feature_engineering(df: pd.DataFrame, type: str = 'train'):\n",
    "    final_df = df.drop(['text', 'urls', 'hashtags', 'tm_sec', 'tm_isdst'], axis=1)\n",
    "    if type == 'train':\n",
    "        final_df = final_df.drop('retweets_count', axis=1)\n",
    "\n",
    "    def has_rt(word_list):\n",
    "        return int('rt' in word_list)\n",
    "    final_df['has_rt'] = df['text'].apply(has_rt)\n",
    "\n",
    "\n",
    "\n",
    "    return final_df"
   ],
   "metadata": {
    "collapsed": false
   }
  },
  {
   "cell_type": "code",
   "execution_count": 14,
   "outputs": [],
   "source": [
    "train_X = feature_engineering(train_df)\n",
    "train_y = train_df['retweets_count']\n",
    "test_X = feature_engineering(test_df, type='test')"
   ],
   "metadata": {
    "collapsed": false
   }
  },
  {
   "cell_type": "code",
   "execution_count": 15,
   "outputs": [
    {
     "data": {
      "text/plain": "Index(['favorites_count', 'followers_count', 'statuses_count', 'friends_count',\n       'verified', 'url_count', 'hashtag_count', 'tm_year', 'tm_mon',\n       'tm_mday', 'tm_hour', 'tm_min', 'tm_wday', 'tm_yday', 'has_rt'],\n      dtype='object')"
     },
     "execution_count": 15,
     "metadata": {},
     "output_type": "execute_result"
    }
   ],
   "source": [
    "train_X.columns"
   ],
   "metadata": {
    "collapsed": false
   }
  },
  {
   "cell_type": "markdown",
   "source": [
    "# NLP"
   ],
   "metadata": {
    "collapsed": false
   }
  },
  {
   "cell_type": "code",
   "execution_count": 16,
   "outputs": [],
   "source": [
    "nlp_model = gensim.models.Word2Vec.load('models/word2vec.model')\n",
    "\n",
    "train_tweets = read_train_df['text'].apply(str.split).to_list()\n",
    "train_dictionary = gensim.corpora.Dictionary(train_tweets)\n",
    "train_corpus = [train_dictionary.doc2bow(tweet) for tweet in train_tweets]\n",
    "\n",
    "tfidf = gensim.models.TfidfModel(train_corpus)"
   ],
   "metadata": {
    "collapsed": false
   }
  },
  {
   "cell_type": "code",
   "execution_count": 17,
   "outputs": [
    {
     "data": {
      "text/plain": "array([[-0.34097174, -0.75957348, -0.15579288, ...,  0.0065471 ,\n        -0.52710954,  0.27569291],\n       [ 0.3835026 , -0.98868424,  0.58028591, ..., -0.27867833,\n        -0.58915681, -0.01707973],\n       [ 0.04521481, -0.70911671,  0.48490373, ..., -0.26177776,\n        -0.42644528,  0.41183245],\n       ...,\n       [ 0.08461105,  0.26366791,  0.21571769, ..., -0.00414332,\n        -1.31368342,  0.14527826],\n       [ 0.29872605, -0.81151386,  0.4763167 , ..., -0.35392145,\n        -1.15688684,  0.35855108],\n       [-0.5075289 , -0.66268525,  0.29968788, ..., -0.17514202,\n        -0.74973956,  0.49627538]])"
     },
     "execution_count": 17,
     "metadata": {},
     "output_type": "execute_result"
    }
   ],
   "source": [
    "text = read_train_df['text']\n",
    "\n",
    "text_embed = np.zeros((len(text), nlp_model.vector_size))\n",
    "\n",
    "for i in range(len(text)):\n",
    "    encoded_words = [word for word in text.iloc[i].split(' ') if word in nlp_model.wv and\n",
    "                     word in train_dictionary.token2id]\n",
    "    if encoded_words:\n",
    "        keys = [train_dictionary.token2id[word] for word in encoded_words]\n",
    "        tf_idf_dict = dict(tfidf[train_corpus[i]])\n",
    "        tf_idf_coefs = np.array([tf_idf_dict[key] for key in keys])\n",
    "\n",
    "        text_vec = nlp_model.wv[encoded_words]\n",
    "        text_vec = (text_vec * tf_idf_coefs[:, None]).sum(0)\n",
    "    else:\n",
    "        text_vec = np.zeros((nlp_model.vector_size, ))\n",
    "\n",
    "    text_embed[i] = text_vec\n",
    "\n",
    "text_embed"
   ],
   "metadata": {
    "collapsed": false
   }
  },
  {
   "cell_type": "code",
   "execution_count": 18,
   "outputs": [],
   "source": [
    "from models.conv1d_w2v_mlp import ConvWord2VecModel"
   ],
   "metadata": {
    "collapsed": false
   }
  },
  {
   "cell_type": "code",
   "execution_count": 19,
   "outputs": [
    {
     "data": {
      "text/plain": "ConvWord2VecModel(\n  (conv): Sequential(\n    (0): Conv1d(1, 16, kernel_size=(5,), stride=(1,))\n    (1): BatchNorm1d(16, eps=1e-05, momentum=0.1, affine=True, track_running_stats=True)\n    (2): ReLU()\n    (3): MaxPool1d(kernel_size=2, stride=2, padding=0, dilation=1, ceil_mode=False)\n    (4): Dropout(p=0.3, inplace=False)\n    (5): Conv1d(16, 16, kernel_size=(5,), stride=(2,))\n    (6): BatchNorm1d(16, eps=1e-05, momentum=0.1, affine=True, track_running_stats=True)\n    (7): ReLU()\n    (8): Dropout(p=0.3, inplace=False)\n    (9): Conv1d(16, 64, kernel_size=(5,), stride=(1,))\n    (10): BatchNorm1d(64, eps=1e-05, momentum=0.1, affine=True, track_running_stats=True)\n    (11): ReLU()\n    (12): MaxPool1d(kernel_size=2, stride=2, padding=0, dilation=1, ceil_mode=False)\n    (13): Dropout(p=0.3, inplace=False)\n    (14): Conv1d(64, 64, kernel_size=(5,), stride=(2,))\n    (15): BatchNorm1d(64, eps=1e-05, momentum=0.1, affine=True, track_running_stats=True)\n    (16): ReLU()\n    (17): Dropout(p=0.3, inplace=False)\n    (18): Conv1d(64, 128, kernel_size=(5,), stride=(1,))\n    (19): BatchNorm1d(128, eps=1e-05, momentum=0.1, affine=True, track_running_stats=True)\n    (20): ReLU()\n    (21): MaxPool1d(kernel_size=2, stride=2, padding=0, dilation=1, ceil_mode=False)\n    (22): Dropout(p=0.3, inplace=False)\n    (23): Conv1d(128, 128, kernel_size=(3,), stride=(1,))\n    (24): BatchNorm1d(128, eps=1e-05, momentum=0.1, affine=True, track_running_stats=True)\n    (25): ReLU()\n    (26): Conv1d(128, 4, kernel_size=(1,), stride=(1,))\n    (27): BatchNorm1d(4, eps=1e-05, momentum=0.1, affine=True, track_running_stats=True)\n    (28): Flatten(start_dim=1, end_dim=-1)\n  )\n  (input): Linear(in_features=23, out_features=128, bias=True)\n  (hidden_layers): Sequential(\n    (layer1): Linear(in_features=128, out_features=128, bias=True)\n    (relu1): ReLU()\n    (dropout1): Dropout(p=0.3, inplace=False)\n    (layer2): Linear(in_features=128, out_features=128, bias=True)\n    (relu2): ReLU()\n    (dropout2): Dropout(p=0.3, inplace=False)\n  )\n  (output): Linear(in_features=128, out_features=1, bias=True)\n  (relu): ReLU()\n)"
     },
     "execution_count": 19,
     "metadata": {},
     "output_type": "execute_result"
    }
   ],
   "source": [
    "conv_model = ConvWord2VecModel.load_from_checkpoint('checkpoints/Conv2_to8_W2V_256_tfidf_MLP_15fts_4_128_LR1e-3cosine72etaMin5e-5_AdamW_dropout0.3_hasRT_CV/checkpoints/epoch=62-split=0.ckpt')\n",
    "conv_model.eval()"
   ],
   "metadata": {
    "collapsed": false
   }
  },
  {
   "cell_type": "code",
   "execution_count": 20,
   "outputs": [],
   "source": [
    "kf = sklearn.model_selection.KFold(n_splits=10, shuffle=True, random_state=12345)\n",
    "all_splits = [i for i in kf.split(train_X)]\n",
    "train_indexes, val_indexes = all_splits[0]"
   ],
   "metadata": {
    "collapsed": false
   }
  },
  {
   "cell_type": "code",
   "execution_count": 21,
   "outputs": [],
   "source": [
    "train_X_arr = train_X.values\n",
    "scaler = sklearn.preprocessing.StandardScaler()\n",
    "train_X_arr = scaler.fit_transform(train_X_arr)"
   ],
   "metadata": {
    "collapsed": false
   }
  },
  {
   "cell_type": "code",
   "execution_count": 22,
   "outputs": [],
   "source": [
    "train_X_arr = np.concatenate([train_X_arr, text_embed], axis=1)"
   ],
   "metadata": {
    "collapsed": false
   }
  },
  {
   "cell_type": "code",
   "execution_count": 23,
   "outputs": [],
   "source": [
    "input_dict = (torch.tensor(train_X_arr[val_indexes]), torch.tensor(train_y.values[val_indexes]))"
   ],
   "metadata": {
    "collapsed": false
   }
  },
  {
   "cell_type": "code",
   "execution_count": 24,
   "outputs": [],
   "source": [
    "val_results = conv_model(input_dict).detach().numpy()"
   ],
   "metadata": {
    "collapsed": false
   }
  },
  {
   "cell_type": "code",
   "execution_count": 26,
   "outputs": [
    {
     "data": {
      "text/plain": "<Figure size 640x480 with 1 Axes>",
      "image/png": "[encoded data removed]"
     },
     "metadata": {},
     "output_type": "display_data"
    }
   ],
   "source": [
    "plt.stem(np.abs(val_results - train_y.values[val_indexes]))\n",
    "plt.show()"
   ],
   "metadata": {
    "collapsed": false
   }
  },
  {
   "cell_type": "code",
   "execution_count": 25,
   "outputs": [
    {
     "data": {
      "text/plain": "5.476503286141309"
     },
     "execution_count": 25,
     "metadata": {},
     "output_type": "execute_result"
    }
   ],
   "source": [
    "np.abs(val_results - train_y.values[val_indexes]).mean()"
   ],
   "metadata": {
    "collapsed": false
   }
  },
  {
   "cell_type": "code",
   "execution_count": 68,
   "outputs": [
    {
     "data": {
      "text/plain": "           gt          pred           ae      mult\n1499     3168   2080.880615  1087.119385  1.522432\n50796    2879   1768.038086  1110.961914  1.628359\n51870   11654  10480.033203  1173.966797  1.112019\n71897    3831   1805.702393  2025.297607  2.121612\n86806    5893   7600.145508  1707.145508  0.775380\n97881    1772    438.741669  1333.258331  4.038823\n103039  36512  29328.304688  7183.695312  1.244941\n107751   7782   5316.086914  2465.913086  1.463859\n125744   1530    518.951660  1011.048340  2.948251\n130573   3610   6116.443359  2506.443359  0.590212\n144509   2688    666.359009  2021.640991  4.033862\n149275   2870   1345.823242  1524.176758  2.132524\n167711   5137   1870.592041  3266.407959  2.746189\n177781   3218   1628.746338  1589.253662  1.975753\n178362   6907   4355.697266  2551.302734  1.585739\n188332   4033   2981.981934  1051.018066  1.352456\n225418   5030   8882.082031  3852.082031  0.566309\n308986   3812   2790.187744  1021.812256  1.366216\n318995   7664  10469.643555  2805.643555  0.732021\n333850   1976   3882.769531  1906.769531  0.508915\n340174   1135   2149.457764  1014.457764  0.528040\n345894   2218    977.575012  1240.424988  2.268880\n351100   3827   2413.156006  1413.843994  1.585890",
      "text/html": "<div>\n<style scoped>\n    .dataframe tbody tr th:only-of-type {\n        vertical-align: middle;\n    }\n\n    .dataframe tbody tr th {\n        vertical-align: top;\n    }\n\n    .dataframe thead th {\n        text-align: right;\n    }\n</style>\n<table border=\"1\" class=\"dataframe\">\n  <thead>\n    <tr style=\"text-align: right;\">\n      <th></th>\n      <th>gt</th>\n      <th>pred</th>\n      <th>ae</th>\n      <th>mult</th>\n    </tr>\n  </thead>\n  <tbody>\n    <tr>\n      <th>1499</th>\n      <td>3168</td>\n      <td>2080.880615</td>\n      <td>1087.119385</td>\n      <td>1.522432</td>\n    </tr>\n    <tr>\n      <th>50796</th>\n      <td>2879</td>\n      <td>1768.038086</td>\n      <td>1110.961914</td>\n      <td>1.628359</td>\n    </tr>\n    <tr>\n      <th>51870</th>\n      <td>11654</td>\n      <td>10480.033203</td>\n      <td>1173.966797</td>\n      <td>1.112019</td>\n    </tr>\n    <tr>\n      <th>71897</th>\n      <td>3831</td>\n      <td>1805.702393</td>\n      <td>2025.297607</td>\n      <td>2.121612</td>\n    </tr>\n    <tr>\n      <th>86806</th>\n      <td>5893</td>\n      <td>7600.145508</td>\n      <td>1707.145508</td>\n      <td>0.775380</td>\n    </tr>\n    <tr>\n      <th>97881</th>\n      <td>1772</td>\n      <td>438.741669</td>\n      <td>1333.258331</td>\n      <td>4.038823</td>\n    </tr>\n    <tr>\n      <th>103039</th>\n      <td>36512</td>\n      <td>29328.304688</td>\n      <td>7183.695312</td>\n      <td>1.244941</td>\n    </tr>\n    <tr>\n      <th>107751</th>\n      <td>7782</td>\n      <td>5316.086914</td>\n      <td>2465.913086</td>\n      <td>1.463859</td>\n    </tr>\n    <tr>\n      <th>125744</th>\n      <td>1530</td>\n      <td>518.951660</td>\n      <td>1011.048340</td>\n      <td>2.948251</td>\n    </tr>\n    <tr>\n      <th>130573</th>\n      <td>3610</td>\n      <td>6116.443359</td>\n      <td>2506.443359</td>\n      <td>0.590212</td>\n    </tr>\n    <tr>\n      <th>144509</th>\n      <td>2688</td>\n      <td>666.359009</td>\n      <td>2021.640991</td>\n      <td>4.033862</td>\n    </tr>\n    <tr>\n      <th>149275</th>\n      <td>2870</td>\n      <td>1345.823242</td>\n      <td>1524.176758</td>\n      <td>2.132524</td>\n    </tr>\n    <tr>\n      <th>167711</th>\n      <td>5137</td>\n      <td>1870.592041</td>\n      <td>3266.407959</td>\n      <td>2.746189</td>\n    </tr>\n    <tr>\n      <th>177781</th>\n      <td>3218</td>\n      <td>1628.746338</td>\n      <td>1589.253662</td>\n      <td>1.975753</td>\n    </tr>\n    <tr>\n      <th>178362</th>\n      <td>6907</td>\n      <td>4355.697266</td>\n      <td>2551.302734</td>\n      <td>1.585739</td>\n    </tr>\n    <tr>\n      <th>188332</th>\n      <td>4033</td>\n      <td>2981.981934</td>\n      <td>1051.018066</td>\n      <td>1.352456</td>\n    </tr>\n    <tr>\n      <th>225418</th>\n      <td>5030</td>\n      <td>8882.082031</td>\n      <td>3852.082031</td>\n      <td>0.566309</td>\n    </tr>\n    <tr>\n      <th>308986</th>\n      <td>3812</td>\n      <td>2790.187744</td>\n      <td>1021.812256</td>\n      <td>1.366216</td>\n    </tr>\n    <tr>\n      <th>318995</th>\n      <td>7664</td>\n      <td>10469.643555</td>\n      <td>2805.643555</td>\n      <td>0.732021</td>\n    </tr>\n    <tr>\n      <th>333850</th>\n      <td>1976</td>\n      <td>3882.769531</td>\n      <td>1906.769531</td>\n      <td>0.508915</td>\n    </tr>\n    <tr>\n      <th>340174</th>\n      <td>1135</td>\n      <td>2149.457764</td>\n      <td>1014.457764</td>\n      <td>0.528040</td>\n    </tr>\n    <tr>\n      <th>345894</th>\n      <td>2218</td>\n      <td>977.575012</td>\n      <td>1240.424988</td>\n      <td>2.268880</td>\n    </tr>\n    <tr>\n      <th>351100</th>\n      <td>3827</td>\n      <td>2413.156006</td>\n      <td>1413.843994</td>\n      <td>1.585890</td>\n    </tr>\n  </tbody>\n</table>\n</div>"
     },
     "execution_count": 68,
     "metadata": {},
     "output_type": "execute_result"
    }
   ],
   "source": [
    "gts = train_y.iloc[val_indexes][np.abs(val_results - train_y.values[val_indexes]) > 1000]\n",
    "preds = val_results[np.abs(val_results - train_y.values[val_indexes]) > 1000]\n",
    "error_analysis = pd.DataFrame(data={'gt': gts, 'pred': preds, 'ae': np.abs(gts - preds), 'mult': gts / preds},)\n",
    "\n",
    "error_analysis"
   ],
   "metadata": {
    "collapsed": false
   }
  },
  {
   "cell_type": "code",
   "execution_count": 49,
   "outputs": [
    {
     "data": {
      "text/plain": "(1.6882035794946118, 1.0075940728672408)"
     },
     "execution_count": 49,
     "metadata": {},
     "output_type": "execute_result"
    }
   ],
   "source": [
    "error_analysis['mult'].mean(), error_analysis['mult'].std()"
   ],
   "metadata": {
    "collapsed": false
   }
  },
  {
   "cell_type": "code",
   "execution_count": 53,
   "outputs": [
    {
     "data": {
      "text/plain": "1499        5727\n50796       8352\n51870      16053\n71897       6526\n86806      35451\n97881       2816\n103039    117691\n107751     17634\n125744      1758\n130573      7380\n144509      1175\n149275      4615\n167711      8867\n177781      4914\n178362     27479\n188332      3021\n225418     57322\n308986      6505\n318995     38194\n333850     10895\n340174      3227\n345894      2585\n351100      4490\nName: favorites_count, dtype: int64"
     },
     "execution_count": 53,
     "metadata": {},
     "output_type": "execute_result"
    }
   ],
   "source": [
    "read_train_df.iloc[val_indexes][np.abs(val_results - train_y.values[val_indexes]) > 1000]['favorites_count']"
   ],
   "metadata": {
    "collapsed": false
   }
  },
  {
   "cell_type": "code",
   "execution_count": 69,
   "outputs": [
    {
     "data": {
      "text/plain": "<matplotlib.collections.PathCollection at 0x273d7c52400>"
     },
     "execution_count": 69,
     "metadata": {},
     "output_type": "execute_result"
    },
    {
     "data": {
      "text/plain": "<Figure size 640x480 with 1 Axes>",
      "image/png": "[encoded data removed]"
     },
     "metadata": {},
     "output_type": "display_data"
    }
   ],
   "source": [
    "plt.scatter(read_train_df.iloc[val_indexes][np.abs(val_results - train_y.values[val_indexes]) > 1000]['favorites_count'], error_analysis['ae'])"
   ],
   "metadata": {
    "collapsed": false
   }
  },
  {
   "cell_type": "code",
   "execution_count": 70,
   "outputs": [
    {
     "data": {
      "text/plain": "array([4.71934673e-02, 1.23182151e+03])"
     },
     "execution_count": 70,
     "metadata": {},
     "output_type": "execute_result"
    }
   ],
   "source": [
    "fit = np.polyfit(read_train_df.iloc[val_indexes][np.abs(val_results - train_y.values[val_indexes]) > 1000]['favorites_count'], error_analysis['ae'], 1, )\n",
    "\n",
    "fit"
   ],
   "metadata": {
    "collapsed": false
   }
  },
  {
   "cell_type": "markdown",
   "source": [
    "    # Make submission"
   ],
   "metadata": {
    "collapsed": false
   }
  },
  {
   "cell_type": "code",
   "execution_count": null,
   "outputs": [],
   "source": [
    "make_submission = True\n",
    "\n",
    "if make_submission:\n",
    "    test_ids = read_train_df['TweetID'].iloc[val_indexes]\n",
    "    # model = xgboost.XGBRegressor(verbosity=1, max_depth=10)\n",
    "    # model.fit(full_train_X, train_y)\n",
    "    #\n",
    "    # test_predictions = model.predict(full_test_X)\n",
    "\n",
    "    submission_df = pd.DataFrame(data={'TweetID': test_ids, 'retweets_count': val_results})\n",
    "    submission_df.to_csv('data/val_predictions.csv', index=False)\n",
    "\n",
    "    print('Saved csv')"
   ],
   "metadata": {
    "collapsed": false
   }
  }
 ],
 "metadata": {
  "kernelspec": {
   "display_name": "Python 3",
   "language": "python",
   "name": "python3"
  },
  "language_info": {
   "codemirror_mode": {
    "name": "ipython",
    "version": 2
   },
   "file_extension": ".py",
   "mimetype": "text/x-python",
   "name": "python",
   "nbconvert_exporter": "python",
   "pygments_lexer": "ipython2",
   "version": "2.7.6"
  }
 },
 "nbformat": 4,
 "nbformat_minor": 0
}
