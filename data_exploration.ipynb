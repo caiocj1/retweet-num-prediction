{
 "cells": [
  {
   "cell_type": "markdown",
   "source": [
    "# Data Exploration"
   ],
   "metadata": {
    "collapsed": false
   }
  },
  {
   "cell_type": "markdown",
   "source": [
    "## Setup"
   ],
   "metadata": {
    "collapsed": false
   }
  },
  {
   "cell_type": "code",
   "execution_count": 1,
   "outputs": [
    {
     "name": "stderr",
     "output_type": "stream",
     "text": [
      "C:\\Users\\caioj\\Anaconda3\\envs\\forest-env\\lib\\site-packages\\xgboost\\compat.py:36: FutureWarning: pandas.Int64Index is deprecated and will be removed from pandas in a future version. Use pandas.Index with the appropriate dtype instead.\n",
      "  from pandas import MultiIndex, Int64Index\n"
     ]
    }
   ],
   "source": [
    "import numpy as np\n",
    "import pandas as pd\n",
    "import sklearn\n",
    "import sklearn.neighbors\n",
    "import sklearn.ensemble\n",
    "import sklearn.cluster\n",
    "import sklearn.feature_selection\n",
    "import matplotlib.pyplot as plt\n",
    "import ast\n",
    "import gensim, logging\n",
    "import xgboost\n",
    "import lightgbm\n",
    "import datetime\n",
    "import seaborn as sbn\n",
    "import torch"
   ],
   "metadata": {
    "collapsed": false
   }
  },
  {
   "cell_type": "code",
   "execution_count": 2,
   "outputs": [
    {
     "data": {
      "text/plain": "       retweets_count  favorites_count  followers_count  statuses_count  \\\ncount   353969.000000    353969.000000     3.539690e+05    3.539690e+05   \nmean        15.831810        46.655442     2.021548e+04    4.808507e+04   \nstd        241.986723       852.044385     2.598715e+05    1.133854e+05   \nmin          0.000000         0.000000     0.000000e+00    1.000000e+00   \n25%          0.000000         0.000000     1.600000e+02    2.972000e+03   \n50%          1.000000         0.000000     7.260000e+02    1.250100e+04   \n75%          3.000000         1.000000     2.283000e+03    4.352200e+04   \nmax      63674.000000    122591.000000     1.441710e+07    8.183508e+06   \n\n       friends_count       verified     timestamp       TweetID  \ncount  353969.000000  353969.000000  3.539690e+05  3.539690e+05  \nmean     1459.289003       0.030005  1.647004e+12  6.872503e+05  \nstd      2502.933271       0.170602  4.846468e+09  4.175793e+05  \nmin         0.000000       0.000000  1.301178e+12  3.000000e+00  \n25%       214.000000       0.000000  1.647068e+12  3.194490e+05  \n50%       693.000000       0.000000  1.647292e+12  6.719730e+05  \n75%      1804.000000       0.000000  1.647532e+12  1.049644e+06  \nmax    237269.000000       1.000000  1.647727e+12  1.434456e+06  ",
      "text/html": "<div>\n<style scoped>\n    .dataframe tbody tr th:only-of-type {\n        vertical-align: middle;\n    }\n\n    .dataframe tbody tr th {\n        vertical-align: top;\n    }\n\n    .dataframe thead th {\n        text-align: right;\n    }\n</style>\n<table border=\"1\" class=\"dataframe\">\n  <thead>\n    <tr style=\"text-align: right;\">\n      <th></th>\n      <th>retweets_count</th>\n      <th>favorites_count</th>\n      <th>followers_count</th>\n      <th>statuses_count</th>\n      <th>friends_count</th>\n      <th>verified</th>\n      <th>timestamp</th>\n      <th>TweetID</th>\n    </tr>\n  </thead>\n  <tbody>\n    <tr>\n      <th>count</th>\n      <td>353969.000000</td>\n      <td>353969.000000</td>\n      <td>3.539690e+05</td>\n      <td>3.539690e+05</td>\n      <td>353969.000000</td>\n      <td>353969.000000</td>\n      <td>3.539690e+05</td>\n      <td>3.539690e+05</td>\n    </tr>\n    <tr>\n      <th>mean</th>\n      <td>15.831810</td>\n      <td>46.655442</td>\n      <td>2.021548e+04</td>\n      <td>4.808507e+04</td>\n      <td>1459.289003</td>\n      <td>0.030005</td>\n      <td>1.647004e+12</td>\n      <td>6.872503e+05</td>\n    </tr>\n    <tr>\n      <th>std</th>\n      <td>241.986723</td>\n      <td>852.044385</td>\n      <td>2.598715e+05</td>\n      <td>1.133854e+05</td>\n      <td>2502.933271</td>\n      <td>0.170602</td>\n      <td>4.846468e+09</td>\n      <td>4.175793e+05</td>\n    </tr>\n    <tr>\n      <th>min</th>\n      <td>0.000000</td>\n      <td>0.000000</td>\n      <td>0.000000e+00</td>\n      <td>1.000000e+00</td>\n      <td>0.000000</td>\n      <td>0.000000</td>\n      <td>1.301178e+12</td>\n      <td>3.000000e+00</td>\n    </tr>\n    <tr>\n      <th>25%</th>\n      <td>0.000000</td>\n      <td>0.000000</td>\n      <td>1.600000e+02</td>\n      <td>2.972000e+03</td>\n      <td>214.000000</td>\n      <td>0.000000</td>\n      <td>1.647068e+12</td>\n      <td>3.194490e+05</td>\n    </tr>\n    <tr>\n      <th>50%</th>\n      <td>1.000000</td>\n      <td>0.000000</td>\n      <td>7.260000e+02</td>\n      <td>1.250100e+04</td>\n      <td>693.000000</td>\n      <td>0.000000</td>\n      <td>1.647292e+12</td>\n      <td>6.719730e+05</td>\n    </tr>\n    <tr>\n      <th>75%</th>\n      <td>3.000000</td>\n      <td>1.000000</td>\n      <td>2.283000e+03</td>\n      <td>4.352200e+04</td>\n      <td>1804.000000</td>\n      <td>0.000000</td>\n      <td>1.647532e+12</td>\n      <td>1.049644e+06</td>\n    </tr>\n    <tr>\n      <th>max</th>\n      <td>63674.000000</td>\n      <td>122591.000000</td>\n      <td>1.441710e+07</td>\n      <td>8.183508e+06</td>\n      <td>237269.000000</td>\n      <td>1.000000</td>\n      <td>1.647727e+12</td>\n      <td>1.434456e+06</td>\n    </tr>\n  </tbody>\n</table>\n</div>"
     },
     "execution_count": 2,
     "metadata": {},
     "output_type": "execute_result"
    }
   ],
   "source": [
    "read_train_df = pd.read_csv('data/train.csv')\n",
    "read_test_df = pd.read_csv('data/evaluation.csv')\n",
    "read_train_df.describe()"
   ],
   "metadata": {
    "collapsed": false
   }
  },
  {
   "cell_type": "code",
   "execution_count": 3,
   "outputs": [
    {
     "data": {
      "text/plain": "                                                     text  retweets_count  \\\n0                      rt refarcir macron ans nom prépare               3   \n1                                               populaire               0   \n2                                     faut dégager cinglé               3   \n3       enseignants mettre prescriptions président rép...               0   \n4                              mafieuse oppressive macron               0   \n...                                                   ...             ...   \n353964                     gonflette tour raciste frustré               0   \n353965  france caste crapuleuse encadrée gangsters irr...               0   \n353966                      eric zemmour français berbère               3   \n353967                           gauchistes dépression pq               0   \n353968      algérie emmanuel macron grande histoire amour               0   \n\n        favorites_count  followers_count  statuses_count  friends_count  \\\n0                     0             3682          453535           3628   \n1                     0               86            1016            284   \n2                     1             1944           28234           1995   \n3                     0                1            1072              0   \n4                     0            13957           25311          10841   \n...                 ...              ...             ...            ...   \n353964                0               34            1509             55   \n353965                0               89           11166            127   \n353966                0             1888             712           3086   \n353967                0              139             486            320   \n353968                0                0              82             24   \n\n       mentions                         urls  verified hashtags  \\\n0            []                           []         0       []   \n1            []                           []         0       []   \n2            []                           []         0       []   \n3            []  ['https://t.co/rytlted08g']         0       []   \n4            []                           []         0       []   \n...         ...                          ...       ...      ...   \n353964       []  ['https://t.co/pma33zhslx']         0       []   \n353965       []                           []         0       []   \n353966       []                           []         0       []   \n353967       []                           []         0       []   \n353968       []                           []         0       []   \n\n            timestamp  TweetID  \n0       1646978048000   832509  \n1       1647694288000  1388011  \n2       1647370048000    63896  \n3       1647256282000   979251  \n4       1647258374000  1040049  \n...               ...      ...  \n353964  1647438153000   142573  \n353965  1647072106000   240866  \n353966  1647607230000  1173763  \n353967  1646987195000   929182  \n353968  1647602843000  1250518  \n\n[353969 rows x 12 columns]",
      "text/html": "<div>\n<style scoped>\n    .dataframe tbody tr th:only-of-type {\n        vertical-align: middle;\n    }\n\n    .dataframe tbody tr th {\n        vertical-align: top;\n    }\n\n    .dataframe thead th {\n        text-align: right;\n    }\n</style>\n<table border=\"1\" class=\"dataframe\">\n  <thead>\n    <tr style=\"text-align: right;\">\n      <th></th>\n      <th>text</th>\n      <th>retweets_count</th>\n      <th>favorites_count</th>\n      <th>followers_count</th>\n      <th>statuses_count</th>\n      <th>friends_count</th>\n      <th>mentions</th>\n      <th>urls</th>\n      <th>verified</th>\n      <th>hashtags</th>\n      <th>timestamp</th>\n      <th>TweetID</th>\n    </tr>\n  </thead>\n  <tbody>\n    <tr>\n      <th>0</th>\n      <td>rt refarcir macron ans nom prépare</td>\n      <td>3</td>\n      <td>0</td>\n      <td>3682</td>\n      <td>453535</td>\n      <td>3628</td>\n      <td>[]</td>\n      <td>[]</td>\n      <td>0</td>\n      <td>[]</td>\n      <td>1646978048000</td>\n      <td>832509</td>\n    </tr>\n    <tr>\n      <th>1</th>\n      <td>populaire</td>\n      <td>0</td>\n      <td>0</td>\n      <td>86</td>\n      <td>1016</td>\n      <td>284</td>\n      <td>[]</td>\n      <td>[]</td>\n      <td>0</td>\n      <td>[]</td>\n      <td>1647694288000</td>\n      <td>1388011</td>\n    </tr>\n    <tr>\n      <th>2</th>\n      <td>faut dégager cinglé</td>\n      <td>3</td>\n      <td>1</td>\n      <td>1944</td>\n      <td>28234</td>\n      <td>1995</td>\n      <td>[]</td>\n      <td>[]</td>\n      <td>0</td>\n      <td>[]</td>\n      <td>1647370048000</td>\n      <td>63896</td>\n    </tr>\n    <tr>\n      <th>3</th>\n      <td>enseignants mettre prescriptions président rép...</td>\n      <td>0</td>\n      <td>0</td>\n      <td>1</td>\n      <td>1072</td>\n      <td>0</td>\n      <td>[]</td>\n      <td>['https://t.co/rytlted08g']</td>\n      <td>0</td>\n      <td>[]</td>\n      <td>1647256282000</td>\n      <td>979251</td>\n    </tr>\n    <tr>\n      <th>4</th>\n      <td>mafieuse oppressive macron</td>\n      <td>0</td>\n      <td>0</td>\n      <td>13957</td>\n      <td>25311</td>\n      <td>10841</td>\n      <td>[]</td>\n      <td>[]</td>\n      <td>0</td>\n      <td>[]</td>\n      <td>1647258374000</td>\n      <td>1040049</td>\n    </tr>\n    <tr>\n      <th>...</th>\n      <td>...</td>\n      <td>...</td>\n      <td>...</td>\n      <td>...</td>\n      <td>...</td>\n      <td>...</td>\n      <td>...</td>\n      <td>...</td>\n      <td>...</td>\n      <td>...</td>\n      <td>...</td>\n      <td>...</td>\n    </tr>\n    <tr>\n      <th>353964</th>\n      <td>gonflette tour raciste frustré</td>\n      <td>0</td>\n      <td>0</td>\n      <td>34</td>\n      <td>1509</td>\n      <td>55</td>\n      <td>[]</td>\n      <td>['https://t.co/pma33zhslx']</td>\n      <td>0</td>\n      <td>[]</td>\n      <td>1647438153000</td>\n      <td>142573</td>\n    </tr>\n    <tr>\n      <th>353965</th>\n      <td>france caste crapuleuse encadrée gangsters irr...</td>\n      <td>0</td>\n      <td>0</td>\n      <td>89</td>\n      <td>11166</td>\n      <td>127</td>\n      <td>[]</td>\n      <td>[]</td>\n      <td>0</td>\n      <td>[]</td>\n      <td>1647072106000</td>\n      <td>240866</td>\n    </tr>\n    <tr>\n      <th>353966</th>\n      <td>eric zemmour français berbère</td>\n      <td>3</td>\n      <td>0</td>\n      <td>1888</td>\n      <td>712</td>\n      <td>3086</td>\n      <td>[]</td>\n      <td>[]</td>\n      <td>0</td>\n      <td>[]</td>\n      <td>1647607230000</td>\n      <td>1173763</td>\n    </tr>\n    <tr>\n      <th>353967</th>\n      <td>gauchistes dépression pq</td>\n      <td>0</td>\n      <td>0</td>\n      <td>139</td>\n      <td>486</td>\n      <td>320</td>\n      <td>[]</td>\n      <td>[]</td>\n      <td>0</td>\n      <td>[]</td>\n      <td>1646987195000</td>\n      <td>929182</td>\n    </tr>\n    <tr>\n      <th>353968</th>\n      <td>algérie emmanuel macron grande histoire amour</td>\n      <td>0</td>\n      <td>0</td>\n      <td>0</td>\n      <td>82</td>\n      <td>24</td>\n      <td>[]</td>\n      <td>[]</td>\n      <td>0</td>\n      <td>[]</td>\n      <td>1647602843000</td>\n      <td>1250518</td>\n    </tr>\n  </tbody>\n</table>\n<p>353969 rows × 12 columns</p>\n</div>"
     },
     "execution_count": 3,
     "metadata": {},
     "output_type": "execute_result"
    }
   ],
   "source": [
    "read_train_df"
   ],
   "metadata": {
    "collapsed": false
   }
  },
  {
   "cell_type": "code",
   "execution_count": 4,
   "outputs": [
    {
     "data": {
      "text/plain": "count    353969.0\nmean          0.0\nstd           0.0\nmin           0.0\n25%           0.0\n50%           0.0\n75%           0.0\nmax           0.0\nName: mentions, dtype: float64"
     },
     "execution_count": 4,
     "metadata": {},
     "output_type": "execute_result"
    }
   ],
   "source": [
    "read_train_df['mentions'].apply(ast.literal_eval).apply(len).describe()"
   ],
   "metadata": {
    "collapsed": false
   }
  },
  {
   "cell_type": "code",
   "execution_count": 5,
   "outputs": [],
   "source": [
    "read_train_df.urls = read_train_df.urls.apply(ast.literal_eval)\n",
    "read_train_df.hashtags = read_train_df.hashtags.apply(ast.literal_eval)\n",
    "\n",
    "read_test_df.urls = read_test_df.urls.apply(ast.literal_eval)\n",
    "read_test_df.hashtags = read_test_df.hashtags.apply(ast.literal_eval)"
   ],
   "metadata": {
    "collapsed": false
   }
  },
  {
   "cell_type": "code",
   "execution_count": 6,
   "outputs": [],
   "source": [
    "def format_df(df: pd.DataFrame,\n",
    "                  type: str = 'train',\n",
    "                  keep_time: bool = False):\n",
    "    final_df = df.drop(['TweetID', 'mentions', 'timestamp'], axis=1)\n",
    "\n",
    "    final_df['url_count'] = final_df.urls.apply(len)\n",
    "    final_df['hashtag_count'] = final_df.hashtags.apply(len)\n",
    "\n",
    "    if keep_time:\n",
    "        timestamps = df.timestamp // 1000\n",
    "        timestamps = timestamps.apply(datetime.datetime.fromtimestamp).apply(datetime.datetime.timetuple)\n",
    "\n",
    "        time_df = pd.DataFrame(timestamps.tolist(), index=df.index,\n",
    "                               columns=['tm_year', 'tm_mon', 'tm_mday', 'tm_hour', 'tm_min', 'tm_sec', 'tm_wday',\n",
    "                                        'tm_yday', 'tm_isdst'])\n",
    "\n",
    "        final_df = pd.concat([final_df, time_df], axis=1)\n",
    "\n",
    "    return final_df"
   ],
   "metadata": {
    "collapsed": false
   }
  },
  {
   "cell_type": "code",
   "execution_count": 7,
   "outputs": [],
   "source": [
    "train_df = format_df(read_train_df, keep_time=True)\n",
    "test_df = format_df(read_test_df, keep_time=True)"
   ],
   "metadata": {
    "collapsed": false
   }
  },
  {
   "cell_type": "code",
   "execution_count": 8,
   "outputs": [
    {
     "data": {
      "text/plain": "                                                     text  retweets_count  \\\n0                      rt refarcir macron ans nom prépare               3   \n1                                               populaire               0   \n2                                     faut dégager cinglé               3   \n3       enseignants mettre prescriptions président rép...               0   \n4                              mafieuse oppressive macron               0   \n...                                                   ...             ...   \n353964                     gonflette tour raciste frustré               0   \n353965  france caste crapuleuse encadrée gangsters irr...               0   \n353966                      eric zemmour français berbère               3   \n353967                           gauchistes dépression pq               0   \n353968      algérie emmanuel macron grande histoire amour               0   \n\n        favorites_count  followers_count  statuses_count  friends_count  \\\n0                     0             3682          453535           3628   \n1                     0               86            1016            284   \n2                     1             1944           28234           1995   \n3                     0                1            1072              0   \n4                     0            13957           25311          10841   \n...                 ...              ...             ...            ...   \n353964                0               34            1509             55   \n353965                0               89           11166            127   \n353966                0             1888             712           3086   \n353967                0              139             486            320   \n353968                0                0              82             24   \n\n                             urls  verified hashtags  url_count  \\\n0                              []         0       []          0   \n1                              []         0       []          0   \n2                              []         0       []          0   \n3       [https://t.co/rytlted08g]         0       []          1   \n4                              []         0       []          0   \n...                           ...       ...      ...        ...   \n353964  [https://t.co/pma33zhslx]         0       []          1   \n353965                         []         0       []          0   \n353966                         []         0       []          0   \n353967                         []         0       []          0   \n353968                         []         0       []          0   \n\n        hashtag_count  tm_year  tm_mon  tm_mday  tm_hour  tm_min  tm_sec  \\\n0                   0     2022       3       11        6      54       8   \n1                   0     2022       3       19       13      51      28   \n2                   0     2022       3       15       19      47      28   \n3                   0     2022       3       14       12      11      22   \n4                   0     2022       3       14       12      46      14   \n...               ...      ...     ...      ...      ...     ...     ...   \n353964              0     2022       3       16       14      42      33   \n353965              0     2022       3       12        9       1      46   \n353966              0     2022       3       18       13      40      30   \n353967              0     2022       3       11        9      26      35   \n353968              0     2022       3       18       12      27      23   \n\n        tm_wday  tm_yday  tm_isdst  \n0             4       70        -1  \n1             5       78        -1  \n2             1       74        -1  \n3             0       73        -1  \n4             0       73        -1  \n...         ...      ...       ...  \n353964        2       75        -1  \n353965        5       71        -1  \n353966        4       77        -1  \n353967        4       70        -1  \n353968        4       77        -1  \n\n[353969 rows x 20 columns]",
      "text/html": "<div>\n<style scoped>\n    .dataframe tbody tr th:only-of-type {\n        vertical-align: middle;\n    }\n\n    .dataframe tbody tr th {\n        vertical-align: top;\n    }\n\n    .dataframe thead th {\n        text-align: right;\n    }\n</style>\n<table border=\"1\" class=\"dataframe\">\n  <thead>\n    <tr style=\"text-align: right;\">\n      <th></th>\n      <th>text</th>\n      <th>retweets_count</th>\n      <th>favorites_count</th>\n      <th>followers_count</th>\n      <th>statuses_count</th>\n      <th>friends_count</th>\n      <th>urls</th>\n      <th>verified</th>\n      <th>hashtags</th>\n      <th>url_count</th>\n      <th>hashtag_count</th>\n      <th>tm_year</th>\n      <th>tm_mon</th>\n      <th>tm_mday</th>\n      <th>tm_hour</th>\n      <th>tm_min</th>\n      <th>tm_sec</th>\n      <th>tm_wday</th>\n      <th>tm_yday</th>\n      <th>tm_isdst</th>\n    </tr>\n  </thead>\n  <tbody>\n    <tr>\n      <th>0</th>\n      <td>rt refarcir macron ans nom prépare</td>\n      <td>3</td>\n      <td>0</td>\n      <td>3682</td>\n      <td>453535</td>\n      <td>3628</td>\n      <td>[]</td>\n      <td>0</td>\n      <td>[]</td>\n      <td>0</td>\n      <td>0</td>\n      <td>2022</td>\n      <td>3</td>\n      <td>11</td>\n      <td>6</td>\n      <td>54</td>\n      <td>8</td>\n      <td>4</td>\n      <td>70</td>\n      <td>-1</td>\n    </tr>\n    <tr>\n      <th>1</th>\n      <td>populaire</td>\n      <td>0</td>\n      <td>0</td>\n      <td>86</td>\n      <td>1016</td>\n      <td>284</td>\n      <td>[]</td>\n      <td>0</td>\n      <td>[]</td>\n      <td>0</td>\n      <td>0</td>\n      <td>2022</td>\n      <td>3</td>\n      <td>19</td>\n      <td>13</td>\n      <td>51</td>\n      <td>28</td>\n      <td>5</td>\n      <td>78</td>\n      <td>-1</td>\n    </tr>\n    <tr>\n      <th>2</th>\n      <td>faut dégager cinglé</td>\n      <td>3</td>\n      <td>1</td>\n      <td>1944</td>\n      <td>28234</td>\n      <td>1995</td>\n      <td>[]</td>\n      <td>0</td>\n      <td>[]</td>\n      <td>0</td>\n      <td>0</td>\n      <td>2022</td>\n      <td>3</td>\n      <td>15</td>\n      <td>19</td>\n      <td>47</td>\n      <td>28</td>\n      <td>1</td>\n      <td>74</td>\n      <td>-1</td>\n    </tr>\n    <tr>\n      <th>3</th>\n      <td>enseignants mettre prescriptions président rép...</td>\n      <td>0</td>\n      <td>0</td>\n      <td>1</td>\n      <td>1072</td>\n      <td>0</td>\n      <td>[https://t.co/rytlted08g]</td>\n      <td>0</td>\n      <td>[]</td>\n      <td>1</td>\n      <td>0</td>\n      <td>2022</td>\n      <td>3</td>\n      <td>14</td>\n      <td>12</td>\n      <td>11</td>\n      <td>22</td>\n      <td>0</td>\n      <td>73</td>\n      <td>-1</td>\n    </tr>\n    <tr>\n      <th>4</th>\n      <td>mafieuse oppressive macron</td>\n      <td>0</td>\n      <td>0</td>\n      <td>13957</td>\n      <td>25311</td>\n      <td>10841</td>\n      <td>[]</td>\n      <td>0</td>\n      <td>[]</td>\n      <td>0</td>\n      <td>0</td>\n      <td>2022</td>\n      <td>3</td>\n      <td>14</td>\n      <td>12</td>\n      <td>46</td>\n      <td>14</td>\n      <td>0</td>\n      <td>73</td>\n      <td>-1</td>\n    </tr>\n    <tr>\n      <th>...</th>\n      <td>...</td>\n      <td>...</td>\n      <td>...</td>\n      <td>...</td>\n      <td>...</td>\n      <td>...</td>\n      <td>...</td>\n      <td>...</td>\n      <td>...</td>\n      <td>...</td>\n      <td>...</td>\n      <td>...</td>\n      <td>...</td>\n      <td>...</td>\n      <td>...</td>\n      <td>...</td>\n      <td>...</td>\n      <td>...</td>\n      <td>...</td>\n      <td>...</td>\n    </tr>\n    <tr>\n      <th>353964</th>\n      <td>gonflette tour raciste frustré</td>\n      <td>0</td>\n      <td>0</td>\n      <td>34</td>\n      <td>1509</td>\n      <td>55</td>\n      <td>[https://t.co/pma33zhslx]</td>\n      <td>0</td>\n      <td>[]</td>\n      <td>1</td>\n      <td>0</td>\n      <td>2022</td>\n      <td>3</td>\n      <td>16</td>\n      <td>14</td>\n      <td>42</td>\n      <td>33</td>\n      <td>2</td>\n      <td>75</td>\n      <td>-1</td>\n    </tr>\n    <tr>\n      <th>353965</th>\n      <td>france caste crapuleuse encadrée gangsters irr...</td>\n      <td>0</td>\n      <td>0</td>\n      <td>89</td>\n      <td>11166</td>\n      <td>127</td>\n      <td>[]</td>\n      <td>0</td>\n      <td>[]</td>\n      <td>0</td>\n      <td>0</td>\n      <td>2022</td>\n      <td>3</td>\n      <td>12</td>\n      <td>9</td>\n      <td>1</td>\n      <td>46</td>\n      <td>5</td>\n      <td>71</td>\n      <td>-1</td>\n    </tr>\n    <tr>\n      <th>353966</th>\n      <td>eric zemmour français berbère</td>\n      <td>3</td>\n      <td>0</td>\n      <td>1888</td>\n      <td>712</td>\n      <td>3086</td>\n      <td>[]</td>\n      <td>0</td>\n      <td>[]</td>\n      <td>0</td>\n      <td>0</td>\n      <td>2022</td>\n      <td>3</td>\n      <td>18</td>\n      <td>13</td>\n      <td>40</td>\n      <td>30</td>\n      <td>4</td>\n      <td>77</td>\n      <td>-1</td>\n    </tr>\n    <tr>\n      <th>353967</th>\n      <td>gauchistes dépression pq</td>\n      <td>0</td>\n      <td>0</td>\n      <td>139</td>\n      <td>486</td>\n      <td>320</td>\n      <td>[]</td>\n      <td>0</td>\n      <td>[]</td>\n      <td>0</td>\n      <td>0</td>\n      <td>2022</td>\n      <td>3</td>\n      <td>11</td>\n      <td>9</td>\n      <td>26</td>\n      <td>35</td>\n      <td>4</td>\n      <td>70</td>\n      <td>-1</td>\n    </tr>\n    <tr>\n      <th>353968</th>\n      <td>algérie emmanuel macron grande histoire amour</td>\n      <td>0</td>\n      <td>0</td>\n      <td>0</td>\n      <td>82</td>\n      <td>24</td>\n      <td>[]</td>\n      <td>0</td>\n      <td>[]</td>\n      <td>0</td>\n      <td>0</td>\n      <td>2022</td>\n      <td>3</td>\n      <td>18</td>\n      <td>12</td>\n      <td>27</td>\n      <td>23</td>\n      <td>4</td>\n      <td>77</td>\n      <td>-1</td>\n    </tr>\n  </tbody>\n</table>\n<p>353969 rows × 20 columns</p>\n</div>"
     },
     "execution_count": 8,
     "metadata": {},
     "output_type": "execute_result"
    }
   ],
   "source": [
    "train_df"
   ],
   "metadata": {
    "collapsed": false
   }
  },
  {
   "cell_type": "code",
   "execution_count": 9,
   "outputs": [
    {
     "data": {
      "text/plain": "        favorites_count  followers_count  statuses_count  friends_count  \\\n0                     0             3682          453535           3628   \n1                     0               86            1016            284   \n2                     1             1944           28234           1995   \n3                     0                1            1072              0   \n4                     0            13957           25311          10841   \n...                 ...              ...             ...            ...   \n353964                0               34            1509             55   \n353965                0               89           11166            127   \n353966                0             1888             712           3086   \n353967                0              139             486            320   \n353968                0                0              82             24   \n\n        verified  url_count  hashtag_count  tm_year  tm_mon  tm_mday  tm_hour  \\\n0              0          0              0     2022       3       11        6   \n1              0          0              0     2022       3       19       13   \n2              0          0              0     2022       3       15       19   \n3              0          1              0     2022       3       14       12   \n4              0          0              0     2022       3       14       12   \n...          ...        ...            ...      ...     ...      ...      ...   \n353964         0          1              0     2022       3       16       14   \n353965         0          0              0     2022       3       12        9   \n353966         0          0              0     2022       3       18       13   \n353967         0          0              0     2022       3       11        9   \n353968         0          0              0     2022       3       18       12   \n\n        tm_min  tm_sec  tm_wday  tm_yday  tm_isdst  \n0           54       8        4       70        -1  \n1           51      28        5       78        -1  \n2           47      28        1       74        -1  \n3           11      22        0       73        -1  \n4           46      14        0       73        -1  \n...        ...     ...      ...      ...       ...  \n353964      42      33        2       75        -1  \n353965       1      46        5       71        -1  \n353966      40      30        4       77        -1  \n353967      26      35        4       70        -1  \n353968      27      23        4       77        -1  \n\n[353969 rows x 16 columns]",
      "text/html": "<div>\n<style scoped>\n    .dataframe tbody tr th:only-of-type {\n        vertical-align: middle;\n    }\n\n    .dataframe tbody tr th {\n        vertical-align: top;\n    }\n\n    .dataframe thead th {\n        text-align: right;\n    }\n</style>\n<table border=\"1\" class=\"dataframe\">\n  <thead>\n    <tr style=\"text-align: right;\">\n      <th></th>\n      <th>favorites_count</th>\n      <th>followers_count</th>\n      <th>statuses_count</th>\n      <th>friends_count</th>\n      <th>verified</th>\n      <th>url_count</th>\n      <th>hashtag_count</th>\n      <th>tm_year</th>\n      <th>tm_mon</th>\n      <th>tm_mday</th>\n      <th>tm_hour</th>\n      <th>tm_min</th>\n      <th>tm_sec</th>\n      <th>tm_wday</th>\n      <th>tm_yday</th>\n      <th>tm_isdst</th>\n    </tr>\n  </thead>\n  <tbody>\n    <tr>\n      <th>0</th>\n      <td>0</td>\n      <td>3682</td>\n      <td>453535</td>\n      <td>3628</td>\n      <td>0</td>\n      <td>0</td>\n      <td>0</td>\n      <td>2022</td>\n      <td>3</td>\n      <td>11</td>\n      <td>6</td>\n      <td>54</td>\n      <td>8</td>\n      <td>4</td>\n      <td>70</td>\n      <td>-1</td>\n    </tr>\n    <tr>\n      <th>1</th>\n      <td>0</td>\n      <td>86</td>\n      <td>1016</td>\n      <td>284</td>\n      <td>0</td>\n      <td>0</td>\n      <td>0</td>\n      <td>2022</td>\n      <td>3</td>\n      <td>19</td>\n      <td>13</td>\n      <td>51</td>\n      <td>28</td>\n      <td>5</td>\n      <td>78</td>\n      <td>-1</td>\n    </tr>\n    <tr>\n      <th>2</th>\n      <td>1</td>\n      <td>1944</td>\n      <td>28234</td>\n      <td>1995</td>\n      <td>0</td>\n      <td>0</td>\n      <td>0</td>\n      <td>2022</td>\n      <td>3</td>\n      <td>15</td>\n      <td>19</td>\n      <td>47</td>\n      <td>28</td>\n      <td>1</td>\n      <td>74</td>\n      <td>-1</td>\n    </tr>\n    <tr>\n      <th>3</th>\n      <td>0</td>\n      <td>1</td>\n      <td>1072</td>\n      <td>0</td>\n      <td>0</td>\n      <td>1</td>\n      <td>0</td>\n      <td>2022</td>\n      <td>3</td>\n      <td>14</td>\n      <td>12</td>\n      <td>11</td>\n      <td>22</td>\n      <td>0</td>\n      <td>73</td>\n      <td>-1</td>\n    </tr>\n    <tr>\n      <th>4</th>\n      <td>0</td>\n      <td>13957</td>\n      <td>25311</td>\n      <td>10841</td>\n      <td>0</td>\n      <td>0</td>\n      <td>0</td>\n      <td>2022</td>\n      <td>3</td>\n      <td>14</td>\n      <td>12</td>\n      <td>46</td>\n      <td>14</td>\n      <td>0</td>\n      <td>73</td>\n      <td>-1</td>\n    </tr>\n    <tr>\n      <th>...</th>\n      <td>...</td>\n      <td>...</td>\n      <td>...</td>\n      <td>...</td>\n      <td>...</td>\n      <td>...</td>\n      <td>...</td>\n      <td>...</td>\n      <td>...</td>\n      <td>...</td>\n      <td>...</td>\n      <td>...</td>\n      <td>...</td>\n      <td>...</td>\n      <td>...</td>\n      <td>...</td>\n    </tr>\n    <tr>\n      <th>353964</th>\n      <td>0</td>\n      <td>34</td>\n      <td>1509</td>\n      <td>55</td>\n      <td>0</td>\n      <td>1</td>\n      <td>0</td>\n      <td>2022</td>\n      <td>3</td>\n      <td>16</td>\n      <td>14</td>\n      <td>42</td>\n      <td>33</td>\n      <td>2</td>\n      <td>75</td>\n      <td>-1</td>\n    </tr>\n    <tr>\n      <th>353965</th>\n      <td>0</td>\n      <td>89</td>\n      <td>11166</td>\n      <td>127</td>\n      <td>0</td>\n      <td>0</td>\n      <td>0</td>\n      <td>2022</td>\n      <td>3</td>\n      <td>12</td>\n      <td>9</td>\n      <td>1</td>\n      <td>46</td>\n      <td>5</td>\n      <td>71</td>\n      <td>-1</td>\n    </tr>\n    <tr>\n      <th>353966</th>\n      <td>0</td>\n      <td>1888</td>\n      <td>712</td>\n      <td>3086</td>\n      <td>0</td>\n      <td>0</td>\n      <td>0</td>\n      <td>2022</td>\n      <td>3</td>\n      <td>18</td>\n      <td>13</td>\n      <td>40</td>\n      <td>30</td>\n      <td>4</td>\n      <td>77</td>\n      <td>-1</td>\n    </tr>\n    <tr>\n      <th>353967</th>\n      <td>0</td>\n      <td>139</td>\n      <td>486</td>\n      <td>320</td>\n      <td>0</td>\n      <td>0</td>\n      <td>0</td>\n      <td>2022</td>\n      <td>3</td>\n      <td>11</td>\n      <td>9</td>\n      <td>26</td>\n      <td>35</td>\n      <td>4</td>\n      <td>70</td>\n      <td>-1</td>\n    </tr>\n    <tr>\n      <th>353968</th>\n      <td>0</td>\n      <td>0</td>\n      <td>82</td>\n      <td>24</td>\n      <td>0</td>\n      <td>0</td>\n      <td>0</td>\n      <td>2022</td>\n      <td>3</td>\n      <td>18</td>\n      <td>12</td>\n      <td>27</td>\n      <td>23</td>\n      <td>4</td>\n      <td>77</td>\n      <td>-1</td>\n    </tr>\n  </tbody>\n</table>\n<p>353969 rows × 16 columns</p>\n</div>"
     },
     "execution_count": 9,
     "metadata": {},
     "output_type": "execute_result"
    }
   ],
   "source": [
    "train_df_input = train_df.drop(['retweets_count', 'text', 'urls', 'hashtags'], axis=1)\n",
    "train_df_input"
   ],
   "metadata": {
    "collapsed": false
   }
  },
  {
   "cell_type": "code",
   "execution_count": 10,
   "outputs": [],
   "source": [
    "def score_dataset(X, y, model=xgboost.XGBRegressor()):\n",
    "    score = sklearn.model_selection.cross_val_score(\n",
    "        model, X, y, cv=5, scoring='neg_mean_absolute_error'\n",
    "    )\n",
    "    score = - score.mean()\n",
    "    return score"
   ],
   "metadata": {
    "collapsed": false
   }
  },
  {
   "cell_type": "code",
   "execution_count": 11,
   "outputs": [
    {
     "name": "stdout",
     "output_type": "stream",
     "text": [
      "Baseline score: 6.68995 MAE\n"
     ]
    }
   ],
   "source": [
    "baseline_score = score_dataset(train_df_input.values, train_df['retweets_count'].values)\n",
    "print(f'Baseline score: {baseline_score:.5f} MAE')"
   ],
   "metadata": {
    "collapsed": false
   }
  },
  {
   "cell_type": "markdown",
   "source": [
    "## Data Visualization, Feature Engineering"
   ],
   "metadata": {
    "collapsed": false
   }
  },
  {
   "cell_type": "code",
   "execution_count": 12,
   "outputs": [],
   "source": [
    "discrete_features = train_df_input.columns == 'verified'\n",
    "\n",
    "mi_scores = sklearn.feature_selection.mutual_info_regression(train_df_input, train_df['retweets_count'], discrete_features=discrete_features)\n",
    "mi_scores = pd.Series(mi_scores, name=\"MI Scores\", index=train_df_input.columns)\n",
    "mi_scores = mi_scores.sort_values(ascending=False)"
   ],
   "metadata": {
    "collapsed": false
   }
  },
  {
   "cell_type": "code",
   "execution_count": 13,
   "outputs": [
    {
     "data": {
      "text/plain": "<Figure size 800x500 with 1 Axes>",
      "image/png": "[encoded data removed]"
     },
     "metadata": {},
     "output_type": "display_data"
    }
   ],
   "source": [
    "plt.figure(dpi=100, figsize=(8, 5))\n",
    "mi_scores = mi_scores.sort_values(ascending=True)\n",
    "width = np.arange(len(mi_scores))\n",
    "ticks = list(mi_scores.index)\n",
    "plt.barh(width, mi_scores)\n",
    "plt.yticks(width, ticks)\n",
    "plt.title(\"Mutual Information Scores\")\n",
    "plt.show()"
   ],
   "metadata": {
    "collapsed": false
   }
  },
  {
   "cell_type": "code",
   "execution_count": 14,
   "outputs": [],
   "source": [
    "new_train_df = train_df_input.drop(['tm_sec', 'tm_isdst'], axis=1)"
   ],
   "metadata": {
    "collapsed": false
   }
  },
  {
   "cell_type": "code",
   "execution_count": 15,
   "outputs": [
    {
     "name": "stdout",
     "output_type": "stream",
     "text": [
      "Baseline score: 6.67358 MAE\n"
     ]
    }
   ],
   "source": [
    "baseline_score = score_dataset(new_train_df.values, train_df['retweets_count'].values)\n",
    "print(f'Baseline score: {baseline_score:.5f} MAE')"
   ],
   "metadata": {
    "collapsed": false
   }
  },
  {
   "cell_type": "code",
   "execution_count": 16,
   "outputs": [
    {
     "name": "stderr",
     "output_type": "stream",
     "text": [
      "C:\\Users\\caioj\\Anaconda3\\envs\\forest-env\\lib\\site-packages\\pandas\\core\\arraylike.py:397: RuntimeWarning: divide by zero encountered in log10\n",
      "  result = getattr(ufunc, method)(*inputs, **kwargs)\n",
      "C:\\Users\\caioj\\Anaconda3\\envs\\forest-env\\lib\\site-packages\\pandas\\core\\arraylike.py:397: RuntimeWarning: divide by zero encountered in log10\n",
      "  result = getattr(ufunc, method)(*inputs, **kwargs)\n",
      "C:\\Users\\caioj\\Anaconda3\\envs\\forest-env\\lib\\site-packages\\pandas\\core\\arraylike.py:397: RuntimeWarning: divide by zero encountered in log10\n",
      "  result = getattr(ufunc, method)(*inputs, **kwargs)\n"
     ]
    },
    {
     "data": {
      "text/plain": "<Figure size 640x480 with 8 Axes>",
      "image/png": "[encoded data removed]"
     },
     "metadata": {},
     "output_type": "display_data"
    }
   ],
   "source": [
    "fig, ax = plt.subplots(4, 2)\n",
    "\n",
    "sbn.kdeplot(ax=ax[0, 0], data=train_df.favorites_count)\n",
    "sbn.kdeplot(ax=ax[0, 1], data=np.log10(train_df.favorites_count).replace([-np.inf], -10))\n",
    "sbn.kdeplot(ax=ax[1, 0], data=train_df.friends_count)\n",
    "sbn.kdeplot(ax=ax[1, 1], data=np.log10(train_df.friends_count).replace([-np.inf], -10))\n",
    "sbn.kdeplot(ax=ax[2, 0], data=train_df.followers_count)\n",
    "sbn.kdeplot(ax=ax[2, 1], data=np.log10(train_df.followers_count).replace([-np.inf], -10))\n",
    "sbn.kdeplot(ax=ax[3, 0], data=train_df.statuses_count)\n",
    "sbn.kdeplot(ax=ax[3, 1], data=np.log10(train_df.statuses_count).replace([-np.inf], -10))\n",
    "\n",
    "fig.tight_layout()\n",
    "plt.show()"
   ],
   "metadata": {
    "collapsed": false
   }
  },
  {
   "cell_type": "code",
   "execution_count": 17,
   "outputs": [
    {
     "name": "stderr",
     "output_type": "stream",
     "text": [
      "C:\\Users\\caioj\\Anaconda3\\envs\\forest-env\\lib\\site-packages\\pandas\\core\\arraylike.py:397: RuntimeWarning: divide by zero encountered in log10\n",
      "  result = getattr(ufunc, method)(*inputs, **kwargs)\n"
     ]
    }
   ],
   "source": [
    "new_train_df.favorites_count = np.log10(train_df_input.favorites_count).replace([-np.inf], -10)\n",
    "new_train_df.friends_count = np.log10(train_df_input.friends_count).replace([-np.inf], -10)\n",
    "new_train_df.followers_count = np.log10(train_df_input.followers_count).replace([-np.inf], -10)\n",
    "new_train_df.statuses_count = np.log10(train_df_input.statuses_count).replace([-np.inf], -10)"
   ],
   "metadata": {
    "collapsed": false
   }
  },
  {
   "cell_type": "code",
   "execution_count": 18,
   "outputs": [
    {
     "data": {
      "text/plain": "        favorites_count  followers_count  statuses_count  friends_count  \\\n0                 -10.0         3.566084        5.656611       3.559667   \n1                 -10.0         1.934498        3.006894       2.453318   \n2                   0.0         3.288696        4.450772       3.299943   \n3                 -10.0         0.000000        3.030195     -10.000000   \n4                 -10.0         4.144792        4.403309       4.035069   \n...                 ...              ...             ...            ...   \n353964            -10.0         1.531479        3.178689       1.740363   \n353965            -10.0         1.949390        4.047898       2.103804   \n353966            -10.0         3.276002        2.852480       3.489396   \n353967            -10.0         2.143015        2.686636       2.505150   \n353968            -10.0       -10.000000        1.913814       1.380211   \n\n        verified  url_count  hashtag_count  tm_year  tm_mon  tm_mday  tm_hour  \\\n0              0          0              0     2022       3       11        6   \n1              0          0              0     2022       3       19       13   \n2              0          0              0     2022       3       15       19   \n3              0          1              0     2022       3       14       12   \n4              0          0              0     2022       3       14       12   \n...          ...        ...            ...      ...     ...      ...      ...   \n353964         0          1              0     2022       3       16       14   \n353965         0          0              0     2022       3       12        9   \n353966         0          0              0     2022       3       18       13   \n353967         0          0              0     2022       3       11        9   \n353968         0          0              0     2022       3       18       12   \n\n        tm_min  tm_wday  tm_yday  \n0           54        4       70  \n1           51        5       78  \n2           47        1       74  \n3           11        0       73  \n4           46        0       73  \n...        ...      ...      ...  \n353964      42        2       75  \n353965       1        5       71  \n353966      40        4       77  \n353967      26        4       70  \n353968      27        4       77  \n\n[353969 rows x 14 columns]",
      "text/html": "<div>\n<style scoped>\n    .dataframe tbody tr th:only-of-type {\n        vertical-align: middle;\n    }\n\n    .dataframe tbody tr th {\n        vertical-align: top;\n    }\n\n    .dataframe thead th {\n        text-align: right;\n    }\n</style>\n<table border=\"1\" class=\"dataframe\">\n  <thead>\n    <tr style=\"text-align: right;\">\n      <th></th>\n      <th>favorites_count</th>\n      <th>followers_count</th>\n      <th>statuses_count</th>\n      <th>friends_count</th>\n      <th>verified</th>\n      <th>url_count</th>\n      <th>hashtag_count</th>\n      <th>tm_year</th>\n      <th>tm_mon</th>\n      <th>tm_mday</th>\n      <th>tm_hour</th>\n      <th>tm_min</th>\n      <th>tm_wday</th>\n      <th>tm_yday</th>\n    </tr>\n  </thead>\n  <tbody>\n    <tr>\n      <th>0</th>\n      <td>-10.0</td>\n      <td>3.566084</td>\n      <td>5.656611</td>\n      <td>3.559667</td>\n      <td>0</td>\n      <td>0</td>\n      <td>0</td>\n      <td>2022</td>\n      <td>3</td>\n      <td>11</td>\n      <td>6</td>\n      <td>54</td>\n      <td>4</td>\n      <td>70</td>\n    </tr>\n    <tr>\n      <th>1</th>\n      <td>-10.0</td>\n      <td>1.934498</td>\n      <td>3.006894</td>\n      <td>2.453318</td>\n      <td>0</td>\n      <td>0</td>\n      <td>0</td>\n      <td>2022</td>\n      <td>3</td>\n      <td>19</td>\n      <td>13</td>\n      <td>51</td>\n      <td>5</td>\n      <td>78</td>\n    </tr>\n    <tr>\n      <th>2</th>\n      <td>0.0</td>\n      <td>3.288696</td>\n      <td>4.450772</td>\n      <td>3.299943</td>\n      <td>0</td>\n      <td>0</td>\n      <td>0</td>\n      <td>2022</td>\n      <td>3</td>\n      <td>15</td>\n      <td>19</td>\n      <td>47</td>\n      <td>1</td>\n      <td>74</td>\n    </tr>\n    <tr>\n      <th>3</th>\n      <td>-10.0</td>\n      <td>0.000000</td>\n      <td>3.030195</td>\n      <td>-10.000000</td>\n      <td>0</td>\n      <td>1</td>\n      <td>0</td>\n      <td>2022</td>\n      <td>3</td>\n      <td>14</td>\n      <td>12</td>\n      <td>11</td>\n      <td>0</td>\n      <td>73</td>\n    </tr>\n    <tr>\n      <th>4</th>\n      <td>-10.0</td>\n      <td>4.144792</td>\n      <td>4.403309</td>\n      <td>4.035069</td>\n      <td>0</td>\n      <td>0</td>\n      <td>0</td>\n      <td>2022</td>\n      <td>3</td>\n      <td>14</td>\n      <td>12</td>\n      <td>46</td>\n      <td>0</td>\n      <td>73</td>\n    </tr>\n    <tr>\n      <th>...</th>\n      <td>...</td>\n      <td>...</td>\n      <td>...</td>\n      <td>...</td>\n      <td>...</td>\n      <td>...</td>\n      <td>...</td>\n      <td>...</td>\n      <td>...</td>\n      <td>...</td>\n      <td>...</td>\n      <td>...</td>\n      <td>...</td>\n      <td>...</td>\n    </tr>\n    <tr>\n      <th>353964</th>\n      <td>-10.0</td>\n      <td>1.531479</td>\n      <td>3.178689</td>\n      <td>1.740363</td>\n      <td>0</td>\n      <td>1</td>\n      <td>0</td>\n      <td>2022</td>\n      <td>3</td>\n      <td>16</td>\n      <td>14</td>\n      <td>42</td>\n      <td>2</td>\n      <td>75</td>\n    </tr>\n    <tr>\n      <th>353965</th>\n      <td>-10.0</td>\n      <td>1.949390</td>\n      <td>4.047898</td>\n      <td>2.103804</td>\n      <td>0</td>\n      <td>0</td>\n      <td>0</td>\n      <td>2022</td>\n      <td>3</td>\n      <td>12</td>\n      <td>9</td>\n      <td>1</td>\n      <td>5</td>\n      <td>71</td>\n    </tr>\n    <tr>\n      <th>353966</th>\n      <td>-10.0</td>\n      <td>3.276002</td>\n      <td>2.852480</td>\n      <td>3.489396</td>\n      <td>0</td>\n      <td>0</td>\n      <td>0</td>\n      <td>2022</td>\n      <td>3</td>\n      <td>18</td>\n      <td>13</td>\n      <td>40</td>\n      <td>4</td>\n      <td>77</td>\n    </tr>\n    <tr>\n      <th>353967</th>\n      <td>-10.0</td>\n      <td>2.143015</td>\n      <td>2.686636</td>\n      <td>2.505150</td>\n      <td>0</td>\n      <td>0</td>\n      <td>0</td>\n      <td>2022</td>\n      <td>3</td>\n      <td>11</td>\n      <td>9</td>\n      <td>26</td>\n      <td>4</td>\n      <td>70</td>\n    </tr>\n    <tr>\n      <th>353968</th>\n      <td>-10.0</td>\n      <td>-10.000000</td>\n      <td>1.913814</td>\n      <td>1.380211</td>\n      <td>0</td>\n      <td>0</td>\n      <td>0</td>\n      <td>2022</td>\n      <td>3</td>\n      <td>18</td>\n      <td>12</td>\n      <td>27</td>\n      <td>4</td>\n      <td>77</td>\n    </tr>\n  </tbody>\n</table>\n<p>353969 rows × 14 columns</p>\n</div>"
     },
     "execution_count": 18,
     "metadata": {},
     "output_type": "execute_result"
    }
   ],
   "source": [
    "new_train_df"
   ],
   "metadata": {
    "collapsed": false
   }
  },
  {
   "cell_type": "code",
   "execution_count": 19,
   "outputs": [
    {
     "name": "stdout",
     "output_type": "stream",
     "text": [
      "Baseline score: 6.66898 MAE\n"
     ]
    }
   ],
   "source": [
    "baseline_score = score_dataset(new_train_df.values, train_df['retweets_count'].values)\n",
    "print(f'Baseline score: {baseline_score:.5f} MAE')"
   ],
   "metadata": {
    "collapsed": false
   }
  },
  {
   "cell_type": "code",
   "execution_count": 20,
   "outputs": [],
   "source": [
    "scaler = sklearn.preprocessing.StandardScaler()\n",
    "scaler.fit(new_train_df)\n",
    "\n",
    "kmeans = sklearn.cluster.KMeans(n_clusters=9, random_state=0).fit(scaler.transform(new_train_df))"
   ],
   "metadata": {
    "collapsed": false
   }
  },
  {
   "cell_type": "code",
   "execution_count": 21,
   "outputs": [
    {
     "name": "stdout",
     "output_type": "stream",
     "text": [
      "Cluster 0 mean retweets: 8.248203788373612\n",
      "Cluster 1 mean retweets: 0.7647979477041117\n",
      "Cluster 2 mean retweets: 36.58391840486099\n",
      "Cluster 3 mean retweets: 522.6975476839237\n",
      "Cluster 4 mean retweets: 0.33579763716750016\n",
      "Cluster 5 mean retweets: 12.027035119989733\n",
      "Cluster 6 mean retweets: 132.6100561906607\n",
      "Cluster 7 mean retweets: 0.7779877353108956\n",
      "Cluster 8 mean retweets: 487.0807875084861\n"
     ]
    }
   ],
   "source": [
    "for i in range(kmeans.n_clusters):\n",
    "    mean_rtwts = train_df[kmeans.labels_ == i]['retweets_count'].mean()\n",
    "    print(f'Cluster {i} mean retweets: {mean_rtwts}')"
   ],
   "metadata": {
    "collapsed": false
   }
  },
  {
   "cell_type": "code",
   "execution_count": 22,
   "outputs": [],
   "source": [
    "new_train_df['cluster'] = kmeans.labels_\n",
    "new_train_df['cluster'] = new_train_df['cluster'].astype('category')"
   ],
   "metadata": {
    "collapsed": false
   }
  },
  {
   "cell_type": "code",
   "execution_count": 23,
   "outputs": [
    {
     "name": "stdout",
     "output_type": "stream",
     "text": [
      "Baseline score: 6.64498 MAE\n"
     ]
    }
   ],
   "source": [
    "baseline_score = score_dataset(new_train_df.values, train_df['retweets_count'].values)\n",
    "print(f'Baseline score: {baseline_score:.5f} MAE')"
   ],
   "metadata": {
    "collapsed": false
   }
  },
  {
   "cell_type": "code",
   "execution_count": 24,
   "outputs": [
    {
     "data": {
      "text/plain": "                         retweets_count\nhashtags                               \n05mars2022                         49.0\n100euros                            1.5\n100pourcentaja                      1.5\n108tourney                          0.0\n10ans                               4.0\n...                                 ...\n𝑷𝒐𝒍𝒊𝒕𝒊𝒄𝒂𝒓𝒅𝒔𝑴𝒂𝒈𝒐𝒖𝒊𝒍𝒍𝒂𝒓𝒅𝒔             0.0\n𝑺𝒄𝒂𝒏𝒅𝒂𝒍𝒆𝒔𝑫𝑬𝒕𝒂𝒕                      2.0\n𝘾𝙖𝙢𝙚𝙧𝙤𝙪𝙣                            2.0\n𝙊𝙏𝙎                                 2.0\n𝙢𝙚𝙣𝙖𝙘𝙚                              2.0\n\n[12093 rows x 1 columns]",
      "text/html": "<div>\n<style scoped>\n    .dataframe tbody tr th:only-of-type {\n        vertical-align: middle;\n    }\n\n    .dataframe tbody tr th {\n        vertical-align: top;\n    }\n\n    .dataframe thead th {\n        text-align: right;\n    }\n</style>\n<table border=\"1\" class=\"dataframe\">\n  <thead>\n    <tr style=\"text-align: right;\">\n      <th></th>\n      <th>retweets_count</th>\n    </tr>\n    <tr>\n      <th>hashtags</th>\n      <th></th>\n    </tr>\n  </thead>\n  <tbody>\n    <tr>\n      <th>05mars2022</th>\n      <td>49.0</td>\n    </tr>\n    <tr>\n      <th>100euros</th>\n      <td>1.5</td>\n    </tr>\n    <tr>\n      <th>100pourcentaja</th>\n      <td>1.5</td>\n    </tr>\n    <tr>\n      <th>108tourney</th>\n      <td>0.0</td>\n    </tr>\n    <tr>\n      <th>10ans</th>\n      <td>4.0</td>\n    </tr>\n    <tr>\n      <th>...</th>\n      <td>...</td>\n    </tr>\n    <tr>\n      <th>𝑷𝒐𝒍𝒊𝒕𝒊𝒄𝒂𝒓𝒅𝒔𝑴𝒂𝒈𝒐𝒖𝒊𝒍𝒍𝒂𝒓𝒅𝒔</th>\n      <td>0.0</td>\n    </tr>\n    <tr>\n      <th>𝑺𝒄𝒂𝒏𝒅𝒂𝒍𝒆𝒔𝑫𝑬𝒕𝒂𝒕</th>\n      <td>2.0</td>\n    </tr>\n    <tr>\n      <th>𝘾𝙖𝙢𝙚𝙧𝙤𝙪𝙣</th>\n      <td>2.0</td>\n    </tr>\n    <tr>\n      <th>𝙊𝙏𝙎</th>\n      <td>2.0</td>\n    </tr>\n    <tr>\n      <th>𝙢𝙚𝙣𝙖𝙘𝙚</th>\n      <td>2.0</td>\n    </tr>\n  </tbody>\n</table>\n<p>12093 rows × 1 columns</p>\n</div>"
     },
     "execution_count": 24,
     "metadata": {},
     "output_type": "execute_result"
    }
   ],
   "source": [
    "hashtags_temp = train_df.explode('hashtags')[['hashtags', 'retweets_count']].groupby('hashtags').mean()\n",
    "hashtags_temp"
   ],
   "metadata": {
    "collapsed": false
   }
  },
  {
   "cell_type": "code",
   "execution_count": 25,
   "outputs": [
    {
     "data": {
      "text/plain": "{'05mars2022': 49.0,\n '100euros': 1.5,\n '100pourcentaja': 1.5,\n '108tourney': 0.0,\n '10ans': 4.0,\n '10ansdetrop': 1.0,\n '10avril': 1.0,\n '10avril2022': 1.3333333333333333,\n '10avrilfinimacron': 34.0,\n '10avrilsansmacron': 11.0,\n '10clac': 0.0,\n '10couplesparfaits': 1.0,\n '10heuresmidi': 2.25,\n '10hmidi': 16.0,\n '10mars': 30.0,\n '10marsjelis': 5.0,\n '11mars': 7.714285714285714,\n '11septembre': 1.0,\n '120000conquerants': 3.0,\n '123info': 1.1851851851851851,\n '12hsebringfrance': 0.0,\n '12mars': 1.0,\n '12mars2022': 0.0,\n '12millionsdepauvres': 3.0,\n '13_novembre': 0.0,\n '13h': 0.8,\n '13novembre': 58.57142857142857,\n '140000morts': 12.0,\n '14juillet': 0.0,\n '14mars': 11.571428571428571,\n '14mars2022': 1.0,\n '150milliards': 407.0,\n '15arrondissent': 0.5,\n '15cents': 0.0,\n '15cts': 0.0,\n '16000soignantssuspendus': 4.0,\n '16mars': 1.0,\n '17mars': 1.75,\n '17mars2020': 7.0,\n '180322quinté': 0.0,\n '1824ans': 0.0,\n '1915çanakkale': 3.0,\n '1988massacre': 129.0,\n '19h45': 0.0,\n '19h59': 5.0,\n '19mars': 3.6666666666666665,\n '19mars1962': 2.3333333333333335,\n '19mars2022': 0.0,\n '1anenvielelabo': 1.0,\n '1eravril': 2.5,\n '1eresdames': 0.0,\n '1ertour': 1.0,\n '1etdemipourcent': 0.0,\n '1jour1dose': 0.0,\n '1jour1mesureaec': 5.333333333333333,\n '1jour1proposition': 1.5,\n '1jour1question': 1.0,\n '1m': 10.0,\n '1milliard': 5.0,\n '1rec': 0.0,\n '1sur5': 374.3333333333333,\n '1sur5faceauxcandidats': 0.0,\n '2020election': 3.0,\n '2022dubalai': 3.0,\n '2022election': 0.0,\n '2022isthenew1984': 0.0,\n '2022jeunesseoubliée': 124.0,\n '2022lachute': 9.833333333333334,\n '2022larevanche': 1.0,\n '2022lecologie': 0.0,\n '2022nda': 1.0,\n '2022toutsaufmacron': 0.0,\n '2023elections': 2.5,\n '20ansen2002': 2.0,\n '20ansen2022': 2.0,\n '20e': 14.0,\n '20h': 269.5,\n '20h02': 1.4,\n '20h22': 7.0,\n '20h30ledimanche': 4.0,\n '20hmaïsto': 18.875,\n '20hweekendde': 0.0,\n '20mars': 8.0,\n '20minutes': 0.0,\n '20years': 0.5,\n '21jumpclick': 8.0,\n '21marscamionalarret': 2.0,\n '21ème': 3.0,\n '22mars': 2.5,\n '23millionsdevoix': 2.625,\n '24avril2022': 0.3333333333333333,\n '24fev2022': 2.0,\n '24fevrier2022': 0.0,\n '24hpujadas': 1.5,\n '25novembre': 124.0,\n '27mars': 10.5,\n '28mars': 1.0,\n '28min': 0.0,\n '28minutes': 1.0,\n '29janvier': 1.0,\n '2avril': 2.0,\n '2avril2022': 0.0,\n '2etour': 2.0,\n '2nddegré': 0.0,\n '2ndtour': 5.0,\n '2poids2mesures': 22.0,\n '2salles2ambiances': 2.0,\n '2èmedose': 13.5,\n '30millionsdamis': 3596.0,\n '30raisonsdenepasvotermacron': 1.0,\n '3615soluce': 2.0,\n '3d': 1.0,\n '3edegré': 22.0,\n '3edose': 41.5,\n '3emedose': 59.5,\n '3emeguerremondiale': 0.0,\n '3frères': 3.0,\n '3èmedose': 2.0,\n '48hdeladedringolada': 1.0,\n '48hdeladegringolada': 1.0,\n '48hdelareconquete': 27.333333333333332,\n '48hdelareconquête': 7.8,\n '48heures': 7.0,\n '48heuresdereconquete': 2.0,\n '48hreconquete': 13.0,\n '48hz': 4.0,\n '49al3': 1496.0,\n '4edose': 1.0,\n '4emedose': 9.4,\n '4eve': 638.0,\n '4février2008': 0.0,\n '4èdose': 495.0,\n '4èmedose': 1.5,\n '500k': 768.0,\n '500parrainages': 652.0,\n '50nuancesdebruns': 1.0,\n '50otages': 9.0,\n '54ans': 1.0,\n '5andeplus': 0.3333333333333333,\n '5ans': 7.0,\n '5ans_ça_suffit': 2.0,\n '5anscasuffit': 0.0,\n '5ansdemacron': 1.0,\n '5ansdeperdu': 0.0,\n '5ansdeplus': 13.586046511627908,\n '5ansdepluscesttrop': 0.0,\n '5ansdeplusnonmerci': 2.0,\n '5ansdetrop': 4.352941176470588,\n '5decembre': 3.0,\n '5edose': 2.0,\n '5emecolonne': 0.0,\n '5g': 3.0,\n '5gindustrielle': 8.0,\n '60ans': 6.75,\n '60e': 1.0,\n '65ans': 22.0,\n '66minutes': 0.0,\n '67ans': 7.0,\n '69inter': 2.0,\n '6a7': 1.0,\n '6emerepublique': 1.2857142857142858,\n '6emerépublique': 0.0,\n '6emevague': 0.0,\n '6erepublique': 0.0,\n '6millions': 0.0,\n '6mnchrono': 2.0,\n '6mots': 3.0,\n '6nations2022': 1.0,\n '6republique': 3.0,\n '6èmecirco': 0.0,\n '6èmerepublique': 1.0,\n '6èmerépublique': 2.0,\n '6èmevague': 2.6666666666666665,\n '6émerépublique': 0.0,\n '72hdelareconquete': 2.0,\n '79inter': 7.333333333333333,\n '7dimanche': 3.0,\n '7jours7reportages': 1.0,\n '7tv': 0.0,\n '7èmevague': 1.0,\n '7èmevaguecréée': 3.0,\n '8h30franceinfo': 4.333333333333333,\n '8m': 2.0,\n '8marchinternationalwomensday': 4.0,\n '8mars': 68.83333333333333,\n '8mars2022': 18.833333333333332,\n '8mars_journeefemmes': 25.0,\n '8marstouslesjours': 13.0,\n '90minutesdinfos': 0.0,\n '90minutesinfo': 3.0,\n '9avril': 2.0,\n '9eforummondialdeleau': 0.0,\n 'a': 1.0,\n 'a1': 0.5714285714285714,\n 'a10': 2.0,\n 'a12': 1.6666666666666667,\n 'a13': 1.0,\n 'a15': 1.1538461538461537,\n 'a19': 1.0,\n 'a2': 1.5,\n 'a20': 1.1428571428571428,\n 'a25': 1.2,\n 'a3': 0.0,\n 'a30': 1.3333333333333333,\n 'a40': 1.3125,\n 'a440': 0.0,\n 'a46': 1.0,\n 'a50': 0.0,\n 'a520': 1.2857142857142858,\n 'a640': 3.0,\n 'a813': 0.0,\n 'a_retenir': 2.0,\n 'aa': 0.0,\n 'aac2022': 0.0,\n 'aah': 3.3333333333333335,\n 'abad': 76.0,\n 'abandonne': 0.0,\n 'abattu': 6.0,\n 'abbas': 0.0,\n 'abbepierre': 3.0,\n 'abbépierre': 0.0,\n 'abdeslam': 1.7142857142857142,\n 'abdoulaye_yerodia_ndombasi': 2.0,\n 'abdoulayediop': 2.0,\n 'abdoulayewade': 2.0,\n 'abf': 14.0,\n 'abhervé': 0.0,\n 'abia': 0.0,\n 'abidjan': 13.5,\n 'ablogui': 3.0,\n 'abolition': 0.5,\n 'abomination': 4.0,\n 'abonnetoi': 1.0,\n 'abonnés': 1.0,\n 'abord': 1.0,\n 'abramovitch': 1.5,\n 'abrogationdupass': 1.5,\n 'abrogationloitaubira': 64.0,\n 'abrogationpassvaccinal': 0.0,\n 'abrutissement': 0.0,\n 'abstention': 11.214285714285714,\n 'abstentionnistes': 1.5,\n 'abstentionnon': 2.0,\n 'abstentionpiegeacons': 0.0,\n 'absurdie': 11.0,\n 'absurdistan': 0.0,\n 'acab': 1.3333333333333333,\n 'academiaajoute': 5.0,\n 'academiafonctionnaire': 48.0,\n 'academiapartenaire': 19.0,\n 'acaj': 0.0,\n 'acano': 2.0,\n 'acat_france': 0.0,\n 'accdm': 0.0,\n 'accdom': 0.0,\n 'acceptabilité': 0.0,\n 'accessibilité': 1.0,\n 'accident': 6.2,\n 'accidenttrain': 1.0,\n 'accords': 0.6666666666666666,\n 'accords_de_minsk': 176.0,\n 'accordsdevian': 0.0,\n 'accordsevian': 3.25,\n 'accordsminsk': 0.0,\n 'accèsauxsoins': 6.0,\n 'achacunsesamis': 2.0,\n 'acharnement': 0.0,\n 'achatdevoix': 2.0,\n 'acnh': 1.5,\n 'acovam': 1.0,\n 'acte22': 8.0,\n 'actee': 2.0,\n 'acteur': 1.0,\n 'action': 4.5,\n 'actionantifa': 3.0,\n 'actionlogement': 1.5,\n 'actorstudio': 2.0,\n 'actu': 24.176470588235293,\n 'actualite': 2.3333333333333335,\n 'actualité': 1.7,\n 'actualitéeuropéenne': 0.0,\n 'actualitéfrance': 0.0,\n 'actualitéinternationale': 0.0,\n 'actualités': 1.3076923076923077,\n 'actualitésprésidentielles2022': 3.0,\n 'actumic': 3.0,\n 'actutv': 0.5,\n 'adambasanta': 0.0,\n 'adasea': 1.0,\n 'adcazz': 0.0,\n 'adesm': 3.0,\n 'adf': 0.4,\n 'adf2022': 7.0,\n 'adhérentreconquete': 2.0,\n 'adieu': 2.0,\n 'adjib': 1.0,\n 'admd': 7.0,\n 'administration': 3.0,\n 'adolphe': 0.0,\n 'adolphemuzito': 0.0,\n 'adresseduprotestantisme': 2.0,\n 'adrienquatennens': 0.0,\n 'adrienytb': 0.0,\n 'adsav': 22.0,\n 'aec': 22.175,\n 'aec2022': 3.061224489795918,\n 'aec2023': 1.0,\n 'aefe': 2.0,\n 'aelys': 3.0,\n 'aesh': 17.666666666666668,\n 'aewtoonami': 12.0,\n 'afaebesac2022': 2.0,\n 'afar': 10.0,\n 'afd': 2.0,\n 'afe': 2.6666666666666665,\n 'affaireapollonia': 11.0,\n 'affairebenalla': 25.0,\n 'affairekohler': 174.0,\n 'affaires': 382.2,\n 'affairesmondiales': 1.0,\n 'affairesétrangères': 0.0,\n 'affichedecampagne': 0.5,\n 'affolées': 3.0,\n 'afghanistan': 5.5,\n 'afje': 0.0,\n 'afp': 116.05,\n 'afptv': 0.0,\n 'africa': 1.0,\n 'africain': 0.0,\n 'africaine': 8.0,\n 'africaines': 1.0,\n 'africainvestmentforum': 0.0,\n 'africanresearchmatters': 1.3333333333333333,\n 'afrique': 8.826086956521738,\n 'afrique_du_sud': 10.0,\n 'afriquedunord': 0.0,\n 'afriquedusud': 1.5,\n 'afro_beat': 2.0,\n 'afropéisme': 3.0,\n 'afros': 0.0,\n 'ag': 0.0,\n 'agathelambret': 2.5,\n 'agathon_rwasa': 4.0,\n 'agauchetoute': 0.0,\n 'agcnb': 11.0,\n 'agen': 3.0588235294117645,\n 'agencesygma': 18.0,\n 'agenda': 1.3333333333333333,\n 'agenda2030': 1.0,\n 'agenda21': 0.0,\n 'agendarural': 5.5,\n 'agfdsea29': 3.5,\n 'agir': 5.0,\n 'agiraveczemmour': 388.0,\n 'agreenstartup': 1.0,\n 'agression': 126.8,\n 'agressionmilitantszemmour': 7.5,\n 'agressions': 743.0,\n 'agressionssexistes': 6.0,\n 'agressionssexuelles': 6.0,\n 'agressive': 0.0,\n 'agri': 2.0,\n 'agricole': 5.666666666666667,\n 'agriculteurs': 0.4,\n 'agriculture': 3.6470588235294117,\n 'agridz': 0.0,\n 'aguibou': 0.0,\n 'ai': 7.0,\n 'aidants': 3.0,\n 'aidar': 2.5,\n 'aide': 0.5,\n 'aideauxvictimes': 0.0,\n 'aides': 0.75,\n 'aidesoignante': 20.0,\n 'aidessociales': 32.0,\n 'aideàdomicile': 2.0,\n 'aigreurs': 1.0,\n 'aiguesmortes': 65.0,\n 'aimecesaire': 9.5,\n 'ain': 7.388888888888889,\n 'ainaveczemmour': 4.0,\n 'airalgerie': 0.0,\n 'airdrop': 1.0,\n 'airpecressedétresse': 0.0,\n 'aisne': 3.6,\n 'aix': 25.5,\n 'aixlachapelle': 77.5,\n 'aixlesbains': 0.5,\n 'aja': 5.0,\n 'ajaccio': 2.7142857142857144,\n 'ajafcsm': 0.0,\n 'ajax': 0.0,\n 'ajb2022': 1.0,\n 'ajithkumar': 0.0,\n 'ajtunis2022': 2.0,\n 'ak61': 0.0,\n 'akhbaralyawm': 0.0,\n 'akira': 4.0,\n 'akm': 0.0,\n 'aké': 0.0,\n 'alain': 0.5,\n 'alain_krivine': 0.0,\n 'alaininfos': 1.25,\n 'alainkrivine': 2.1538461538461537,\n 'alareconquete': 16.0,\n 'alaune': 0.0,\n 'albaventura': 3.0,\n 'albertville': 9.0,\n 'album': 43.0,\n 'albumfavoritopop': 10.0,\n 'alcapone': 2.5,\n 'alcatel': 132.66666666666666,\n 'alcool': 1.5,\n 'alegre': 0.0,\n 'alep': 20.0,\n 'alertboycott': 0.0,\n 'alerte': 3.0,\n 'alerteenlevement': 0.0,\n 'alerteinfo': 1.0,\n 'alerteoeuf': 3.0,\n 'alertepoutou': 3.0,\n 'alerterouge': 0.0,\n 'alertetrafic': 0.0,\n 'alexandrebenalla': 5.0,\n 'alexiscorbiere': 37.333333333333336,\n 'alexiscorbière': 0.5,\n 'algciv': 9.0,\n 'alger': 4.5,\n 'algerie': 60.26086956521739,\n 'algerie60ans': 0.0,\n 'algerien': 2.0,\n 'algerienne': 6.0,\n 'algofi': 1.0,\n 'algérie': 37.8,\n 'algérien': 0.0,\n 'algérienne': 11.0,\n 'alibaddou': 11.0,\n 'alibongo': 2.5,\n 'alienx': 1.0,\n 'aligre': 0.0,\n 'alimentaires': 1.0,\n 'alimentation': 0.5,\n 'alimentationdurable': 3.0,\n 'alire': 0.6666666666666666,\n 'alixbouilhaguet': 2.0,\n 'aljazeera': 1.0,\n 'alkhelaifi': 1.0,\n 'allahuakbar': 1.0,\n 'allainbougraindubourg': 1.0,\n 'allamakhadimhussainrizvi': 1.0,\n 'allamasaadhussainrizvi': 1.0,\n 'allemagne': 98.42307692307692,\n 'allemagnenazie': 0.0,\n 'allemand': 1.0,\n 'allemands': 1.5,\n 'allende': 1.0,\n 'allergie': 26.0,\n 'allerretour': 0.0,\n 'allezcavi': 1.0,\n 'allezcpasgrave': 3.0,\n 'allezguilers': 0.0,\n 'allezlemansfc': 2.0,\n 'allezsapiac': 0.0,\n 'alleztousvousfaireaimer': 109.5,\n 'allezvoter': 19.5,\n 'allezzemmourtop': 1.0,\n 'alliance': 24.0,\n 'alliancef': 0.0,\n 'alliancevaudoise': 3.0,\n 'allianz': 3.0,\n 'allier': 1.5,\n 'alliot': 67.0,\n 'allocution': 9.0,\n 'allolarcom': 0.0,\n 'allomackinsey': 0.0,\n 'allonscherchermacron': 3.0,\n 'allonsvoter': 3.0,\n 'alloveran': 34.0,\n 'alltoowell': 0.0,\n 'allégorie': 17.0,\n 'allégorie_du_xxièmesiècle': 0.0,\n 'almancino': 0.0,\n 'alpes': 0.0,\n 'alpesmaritimes': 16.0,\n 'alphadebats': 1.0,\n 'alphadébats': 2.0,\n 'alpinisme': 0.0,\n 'alpnavruz': 0.0,\n 'alqatif': 12.0,\n 'alquierdebrousse': 8.0,\n 'alsace': 4.555555555555555,\n 'alsissi': 2.5,\n 'alsthom': 1.0,\n 'alstohm': 1.5,\n 'alstom': 77.98461538461538,\n 'alstomgate': 9.095238095238095,\n 'alstommacronpécresse': 77.0,\n 'alstomsiemens': 10.0,\n 'alston': 67.5,\n 'altcoin': 2.0,\n 'alternance': 1.6666666666666667,\n 'alternative': 2.0,\n 'alternativefacts': 0.0,\n 'alternativerougetricolore': 2.0,\n 'alternativeslibérales': 16.0,\n 'altice': 0.6666666666666666,\n 'alumni': 2.0,\n 'alvarez': 3.0,\n 'alzheimer': 8.0,\n 'alès': 1.5,\n 'amandine': 1.0,\n 'amateur': 0.5,\n 'amateurisme': 6.0,\n 'amateurs': 103.5,\n 'amazon': 0.5,\n 'amazones': 17.0,\n 'amazonian': 0.0,\n 'amazonie': 0.5,\n 'ambassadeurs': 1.0,\n 'ambiationsfrancearmenie': 5.0,\n 'ambitionscommunes': 2.0,\n 'ame': 2.0,\n 'amediter': 0.0,\n 'ameli': 6.5,\n 'amende': 0.0,\n 'amf': 20.285714285714285,\n 'amiedesracistes': 0.0,\n 'amiens': 2.5,\n 'amin': 2.0,\n 'amnestyinternational': 19.0,\n 'amoureux': 0.0,\n 'ampcc': 0.0,\n 'amundi': 5.0,\n 'amélieblanckaert': 0.0,\n 'améliedemontchalin': 12.0,\n 'aménagement': 2.0,\n 'américain': 6.25,\n 'américains': 6.666666666666667,\n 'amérique': 0.0,\n 'an': 1.75,\n 'anaconda': 0.0,\n 'anal': 19.25,\n 'analyse': 0.2,\n 'anaphore': 1.0,\n 'anarchiste': 2.0,\n 'anassekazib': 1.6666666666666667,\n 'anassetesdecevant': 2.0,\n 'ancelotti': 3.5,\n 'anci': 4.0,\n 'andalousie': 0.0,\n 'andalus': 0.0,\n 'andsamsonko': 1.0,\n 'angeduturfl1170322': 0.0,\n 'angers': 5.222222222222222,\n 'angevins': 3.0,\n 'angola': 1.0,\n 'angoulême': 1.0,\n 'animal': 3.0,\n 'animalcrossing': 1.5,\n 'animales': 3.0,\n 'animaux': 3.6666666666666665,\n 'animaux2022': 5.8,\n 'anitha': 0.0,\n 'anithasampath': 0.0,\n 'anjaliarora': 1.0,\n 'anjou': 0.0,\n 'annaud': 0.0,\n 'anne': 2.0,\n 'anne_hidalgo': 8.0,\n 'anneclairecoudray': 4.333333333333333,\n 'anneescolaireblanche': 2.0,\n 'annege2022': 0.0,\n 'anneh': 5.0,\n 'annehidalgo': 14.766917293233083,\n 'annehidalgo2022': 0.0,\n 'annehidalgolatarte': 0.0,\n 'annelaurebonnel': 180.4,\n 'anniedalgo': 0.0,\n 'anniedingobyebye': 0.0,\n 'anniversaire': 0.3333333333333333,\n 'annoncesmacron': 5.0,\n 'annoncespoches': 0.0,\n 'annuelle': 0.0,\n 'anondefrance': 2.0,\n 'anonymous': 1.0,\n 'anonymousfrance': 2.0,\n 'anopex': 0.0,\n 'anr': 2.0,\n 'ansardine': 1.0,\n 'antalya': 1.5,\n 'antalyadiplomaticforum': 1.0,\n 'anthologiedelarépartie': 0.0,\n 'antiaméricanisme': 2.0,\n 'antibes': 6.0,\n 'anticapitaliste': 2.25,\n 'antichrist': 0.0,\n 'anticor59': 57.0,\n 'anticorveille': 0.0,\n 'antifa': 1.4615384615384615,\n 'antifa_fachos': 1.5,\n 'antifas': 1.7142857142857142,\n 'antifascism': 2.0,\n 'antifascist': 4.0,\n 'antifascista': 1.0,\n 'antiflic': 0.0,\n 'antihandicapé': 0.0,\n 'antiislam': 0.0,\n 'antijuif': 21.0,\n 'antilles': 8.0,\n 'antimacron': 577.0,\n 'antimusulman': 3.0,\n 'antinuke': 3.0,\n 'antipass': 5.333333333333333,\n 'antipasssanitaire': 54.0,\n 'antisemite': 0.5,\n 'antisemitisme': 1.7142857142857142,\n 'antisocial': 0.5,\n 'antispécistes': 2.0,\n 'antisémite': 48.0,\n 'antisémites': 22.0,\n 'antisémitisme': 48.5,\n 'antitout': 1.5,\n 'antivax': 1.375,\n 'antivaxobligatoire': 8.0,\n 'antony': 10.0,\n 'antwerpfc': 0.0,\n 'apaisement': 0.0,\n 'apartheid': 1.6666666666666667,\n 'apathie': 1.7142857142857142,\n 'apch': 0.0,\n 'apecoin': 1.0,\n 'apexlegends': 0.0,\n 'aphatie': 6.5,\n 'aphm': 2.0,\n 'apl': 3.5,\n 'apollinematin': 1.7,\n 'apollo': 4.0,\n 'apollon': 0.0,\n 'appel': 6.0,\n 'appel_pathetique': 51.0,\n 'appelalapriere': 3.0,\n 'appeld': 0.0,\n 'appolinedemalherbe': 0.75,\n 'appolinematin': 117.66666666666667,\n 'apprendreàlire': 0.0,\n 'apprentis': 3.0,\n 'apprentissage': 3.0,\n 'apresj20': 0.0,\n 'aprilbenayoum': 3.0,\n 'aqpa': 25.0,\n 'arabe': 3.0,\n 'arabedehors': 1.0,\n 'arabelle': 0.7142857142857143,\n 'arabellerosatom': 45.5,\n 'arabic': 2.0,\n 'arabie_saoudite': 0.75,\n 'arabiesaoudite': 28.125,\n 'aracknid': 3.5,\n 'aramburu': 0.6666666666666666,\n 'arbres': 0.0,\n 'arc': 0.0,\n 'arcachon': 1.0,\n 'arcdedefaite': 0.0,\n 'arcdetriomphe': 11.416666666666666,\n 'archiqc': 1.0,\n 'architecture': 4.5,\n 'archivelo': 2.0,\n 'archives': 2.0,\n 'archivesdujour': 26.0,\n 'archéologie': 0.0,\n 'archéologie2022': 3.0,\n 'arcom': 8.0,\n 'ardeche': 10.0,\n 'ardentes': 2.0,\n 'ardèche': 1.0,\n 'arendt': 0.0,\n 'arenh': 8.0,\n 'arestovych': 1.0,\n 'areva': 597.0,\n 'argent': 7.571428571428571,\n 'argenteuil': 33.5,\n 'argentine': 1.0,\n 'argentre': 3.0,\n 'arianagrande': 0.0,\n 'arielhenry': 0.0,\n 'ariyana': 0.0,\n 'ariyanaglory': 0.0,\n 'arles': 0.0,\n 'arlette': 1.0,\n 'arlettelanguiller': 0.0,\n 'arletty': 10.0,\n 'armee': 0.5,\n 'armees': 3.0,\n 'armements': 1.0,\n 'armenia': 3.0,\n 'armenie': 0.0,\n 'armes': 1.2857142857142858,\n 'armesnucléaires': 1.0,\n 'armorlux': 2.0,\n 'armvlaanderen': 1.0,\n 'armée': 2.0,\n 'arménie': 6.333333333333333,\n 'arnaque': 2.5555555555555554,\n 'arnaquezemmour': 0.0,\n 'arnaud': 2.0,\n 'arnault': 1.0,\n 'arnm': 118.0,\n 'arrachelamoumoutteamacronetdeviensunhéros': 9.0,\n 'arras': 5.333333333333333,\n 'arrest': 0.0,\n 'arrestklausschwab': 0.0,\n 'arretestesconneries': 1.0,\n 'arrogance': 3.0,\n 'arrogancelrem': 0.0,\n 'arroser': 0.0,\n 'ars': 2.0,\n 'arslei': 2.0,\n 'arsliv': 3.0,\n 'arsènelupin': 2.0,\n 'art': 2.4,\n 'artaud': 0.3333333333333333,\n 'artdelatable': 3.0,\n 'artemis': 4.0,\n 'artfactory': 0.0,\n 'arthaud': 3.9166666666666665,\n 'article': 0.0,\n 'articles': 1.0,\n 'articlophile': 1.0,\n 'artisan': 0.0,\n 'artisanales': 2.0,\n 'artista': 43.0,\n 'artistafavoritafemenina': 2.0,\n 'artistes': 8.5,\n 'artistontwitter': 0.0,\n 'artistshowdown': 0.0,\n 'artistsontwitter': 0.0,\n 'arts': 3.0,\n 'artsakh': 0.0,\n 'aru': 0.0,\n 'aryen': 0.0,\n 'asadho': 2.0,\n 'asbhrcv': 0.0,\n 'asbhusm': 0.0,\n 'asg': 0.0,\n 'asguilers': 0.0,\n 'asialu': 133.33333333333334,\n 'asile': 2.0,\n 'asilepolitique': 0.0,\n 'asilepolitiquepourassange': 2.0,\n 'asilepqychiatrique': 0.0,\n 'asltom': 293.5,\n 'asmubb': 1.0,\n 'asnieres': 6.0,\n 'asnièressurseine': 19.0,\n 'asnl': 8.0,\n 'ass': 3.0,\n 'assad': 2.272727272727273,\n 'assainissement': 2.0,\n 'assange': 12.666666666666666,\n 'assas': 0.0,\n 'assassinat': 9.5,\n 'assassins': 2.0,\n 'assatraore': 1.0,\n 'asse': 2.25,\n 'asseestac': 0.0,\n 'asselineau': 5.416666666666667,\n 'assemblee': 0.0,\n 'assembleenationale': 3.8181818181818183,\n 'assemblée': 0.0,\n 'assembléeconstituante': 2.0,\n 'assembléepopulaire': 5.0,\n 'assertivite': 0.0,\n 'assesseur': 5.0,\n 'assezcestassez': 2.5,\n 'assimi_goïta': 1.0,\n 'assimilation': 14.5,\n 'assis': 1.0,\n 'assisessoins': 4.5,\n 'assistés': 0.3333333333333333,\n 'assnat': 1.0,\n 'assnatqc': 0.0,\n 'associations': 3.0,\n 'associer': 2.0,\n 'assurance': 2.0,\n 'assurancechômage': 50.0,\n 'assurancevie': 1.0,\n 'asswedenday': 10.0,\n 'asswednesday': 8.0,\n 'astom': 534.0,\n 'astroturfing': 9.0,\n 'at': 7.0,\n 'atalantabayer04': 0.0,\n 'atalantagenoa': 2.0,\n 'ateez': 0.0,\n 'ateez_san': 0.0,\n 'atin': 2.3333333333333335,\n 'atlantico': 0.0,\n 'atlantisme': 3.0,\n 'atlas': 0.0,\n 'atos': 2.0,\n 'attal': 79.66037735849056,\n 'attalestunemerde': 0.0,\n 'attali': 10.210526315789474,\n 'attalmenteur': 1.0,\n 'atteinteodds': 1.0,\n 'attentats': 2.0,\n 'attention': 2.0,\n 'attila': 908.0,\n 'attractivité': 2.0,\n 'attractivitéduterritoire': 5.0,\n 'aubagne': 4.0,\n 'aubert': 9.333333333333334,\n 'aubervilliers': 8.976190476190476,\n 'aubry': 1602.0,\n 'aubuchetencule': 0.0,\n 'auchan': 0.0,\n 'aucune': 1.0,\n 'audace': 0.0,\n 'aude': 5.5,\n 'audience': 6.0,\n 'audiences': 12.333333333333334,\n 'audimat': 4.0,\n 'audio': 0.0,\n 'audiovisuel': 5.0,\n 'audiovisuelpublic': 18.0,\n 'audit': 0.0,\n 'auditionspup': 5.0,\n 'augustomacron': 2.0,\n 'aulas': 4.5,\n 'aumône': 3.0,\n 'aunomdelarace': 0.0,\n 'auposte': 71.5,\n 'aura': 8.0,\n 'auregistreducommerce': 2.0,\n 'aurelientache': 1.0,\n 'aurelientaché': 0.0,\n 'aurevoirpresident': 0.0,\n 'aurevoirprésident': 0.0,\n 'auroreberge': 0.0,\n 'aurès': 3.0,\n 'australie': 33.6,\n 'aut400': 1.0,\n 'aut401': 0.1111111111111111,\n 'aut403': 0.75,\n 'aut404': 0.0,\n 'aut409': 0.0,\n 'aut410': 0.0,\n 'aut417': 0.6666666666666666,\n 'aut427': 0.0,\n 'auteuil': 6.0,\n 'autisme': 3.0,\n 'autiste': 3.3333333333333335,\n 'auto': 0.0,\n 'autocrate': 3.0,\n 'autocratie': 0.0,\n 'autocratique': 0.0,\n 'autodetermination': 3.0,\n 'autodéfensesanitaire': 0.0,\n 'autodétermination': 1.0,\n 'autoentrepreneurs': 0.0,\n 'automobile': 1.0,\n 'automobile2022': 2.5,\n 'autonomie': 12.777777777777779,\n 'autonomiecorse': 0.0,\n 'autonomiedelacorse': 4.0,\n 'autorité': 2.0,\n 'autorités': 12.0,\n 'autoroutes': 2.0,\n 'autrefois': 2.5,\n 'autriche': 85.0,\n 'auxiliairesmacronistes': 2.0,\n 'auxurnescitoyens': 0.0,\n 'auxurnrescitoyens': 0.0,\n 'auziere': 5.0,\n 'auzière': 3.0,\n 'avant': 2.5,\n 'avecelles': 3.6666666666666665,\n 'avecjadotunautremacronestpossible': 17.0,\n 'aveclesriches': 0.0,\n 'aveclui': 15.0,\n 'avecluilechaos': 3.0,\n 'avecmacron': 34.0,\n 'avecmarine': 2.25,\n 'avecmckinsey': 73.5,\n 'avecmelenchon': 0.0,\n 'avecpoleemploi': 0.0,\n 'avecpoleemploilomme': 0.0,\n 'avecvalerie': 2.0,\n 'avecvous': 8.270833333333334,\n 'avecvous2022': 2.507042253521127,\n 'avecvouscalais': 0.0,\n 'avecvousetjeanmi': 0.0,\n 'avecvousmaissansnous': 2.0,\n 'aveczemmour': 16.333333333333332,\n 'avenir': 23.0,\n 'avenirencommun': 4.448275862068965,\n 'avenirencommun2022': 2.0,\n 'avenirendébat': 2.0,\n 'avenuedeversailles': 5.0,\n 'aveyron': 1.0,\n 'avion': 3.0,\n 'avions': 2.0,\n 'avis': 0.5,\n 'avocat': 1.5,\n 'avocatgénéral': 3.0,\n 'avocats': 1.4,\n 'avosagendas': 0.0,\n 'avoté': 12.0,\n 'avrillavigne': 0.0,\n 'awaamwithkaptaan': 0.0,\n 'axelle': 74.0,\n 'aywaille': 26.0,\n 'azarokany': 0.0,\n 'azawad': 0.6666666666666666,\n 'azerbaijan': 0.0,\n 'azerbaïdjan': 3.0,\n 'azov': 7.6,\n 'azovbattalion': 1.0,\n 'aéronautique': 0.0,\n 'aïcha': 0.0,\n 'aïdar': 2.0,\n 'aşktaktikleri': 6.5,\n 'b': 93.0,\n 'b2g': 2.0,\n 'ba2': 1.0,\n 'babacarndiaye': 7.0,\n 'babethderozieres': 8.0,\n 'babettederosiere': 2.0,\n 'babitaphogat': 1.0,\n 'babiyar': 2429.0,\n 'babumacron': 0.0,\n 'babylone': 3.0,\n 'bac': 3.5,\n 'backseat': 0.0,\n 'bacnord': 13.555555555555555,\n 'bacon': 0.0,\n 'bacpro': 6.0,\n 'bacproaccueil': 3.0,\n 'bacproagora': 3.0,\n 'bacpromcv': 3.0,\n 'badbuddy': 0.0,\n 'badkarma': 0.0,\n 'baekhyun': 1.5,\n 'bagneux': 1.0,\n 'bahatil': 2.0,\n 'bahraingp': 6.5,\n 'bahreingp': 2.0,\n 'bakunets': 3.0,\n 'balado': 3.0,\n 'balancetonmacron': 34.0,\n 'balancetonporc': 0.6666666666666666,\n 'balancetonportduvoile': 1.0,\n 'balancetonpost': 0.6,\n 'balancetonposte': 2.0,\n 'balancetonzemmour': 0.0,\n 'balkany': 0.0,\n 'balladur': 323.6666666666667,\n 'ballondor': 5.0,\n 'balma': 3.5,\n 'balmasqué': 0.0,\n 'balthazar': 0.0,\n 'baltringue': 1.5,\n 'baltringues': 2.0,\n 'bambam': 0.0,\n 'bambuba': 1.0,\n 'bancable': 1.0,\n 'banda': 3.0,\n 'bandedebranleur': 4.0,\n 'bandedecons': 3.0,\n 'bandol': 7.5,\n 'bangladesh': 7.0,\n 'bankster': 38.166666666666664,\n 'bankstermacron': 0.0,\n 'banksters': 1.0,\n 'banlieue': 2.0,\n 'banlieues': 3.0,\n 'bannon': 4.666666666666667,\n 'bannonindictment': 0.0,\n 'banque': 1.0,\n 'banques': 0.3333333333333333,\n 'banquier': 7.666666666666667,\n 'bara': 157.0,\n 'baraart': 157.0,\n 'barackobama': 0.5,\n 'barbacane': 0.0,\n 'barbaralefebvre': 9.0,\n 'barbaralefevbre': 2.0,\n 'barbaralefevre': 3.0,\n 'barbier': 0.0,\n 'barbz': 0.0,\n 'barbès': 259.0,\n 'barca': 1.3333333333333333,\n 'barcagalatasaray': 2.0,\n 'bardella': 5.0,\n 'bardelluche': 0.0,\n 'barkane': 0.0,\n 'barkhane': 12.666666666666666,\n 'barnesfoundation': 0.0,\n 'barnier': 3.0,\n 'barometre': 1.5,\n ...}"
     },
     "execution_count": 25,
     "metadata": {},
     "output_type": "execute_result"
    }
   ],
   "source": [
    "retweet_hash_avg = hashtags_temp.to_dict()['retweets_count']\n",
    "retweet_hash_avg"
   ],
   "metadata": {
    "collapsed": false
   }
  },
  {
   "cell_type": "code",
   "execution_count": 26,
   "outputs": [],
   "source": [
    "def get_list_avg(list_obj):\n",
    "    sum = 0\n",
    "    for hash in list_obj:\n",
    "        sum += retweet_hash_avg[hash] if hash in retweet_hash_avg else -1.0\n",
    "    return sum / len(list_obj) if list_obj else -1.0\n",
    "\n",
    "new_train_df['retweet_hash_avg'] = train_df['hashtags'].apply(get_list_avg)"
   ],
   "metadata": {
    "collapsed": false
   }
  },
  {
   "cell_type": "code",
   "execution_count": 27,
   "outputs": [
    {
     "name": "stdout",
     "output_type": "stream",
     "text": [
      "Baseline score: 6.58084 MAE\n"
     ]
    }
   ],
   "source": [
    "baseline_score = score_dataset(new_train_df.values, train_df['retweets_count'].values)\n",
    "print(f'Baseline score: {baseline_score:.5f} MAE')"
   ],
   "metadata": {
    "collapsed": false
   }
  },
  {
   "cell_type": "code",
   "execution_count": 28,
   "outputs": [
    {
     "name": "stdout",
     "output_type": "stream",
     "text": [
      "3810 5942\n"
     ]
    }
   ],
   "source": [
    "test_hashs = test_df.explode('hashtags')['hashtags'].unique()[1:]\n",
    "sum = 0\n",
    "for i in range(len(test_hashs)):\n",
    "    if test_hashs[i] in retweet_hash_avg:\n",
    "        sum += 1\n",
    "print(sum, len(test_hashs))"
   ],
   "metadata": {
    "collapsed": false
   }
  },
  {
   "cell_type": "code",
   "execution_count": 29,
   "outputs": [],
   "source": [
    "def feature_engineering(df: pd.DataFrame, type: str = 'train'):\n",
    "    final_df = df.drop(['text', 'urls', 'hashtags', 'tm_sec', 'tm_isdst'], axis=1)\n",
    "    if type == 'train':\n",
    "        final_df = final_df.drop('retweets_count', axis=1)\n",
    "\n",
    "    # final_df.favorites_count = np.log10(final_df.favorites_count).replace([-np.inf], -10)\n",
    "    # final_df.friends_count = np.log10(final_df.friends_count).replace([-np.inf], -10)\n",
    "    # final_df.followers_count = np.log10(final_df.followers_count).replace([-np.inf], -10)\n",
    "    # final_df.statuses_count = np.log10(final_df.statuses_count).replace([-np.inf], -10)\n",
    "    #\n",
    "    # scaler = sklearn.preprocessing.StandardScaler()\n",
    "    # scaler.fit(final_df)\n",
    "    #\n",
    "    # kmeans = sklearn.cluster.KMeans(n_clusters=9, random_state=0).fit(scaler.transform(final_df))\n",
    "    # final_df['cluster'] = kmeans.labels_\n",
    "    #\n",
    "    # final_df['retweet_hash_avg'] = df['hashtags'].apply(get_list_avg)\n",
    "\n",
    "    return final_df"
   ],
   "metadata": {
    "collapsed": false
   }
  },
  {
   "cell_type": "code",
   "execution_count": 30,
   "outputs": [],
   "source": [
    "train_X = feature_engineering(train_df)\n",
    "train_y = train_df['retweets_count']\n",
    "test_X = feature_engineering(test_df, type='test')"
   ],
   "metadata": {
    "collapsed": false
   }
  },
  {
   "cell_type": "markdown",
   "source": [
    "# NLP"
   ],
   "metadata": {
    "collapsed": false
   }
  },
  {
   "cell_type": "code",
   "execution_count": 31,
   "outputs": [],
   "source": [
    "nlp_model = gensim.models.Word2Vec.load('models/word2vec.model')\n",
    "\n",
    "train_tweets = read_train_df['text'].apply(str.split).to_list()\n",
    "train_dictionary = gensim.corpora.Dictionary(train_tweets)\n",
    "train_corpus = [train_dictionary.doc2bow(tweet) for tweet in train_tweets]\n",
    "\n",
    "tfidf = gensim.models.TfidfModel(train_corpus)"
   ],
   "metadata": {
    "collapsed": false
   }
  },
  {
   "cell_type": "code",
   "execution_count": 32,
   "outputs": [
    {
     "data": {
      "text/plain": "array([[ 0.17521309, -0.69253759,  0.05559059, ..., -0.75994311,\n        -1.50536535, -0.52834396],\n       [ 0.12165888, -1.03572261,  0.05734709, ..., -0.09296916,\n        -1.65951288,  0.06980404],\n       [ 0.94929621, -0.32584545,  0.46132169, ..., -0.92342425,\n        -1.12189768,  0.39196681],\n       ...,\n       [-0.31276975, -0.81777396, -0.12107343, ..., -0.10767953,\n        -1.65592607,  0.74068386],\n       [ 0.16304356, -0.59300441,  0.18193405, ..., -0.5107122 ,\n        -0.76200079,  0.25028348],\n       [ 0.11011163, -1.3416181 ,  0.78860493, ..., -0.27696959,\n        -2.69399992, -0.19014876]])"
     },
     "execution_count": 32,
     "metadata": {},
     "output_type": "execute_result"
    }
   ],
   "source": [
    "text = read_train_df['text']\n",
    "\n",
    "text_embed = np.zeros((len(text), nlp_model.vector_size))\n",
    "\n",
    "for i in range(len(text)):\n",
    "    encoded_words = [word for word in text.iloc[i].split(' ') if word in nlp_model.wv and\n",
    "                     word in train_dictionary.token2id]\n",
    "    if encoded_words:\n",
    "        keys = [train_dictionary.token2id[word] for word in encoded_words]\n",
    "        tf_idf_dict = dict(tfidf[train_corpus[i]])\n",
    "        tf_idf_coefs = np.array([tf_idf_dict[key] for key in keys])\n",
    "\n",
    "        text_vec = nlp_model.wv[encoded_words]\n",
    "        text_vec = (text_vec * tf_idf_coefs[:, None]).sum(0)\n",
    "    else:\n",
    "        text_vec = np.zeros((nlp_model.vector_size, ))\n",
    "\n",
    "    text_embed[i] = text_vec\n",
    "\n",
    "text_embed"
   ],
   "metadata": {
    "collapsed": false
   }
  },
  {
   "cell_type": "code",
   "execution_count": 33,
   "outputs": [],
   "source": [
    "from models.conv1d_w2v_mlp import ConvWord2VecModel"
   ],
   "metadata": {
    "collapsed": false
   }
  },
  {
   "cell_type": "code",
   "execution_count": 34,
   "outputs": [
    {
     "data": {
      "text/plain": "ConvWord2VecModel(\n  (conv): Sequential(\n    (0): Conv1d(1, 16, kernel_size=(5,), stride=(1,))\n    (1): BatchNorm1d(16, eps=1e-05, momentum=0.1, affine=True, track_running_stats=True)\n    (2): ReLU()\n    (3): MaxPool1d(kernel_size=2, stride=2, padding=0, dilation=1, ceil_mode=False)\n    (4): Dropout(p=0.3, inplace=False)\n    (5): Conv1d(16, 16, kernel_size=(5,), stride=(2,))\n    (6): BatchNorm1d(16, eps=1e-05, momentum=0.1, affine=True, track_running_stats=True)\n    (7): ReLU()\n    (8): Dropout(p=0.3, inplace=False)\n    (9): Conv1d(16, 64, kernel_size=(5,), stride=(1,))\n    (10): BatchNorm1d(64, eps=1e-05, momentum=0.1, affine=True, track_running_stats=True)\n    (11): ReLU()\n    (12): MaxPool1d(kernel_size=2, stride=2, padding=0, dilation=1, ceil_mode=False)\n    (13): Dropout(p=0.3, inplace=False)\n    (14): Conv1d(64, 64, kernel_size=(5,), stride=(2,))\n    (15): BatchNorm1d(64, eps=1e-05, momentum=0.1, affine=True, track_running_stats=True)\n    (16): ReLU()\n    (17): Dropout(p=0.3, inplace=False)\n    (18): Conv1d(64, 128, kernel_size=(5,), stride=(1,))\n    (19): BatchNorm1d(128, eps=1e-05, momentum=0.1, affine=True, track_running_stats=True)\n    (20): ReLU()\n    (21): MaxPool1d(kernel_size=2, stride=2, padding=0, dilation=1, ceil_mode=False)\n    (22): Dropout(p=0.3, inplace=False)\n    (23): Conv1d(128, 128, kernel_size=(3,), stride=(1,))\n    (24): BatchNorm1d(128, eps=1e-05, momentum=0.1, affine=True, track_running_stats=True)\n    (25): ReLU()\n    (26): Conv1d(128, 8, kernel_size=(1,), stride=(1,))\n    (27): BatchNorm1d(8, eps=1e-05, momentum=0.1, affine=True, track_running_stats=True)\n    (28): Flatten(start_dim=1, end_dim=-1)\n  )\n  (input): Linear(in_features=30, out_features=128, bias=True)\n  (hidden_layers): Sequential(\n    (layer1): Linear(in_features=128, out_features=128, bias=True)\n    (relu1): ReLU()\n    (dropout1): Dropout(p=0.3, inplace=False)\n  )\n  (output): Linear(in_features=128, out_features=1, bias=True)\n  (relu): ReLU()\n)"
     },
     "execution_count": 34,
     "metadata": {},
     "output_type": "execute_result"
    }
   ],
   "source": [
    "conv_model = ConvWord2VecModel.load_from_checkpoint('checkpoints/epoch=57-split=0.ckpt')\n",
    "conv_model.eval()"
   ],
   "metadata": {
    "collapsed": false
   }
  },
  {
   "cell_type": "code",
   "execution_count": 42,
   "outputs": [],
   "source": [
    "text_fts_list = []\n",
    "for i in range(len(text) // 1024 + 1):\n",
    "    text_fts_list.append(conv_model.conv(torch.tensor(text_embed[1024 * i:1024 * (i + 1), None]).float()).detach().numpy())"
   ],
   "metadata": {
    "collapsed": false
   }
  },
  {
   "cell_type": "code",
   "execution_count": 45,
   "outputs": [],
   "source": [
    "full_train_X = np.concatenate([train_X, np.concatenate(text_fts_list)], axis=1)"
   ],
   "metadata": {
    "collapsed": false
   }
  },
  {
   "cell_type": "code",
   "execution_count": 46,
   "outputs": [
    {
     "data": {
      "text/plain": "array([[ 0.00000000e+00,  3.68200000e+03,  4.53535000e+05, ...,\n        -6.20645523e-01, -4.96880293e-01, -5.73743820e-01],\n       [ 0.00000000e+00,  8.60000000e+01,  1.01600000e+03, ...,\n        -3.96888465e-01, -8.20180357e-01, -6.93620563e-01],\n       [ 1.00000000e+00,  1.94400000e+03,  2.82340000e+04, ...,\n        -4.01410341e-01, -6.02120757e-01, -4.22233492e-01],\n       ...,\n       [ 0.00000000e+00,  1.88800000e+03,  7.12000000e+02, ...,\n        -2.60987818e-01, -1.09373778e-01, -1.31907552e-01],\n       [ 0.00000000e+00,  1.39000000e+02,  4.86000000e+02, ...,\n        -2.89650232e-01, -7.04249501e-01, -6.67472959e-01],\n       [ 0.00000000e+00,  0.00000000e+00,  8.20000000e+01, ...,\n        -1.97011143e-01, -1.47967845e-01, -3.44017833e-01]])"
     },
     "execution_count": 46,
     "metadata": {},
     "output_type": "execute_result"
    }
   ],
   "source": [
    "full_train_X"
   ],
   "metadata": {
    "collapsed": false
   }
  },
  {
   "cell_type": "code",
   "execution_count": 50,
   "outputs": [],
   "source": [
    "test_tweets = read_test_df['text'].apply(str.split).to_list()\n",
    "test_corpus = [train_dictionary.doc2bow(tweet) for tweet in test_tweets]"
   ],
   "metadata": {
    "collapsed": false
   }
  },
  {
   "cell_type": "code",
   "execution_count": 51,
   "outputs": [
    {
     "data": {
      "text/plain": "array([[ 0.44944076, -0.40199814,  0.23207713, ..., -0.59698905,\n        -0.64319005, -0.15444479],\n       [ 0.13445119, -0.29242609, -0.05875972, ..., -0.75993023,\n        -0.6877032 , -0.21182297],\n       [ 0.69519324, -1.00333145, -0.07417271, ..., -1.06282878,\n        -2.64396102, -0.43161189],\n       ...,\n       [ 0.54449873, -1.02609998,  0.665576  , ..., -1.0366831 ,\n        -1.78038381, -0.25100687],\n       [ 0.64116808, -1.31419104,  0.3857156 , ..., -0.60050754,\n        -2.60729441, -0.04715324],\n       [ 0.11200022, -1.73169596,  1.05675479, ..., -0.12153427,\n        -2.02182964, -1.00584285]])"
     },
     "execution_count": 51,
     "metadata": {},
     "output_type": "execute_result"
    }
   ],
   "source": [
    "text = read_test_df['text']\n",
    "\n",
    "text_embed = np.zeros((len(text), nlp_model.vector_size))\n",
    "\n",
    "for i in range(len(text)):\n",
    "    encoded_words = [word for word in text.iloc[i].split(' ') if word in nlp_model.wv and\n",
    "                     word in train_dictionary.token2id]\n",
    "    if encoded_words:\n",
    "        keys = [train_dictionary.token2id[word] for word in encoded_words]\n",
    "        tf_idf_dict = dict(tfidf[test_corpus[i]])\n",
    "        tf_idf_coefs = np.array([tf_idf_dict[key] for key in keys])\n",
    "\n",
    "        text_vec = nlp_model.wv[encoded_words]\n",
    "        text_vec = (text_vec * tf_idf_coefs[:, None]).sum(0)\n",
    "    else:\n",
    "        text_vec = np.zeros((nlp_model.vector_size, ))\n",
    "\n",
    "    text_embed[i] = text_vec\n",
    "\n",
    "text_embed"
   ],
   "metadata": {
    "collapsed": false
   }
  },
  {
   "cell_type": "code",
   "execution_count": 52,
   "outputs": [],
   "source": [
    "text_fts_list = []\n",
    "for i in range(len(text) // 1024 + 1):\n",
    "    text_fts_list.append(conv_model.conv(torch.tensor(text_embed[1024 * i:1024 * (i + 1), None]).float()).detach().numpy())"
   ],
   "metadata": {
    "collapsed": false
   }
  },
  {
   "cell_type": "code",
   "execution_count": 53,
   "outputs": [],
   "source": [
    "full_test_X = np.concatenate([test_X, np.concatenate(text_fts_list)], axis=1)"
   ],
   "metadata": {
    "collapsed": false
   }
  },
  {
   "cell_type": "markdown",
   "source": [
    "# Trees, Boosting"
   ],
   "metadata": {
    "collapsed": false
   }
  },
  {
   "cell_type": "code",
   "execution_count": 48,
   "outputs": [
    {
     "data": {
      "text/plain": "6.445051021466236"
     },
     "execution_count": 48,
     "metadata": {},
     "output_type": "execute_result"
    }
   ],
   "source": [
    "# xgb_params = dict(\n",
    "#     max_depth=10,           # maximum depth of each tree - try 2 to 10\n",
    "#     learning_rate=0.1,    # effect of each tree - try 0.0001 to 0.1\n",
    "#     n_estimators=500,     # number of trees (that is, boosting rounds) - try 1000 to 8000\n",
    "#     #min_child_weight=1,    # minimum number of houses in a leaf - try 1 to 10\n",
    "#     #colsample_bytree=0.7,  # fraction of features (columns) per tree - try 0.2 to 1.0\n",
    "#     #subsample=0.7,         # fraction of instances (rows) per tree - try 0.2 to 1.0\n",
    "#     #reg_alpha=0.5,         # L1 regularization (like LASSO) - try 0.0 to 10.0\n",
    "#     #reg_lambda=1.0,        # L2 regularization (like Ridge) - try 0.0 to 10.0\n",
    "#     #num_parallel_tree=1,   # set > 1 for boosted random forests\n",
    "# )\n",
    "#\n",
    "# xgb = xgboost.XGBRegressor(**xgb_params)\n",
    "score_dataset(full_train_X, train_y)"
   ],
   "metadata": {
    "collapsed": false
   }
  },
  {
   "cell_type": "markdown",
   "source": [
    "# Make submission"
   ],
   "metadata": {
    "collapsed": false
   }
  },
  {
   "cell_type": "code",
   "execution_count": 54,
   "outputs": [],
   "source": [
    "make_submission = True\n",
    "\n",
    "if make_submission:\n",
    "    test_ids = read_test_df['TweetID']\n",
    "    model = xgboost.XGBRegressor(verbosity=1, max_depth=10)\n",
    "    model.fit(full_train_X, train_y)\n",
    "\n",
    "    test_predictions = model.predict(full_test_X)\n",
    "\n",
    "    submission_df = pd.DataFrame(data={'retweets_count': test_predictions})\n",
    "    submission_df = pd.concat([test_ids, submission_df], axis=1)\n",
    "    submission_df.to_csv('data/submission.csv', index=False)"
   ],
   "metadata": {
    "collapsed": false
   }
  }
 ],
 "metadata": {
  "kernelspec": {
   "display_name": "Python 3",
   "language": "python",
   "name": "python3"
  },
  "language_info": {
   "codemirror_mode": {
    "name": "ipython",
    "version": 2
   },
   "file_extension": ".py",
   "mimetype": "text/x-python",
   "name": "python",
   "nbconvert_exporter": "python",
   "pygments_lexer": "ipython2",
   "version": "2.7.6"
  }
 },
 "nbformat": 4,
 "nbformat_minor": 0
}
