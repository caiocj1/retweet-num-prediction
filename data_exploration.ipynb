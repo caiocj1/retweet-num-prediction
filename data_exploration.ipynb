{
 "cells": [
  {
   "cell_type": "markdown",
   "source": [
    "# Data Visualization"
   ],
   "metadata": {
    "collapsed": false
   }
  },
  {
   "cell_type": "code",
   "execution_count": 18,
   "outputs": [],
   "source": [
    "import numpy as np\n",
    "import pandas as pd\n",
    "import sklearn\n",
    "import sklearn.neighbors\n",
    "import sklearn.ensemble\n",
    "import sklearn.cluster\n",
    "import sklearn.feature_selection\n",
    "import matplotlib.pyplot as plt\n",
    "import ast\n",
    "import gensim, logging\n",
    "import xgboost\n",
    "import lightgbm\n",
    "import datetime"
   ],
   "metadata": {
    "collapsed": false
   }
  },
  {
   "cell_type": "code",
   "execution_count": 2,
   "outputs": [
    {
     "data": {
      "text/plain": "       retweets_count  favorites_count  followers_count  statuses_count  \\\ncount   353969.000000    353969.000000     3.539690e+05    3.539690e+05   \nmean        15.831810        46.655442     2.021548e+04    4.808507e+04   \nstd        241.986723       852.044385     2.598715e+05    1.133854e+05   \nmin          0.000000         0.000000     0.000000e+00    1.000000e+00   \n25%          0.000000         0.000000     1.600000e+02    2.972000e+03   \n50%          1.000000         0.000000     7.260000e+02    1.250100e+04   \n75%          3.000000         1.000000     2.283000e+03    4.352200e+04   \nmax      63674.000000    122591.000000     1.441710e+07    8.183508e+06   \n\n       friends_count       verified     timestamp       TweetID  \ncount  353969.000000  353969.000000  3.539690e+05  3.539690e+05  \nmean     1459.289003       0.030005  1.647004e+12  6.872503e+05  \nstd      2502.933271       0.170602  4.846468e+09  4.175793e+05  \nmin         0.000000       0.000000  1.301178e+12  3.000000e+00  \n25%       214.000000       0.000000  1.647068e+12  3.194490e+05  \n50%       693.000000       0.000000  1.647292e+12  6.719730e+05  \n75%      1804.000000       0.000000  1.647532e+12  1.049644e+06  \nmax    237269.000000       1.000000  1.647727e+12  1.434456e+06  ",
      "text/html": "<div>\n<style scoped>\n    .dataframe tbody tr th:only-of-type {\n        vertical-align: middle;\n    }\n\n    .dataframe tbody tr th {\n        vertical-align: top;\n    }\n\n    .dataframe thead th {\n        text-align: right;\n    }\n</style>\n<table border=\"1\" class=\"dataframe\">\n  <thead>\n    <tr style=\"text-align: right;\">\n      <th></th>\n      <th>retweets_count</th>\n      <th>favorites_count</th>\n      <th>followers_count</th>\n      <th>statuses_count</th>\n      <th>friends_count</th>\n      <th>verified</th>\n      <th>timestamp</th>\n      <th>TweetID</th>\n    </tr>\n  </thead>\n  <tbody>\n    <tr>\n      <th>count</th>\n      <td>353969.000000</td>\n      <td>353969.000000</td>\n      <td>3.539690e+05</td>\n      <td>3.539690e+05</td>\n      <td>353969.000000</td>\n      <td>353969.000000</td>\n      <td>3.539690e+05</td>\n      <td>3.539690e+05</td>\n    </tr>\n    <tr>\n      <th>mean</th>\n      <td>15.831810</td>\n      <td>46.655442</td>\n      <td>2.021548e+04</td>\n      <td>4.808507e+04</td>\n      <td>1459.289003</td>\n      <td>0.030005</td>\n      <td>1.647004e+12</td>\n      <td>6.872503e+05</td>\n    </tr>\n    <tr>\n      <th>std</th>\n      <td>241.986723</td>\n      <td>852.044385</td>\n      <td>2.598715e+05</td>\n      <td>1.133854e+05</td>\n      <td>2502.933271</td>\n      <td>0.170602</td>\n      <td>4.846468e+09</td>\n      <td>4.175793e+05</td>\n    </tr>\n    <tr>\n      <th>min</th>\n      <td>0.000000</td>\n      <td>0.000000</td>\n      <td>0.000000e+00</td>\n      <td>1.000000e+00</td>\n      <td>0.000000</td>\n      <td>0.000000</td>\n      <td>1.301178e+12</td>\n      <td>3.000000e+00</td>\n    </tr>\n    <tr>\n      <th>25%</th>\n      <td>0.000000</td>\n      <td>0.000000</td>\n      <td>1.600000e+02</td>\n      <td>2.972000e+03</td>\n      <td>214.000000</td>\n      <td>0.000000</td>\n      <td>1.647068e+12</td>\n      <td>3.194490e+05</td>\n    </tr>\n    <tr>\n      <th>50%</th>\n      <td>1.000000</td>\n      <td>0.000000</td>\n      <td>7.260000e+02</td>\n      <td>1.250100e+04</td>\n      <td>693.000000</td>\n      <td>0.000000</td>\n      <td>1.647292e+12</td>\n      <td>6.719730e+05</td>\n    </tr>\n    <tr>\n      <th>75%</th>\n      <td>3.000000</td>\n      <td>1.000000</td>\n      <td>2.283000e+03</td>\n      <td>4.352200e+04</td>\n      <td>1804.000000</td>\n      <td>0.000000</td>\n      <td>1.647532e+12</td>\n      <td>1.049644e+06</td>\n    </tr>\n    <tr>\n      <th>max</th>\n      <td>63674.000000</td>\n      <td>122591.000000</td>\n      <td>1.441710e+07</td>\n      <td>8.183508e+06</td>\n      <td>237269.000000</td>\n      <td>1.000000</td>\n      <td>1.647727e+12</td>\n      <td>1.434456e+06</td>\n    </tr>\n  </tbody>\n</table>\n</div>"
     },
     "execution_count": 2,
     "metadata": {},
     "output_type": "execute_result"
    }
   ],
   "source": [
    "read_train_df = pd.read_csv('data/train.csv')\n",
    "read_test_df = pd.read_csv('data/evaluation.csv')\n",
    "read_train_df.describe()"
   ],
   "metadata": {
    "collapsed": false
   }
  },
  {
   "cell_type": "code",
   "execution_count": 3,
   "outputs": [
    {
     "data": {
      "text/plain": "                                                     text  retweets_count  \\\n0                      rt refarcir macron ans nom prépare               3   \n1                                               populaire               0   \n2                                     faut dégager cinglé               3   \n3       enseignants mettre prescriptions président rép...               0   \n4                              mafieuse oppressive macron               0   \n...                                                   ...             ...   \n353964                     gonflette tour raciste frustré               0   \n353965  france caste crapuleuse encadrée gangsters irr...               0   \n353966                      eric zemmour français berbère               3   \n353967                           gauchistes dépression pq               0   \n353968      algérie emmanuel macron grande histoire amour               0   \n\n        favorites_count  followers_count  statuses_count  friends_count  \\\n0                     0             3682          453535           3628   \n1                     0               86            1016            284   \n2                     1             1944           28234           1995   \n3                     0                1            1072              0   \n4                     0            13957           25311          10841   \n...                 ...              ...             ...            ...   \n353964                0               34            1509             55   \n353965                0               89           11166            127   \n353966                0             1888             712           3086   \n353967                0              139             486            320   \n353968                0                0              82             24   \n\n       mentions                         urls  verified hashtags  \\\n0            []                           []         0       []   \n1            []                           []         0       []   \n2            []                           []         0       []   \n3            []  ['https://t.co/rytlted08g']         0       []   \n4            []                           []         0       []   \n...         ...                          ...       ...      ...   \n353964       []  ['https://t.co/pma33zhslx']         0       []   \n353965       []                           []         0       []   \n353966       []                           []         0       []   \n353967       []                           []         0       []   \n353968       []                           []         0       []   \n\n            timestamp  TweetID  \n0       1646978048000   832509  \n1       1647694288000  1388011  \n2       1647370048000    63896  \n3       1647256282000   979251  \n4       1647258374000  1040049  \n...               ...      ...  \n353964  1647438153000   142573  \n353965  1647072106000   240866  \n353966  1647607230000  1173763  \n353967  1646987195000   929182  \n353968  1647602843000  1250518  \n\n[353969 rows x 12 columns]",
      "text/html": "<div>\n<style scoped>\n    .dataframe tbody tr th:only-of-type {\n        vertical-align: middle;\n    }\n\n    .dataframe tbody tr th {\n        vertical-align: top;\n    }\n\n    .dataframe thead th {\n        text-align: right;\n    }\n</style>\n<table border=\"1\" class=\"dataframe\">\n  <thead>\n    <tr style=\"text-align: right;\">\n      <th></th>\n      <th>text</th>\n      <th>retweets_count</th>\n      <th>favorites_count</th>\n      <th>followers_count</th>\n      <th>statuses_count</th>\n      <th>friends_count</th>\n      <th>mentions</th>\n      <th>urls</th>\n      <th>verified</th>\n      <th>hashtags</th>\n      <th>timestamp</th>\n      <th>TweetID</th>\n    </tr>\n  </thead>\n  <tbody>\n    <tr>\n      <th>0</th>\n      <td>rt refarcir macron ans nom prépare</td>\n      <td>3</td>\n      <td>0</td>\n      <td>3682</td>\n      <td>453535</td>\n      <td>3628</td>\n      <td>[]</td>\n      <td>[]</td>\n      <td>0</td>\n      <td>[]</td>\n      <td>1646978048000</td>\n      <td>832509</td>\n    </tr>\n    <tr>\n      <th>1</th>\n      <td>populaire</td>\n      <td>0</td>\n      <td>0</td>\n      <td>86</td>\n      <td>1016</td>\n      <td>284</td>\n      <td>[]</td>\n      <td>[]</td>\n      <td>0</td>\n      <td>[]</td>\n      <td>1647694288000</td>\n      <td>1388011</td>\n    </tr>\n    <tr>\n      <th>2</th>\n      <td>faut dégager cinglé</td>\n      <td>3</td>\n      <td>1</td>\n      <td>1944</td>\n      <td>28234</td>\n      <td>1995</td>\n      <td>[]</td>\n      <td>[]</td>\n      <td>0</td>\n      <td>[]</td>\n      <td>1647370048000</td>\n      <td>63896</td>\n    </tr>\n    <tr>\n      <th>3</th>\n      <td>enseignants mettre prescriptions président rép...</td>\n      <td>0</td>\n      <td>0</td>\n      <td>1</td>\n      <td>1072</td>\n      <td>0</td>\n      <td>[]</td>\n      <td>['https://t.co/rytlted08g']</td>\n      <td>0</td>\n      <td>[]</td>\n      <td>1647256282000</td>\n      <td>979251</td>\n    </tr>\n    <tr>\n      <th>4</th>\n      <td>mafieuse oppressive macron</td>\n      <td>0</td>\n      <td>0</td>\n      <td>13957</td>\n      <td>25311</td>\n      <td>10841</td>\n      <td>[]</td>\n      <td>[]</td>\n      <td>0</td>\n      <td>[]</td>\n      <td>1647258374000</td>\n      <td>1040049</td>\n    </tr>\n    <tr>\n      <th>...</th>\n      <td>...</td>\n      <td>...</td>\n      <td>...</td>\n      <td>...</td>\n      <td>...</td>\n      <td>...</td>\n      <td>...</td>\n      <td>...</td>\n      <td>...</td>\n      <td>...</td>\n      <td>...</td>\n      <td>...</td>\n    </tr>\n    <tr>\n      <th>353964</th>\n      <td>gonflette tour raciste frustré</td>\n      <td>0</td>\n      <td>0</td>\n      <td>34</td>\n      <td>1509</td>\n      <td>55</td>\n      <td>[]</td>\n      <td>['https://t.co/pma33zhslx']</td>\n      <td>0</td>\n      <td>[]</td>\n      <td>1647438153000</td>\n      <td>142573</td>\n    </tr>\n    <tr>\n      <th>353965</th>\n      <td>france caste crapuleuse encadrée gangsters irr...</td>\n      <td>0</td>\n      <td>0</td>\n      <td>89</td>\n      <td>11166</td>\n      <td>127</td>\n      <td>[]</td>\n      <td>[]</td>\n      <td>0</td>\n      <td>[]</td>\n      <td>1647072106000</td>\n      <td>240866</td>\n    </tr>\n    <tr>\n      <th>353966</th>\n      <td>eric zemmour français berbère</td>\n      <td>3</td>\n      <td>0</td>\n      <td>1888</td>\n      <td>712</td>\n      <td>3086</td>\n      <td>[]</td>\n      <td>[]</td>\n      <td>0</td>\n      <td>[]</td>\n      <td>1647607230000</td>\n      <td>1173763</td>\n    </tr>\n    <tr>\n      <th>353967</th>\n      <td>gauchistes dépression pq</td>\n      <td>0</td>\n      <td>0</td>\n      <td>139</td>\n      <td>486</td>\n      <td>320</td>\n      <td>[]</td>\n      <td>[]</td>\n      <td>0</td>\n      <td>[]</td>\n      <td>1646987195000</td>\n      <td>929182</td>\n    </tr>\n    <tr>\n      <th>353968</th>\n      <td>algérie emmanuel macron grande histoire amour</td>\n      <td>0</td>\n      <td>0</td>\n      <td>0</td>\n      <td>82</td>\n      <td>24</td>\n      <td>[]</td>\n      <td>[]</td>\n      <td>0</td>\n      <td>[]</td>\n      <td>1647602843000</td>\n      <td>1250518</td>\n    </tr>\n  </tbody>\n</table>\n<p>353969 rows × 12 columns</p>\n</div>"
     },
     "execution_count": 3,
     "metadata": {},
     "output_type": "execute_result"
    }
   ],
   "source": [
    "read_train_df"
   ],
   "metadata": {
    "collapsed": false
   }
  },
  {
   "cell_type": "code",
   "execution_count": 4,
   "outputs": [
    {
     "data": {
      "text/plain": "count    353969.0\nmean          0.0\nstd           0.0\nmin           0.0\n25%           0.0\n50%           0.0\n75%           0.0\nmax           0.0\nName: mentions, dtype: float64"
     },
     "execution_count": 4,
     "metadata": {},
     "output_type": "execute_result"
    }
   ],
   "source": [
    "read_train_df['mentions'].apply(ast.literal_eval).apply(len).describe()"
   ],
   "metadata": {
    "collapsed": false
   }
  },
  {
   "cell_type": "code",
   "execution_count": 5,
   "outputs": [],
   "source": [
    "read_train_df.urls = read_train_df.urls.apply(ast.literal_eval)\n",
    "read_train_df.hashtags = read_train_df.hashtags.apply(ast.literal_eval)"
   ],
   "metadata": {
    "collapsed": false
   }
  },
  {
   "cell_type": "code",
   "execution_count": 6,
   "outputs": [],
   "source": [
    "temp = read_train_df.explode('urls')[['urls', 'favorites_count']]\n",
    "avg_per_url = temp.groupby(['urls']).mean().to_dict()['favorites_count']\n",
    "\n",
    "temp = read_train_df.explode('hashtags')[['hashtags', 'favorites_count']]\n",
    "avg_per_hashtag = temp.groupby(['hashtags']).mean().to_dict()['favorites_count']"
   ],
   "metadata": {
    "collapsed": false
   }
  },
  {
   "cell_type": "code",
   "execution_count": 7,
   "outputs": [],
   "source": [
    "def format_df(df: pd.DataFrame,\n",
    "                  type: str = 'train',\n",
    "                  keep_time: bool = False,\n",
    "                  keep_fts: bool = False):\n",
    "    final_df = df.drop(['TweetID', 'mentions', 'timestamp'], axis=1)\n",
    "\n",
    "    if keep_fts:\n",
    "        def apply_avg_urls(list_obj):\n",
    "            result = 0.0\n",
    "            for url in list_obj:\n",
    "                result += avg_per_url[url] if url in avg_per_url else 0.0\n",
    "            return result / len(list_obj) if list_obj else 0.0\n",
    "        url_avg_favs = df['urls'].apply(apply_avg_urls).rename('fav_avg_per_url')\n",
    "        final_df = pd.concat([final_df, url_avg_favs], axis=1)\n",
    "\n",
    "        def apply_max_hashtags(list_obj):\n",
    "            result = 0.0\n",
    "            for hashtag in list_obj:\n",
    "                result += avg_per_hashtag[hashtag] if hashtag in avg_per_hashtag else 0.0\n",
    "            return result / len(list_obj) if list_obj else 0.0\n",
    "        hash_avg_favs = df['hashtags'].apply(apply_max_hashtags).rename('fav_avg_per_hashtag')\n",
    "        final_df = pd.concat([final_df, hash_avg_favs], axis=1)\n",
    "\n",
    "        text_len = df['text'].apply(len).rename('text_len')\n",
    "        final_df = pd.concat([final_df, text_len], axis=1)\n",
    "\n",
    "    final_df.urls = final_df.urls.apply(len)\n",
    "    final_df.hashtags = final_df.hashtags.apply(len)\n",
    "\n",
    "    if keep_time:\n",
    "        timestamps = df.timestamp // 1000\n",
    "        timestamps = timestamps.apply(datetime.datetime.fromtimestamp).apply(datetime.datetime.timetuple)\n",
    "\n",
    "        time_df = pd.DataFrame(timestamps.tolist(), index=df.index,\n",
    "                               columns=['tm_year', 'tm_mon', 'tm_mday', 'tm_hour', 'tm_min', 'tm_sec', 'tm_wday',\n",
    "                                        'tm_yday', 'tm_isdst'])\n",
    "        time_df = time_df.drop(['tm_year', 'tm_mon', 'tm_mday', 'tm_isdst'], axis=1)\n",
    "\n",
    "        final_df = pd.concat([final_df, time_df], axis=1)\n",
    "\n",
    "    return final_df"
   ],
   "metadata": {
    "collapsed": false
   }
  },
  {
   "cell_type": "code",
   "execution_count": 9,
   "outputs": [],
   "source": [
    "train_df = format_df(read_train_df, keep_time=True, keep_fts=False)"
   ],
   "metadata": {
    "collapsed": false
   }
  },
  {
   "cell_type": "code",
   "execution_count": 10,
   "outputs": [
    {
     "data": {
      "text/plain": "                                                     text  retweets_count  \\\n0                      rt refarcir macron ans nom prépare               3   \n1                                               populaire               0   \n2                                     faut dégager cinglé               3   \n3       enseignants mettre prescriptions président rép...               0   \n4                              mafieuse oppressive macron               0   \n...                                                   ...             ...   \n353964                     gonflette tour raciste frustré               0   \n353965  france caste crapuleuse encadrée gangsters irr...               0   \n353966                      eric zemmour français berbère               3   \n353967                           gauchistes dépression pq               0   \n353968      algérie emmanuel macron grande histoire amour               0   \n\n        favorites_count  followers_count  statuses_count  friends_count  urls  \\\n0                     0             3682          453535           3628     0   \n1                     0               86            1016            284     0   \n2                     1             1944           28234           1995     0   \n3                     0                1            1072              0     1   \n4                     0            13957           25311          10841     0   \n...                 ...              ...             ...            ...   ...   \n353964                0               34            1509             55     1   \n353965                0               89           11166            127     0   \n353966                0             1888             712           3086     0   \n353967                0              139             486            320     0   \n353968                0                0              82             24     0   \n\n        verified  hashtags  tm_hour  tm_min  tm_sec  tm_wday  tm_yday  \n0              0         0        6      54       8        4       70  \n1              0         0       13      51      28        5       78  \n2              0         0       19      47      28        1       74  \n3              0         0       12      11      22        0       73  \n4              0         0       12      46      14        0       73  \n...          ...       ...      ...     ...     ...      ...      ...  \n353964         0         0       14      42      33        2       75  \n353965         0         0        9       1      46        5       71  \n353966         0         0       13      40      30        4       77  \n353967         0         0        9      26      35        4       70  \n353968         0         0       12      27      23        4       77  \n\n[353969 rows x 14 columns]",
      "text/html": "<div>\n<style scoped>\n    .dataframe tbody tr th:only-of-type {\n        vertical-align: middle;\n    }\n\n    .dataframe tbody tr th {\n        vertical-align: top;\n    }\n\n    .dataframe thead th {\n        text-align: right;\n    }\n</style>\n<table border=\"1\" class=\"dataframe\">\n  <thead>\n    <tr style=\"text-align: right;\">\n      <th></th>\n      <th>text</th>\n      <th>retweets_count</th>\n      <th>favorites_count</th>\n      <th>followers_count</th>\n      <th>statuses_count</th>\n      <th>friends_count</th>\n      <th>urls</th>\n      <th>verified</th>\n      <th>hashtags</th>\n      <th>tm_hour</th>\n      <th>tm_min</th>\n      <th>tm_sec</th>\n      <th>tm_wday</th>\n      <th>tm_yday</th>\n    </tr>\n  </thead>\n  <tbody>\n    <tr>\n      <th>0</th>\n      <td>rt refarcir macron ans nom prépare</td>\n      <td>3</td>\n      <td>0</td>\n      <td>3682</td>\n      <td>453535</td>\n      <td>3628</td>\n      <td>0</td>\n      <td>0</td>\n      <td>0</td>\n      <td>6</td>\n      <td>54</td>\n      <td>8</td>\n      <td>4</td>\n      <td>70</td>\n    </tr>\n    <tr>\n      <th>1</th>\n      <td>populaire</td>\n      <td>0</td>\n      <td>0</td>\n      <td>86</td>\n      <td>1016</td>\n      <td>284</td>\n      <td>0</td>\n      <td>0</td>\n      <td>0</td>\n      <td>13</td>\n      <td>51</td>\n      <td>28</td>\n      <td>5</td>\n      <td>78</td>\n    </tr>\n    <tr>\n      <th>2</th>\n      <td>faut dégager cinglé</td>\n      <td>3</td>\n      <td>1</td>\n      <td>1944</td>\n      <td>28234</td>\n      <td>1995</td>\n      <td>0</td>\n      <td>0</td>\n      <td>0</td>\n      <td>19</td>\n      <td>47</td>\n      <td>28</td>\n      <td>1</td>\n      <td>74</td>\n    </tr>\n    <tr>\n      <th>3</th>\n      <td>enseignants mettre prescriptions président rép...</td>\n      <td>0</td>\n      <td>0</td>\n      <td>1</td>\n      <td>1072</td>\n      <td>0</td>\n      <td>1</td>\n      <td>0</td>\n      <td>0</td>\n      <td>12</td>\n      <td>11</td>\n      <td>22</td>\n      <td>0</td>\n      <td>73</td>\n    </tr>\n    <tr>\n      <th>4</th>\n      <td>mafieuse oppressive macron</td>\n      <td>0</td>\n      <td>0</td>\n      <td>13957</td>\n      <td>25311</td>\n      <td>10841</td>\n      <td>0</td>\n      <td>0</td>\n      <td>0</td>\n      <td>12</td>\n      <td>46</td>\n      <td>14</td>\n      <td>0</td>\n      <td>73</td>\n    </tr>\n    <tr>\n      <th>...</th>\n      <td>...</td>\n      <td>...</td>\n      <td>...</td>\n      <td>...</td>\n      <td>...</td>\n      <td>...</td>\n      <td>...</td>\n      <td>...</td>\n      <td>...</td>\n      <td>...</td>\n      <td>...</td>\n      <td>...</td>\n      <td>...</td>\n      <td>...</td>\n    </tr>\n    <tr>\n      <th>353964</th>\n      <td>gonflette tour raciste frustré</td>\n      <td>0</td>\n      <td>0</td>\n      <td>34</td>\n      <td>1509</td>\n      <td>55</td>\n      <td>1</td>\n      <td>0</td>\n      <td>0</td>\n      <td>14</td>\n      <td>42</td>\n      <td>33</td>\n      <td>2</td>\n      <td>75</td>\n    </tr>\n    <tr>\n      <th>353965</th>\n      <td>france caste crapuleuse encadrée gangsters irr...</td>\n      <td>0</td>\n      <td>0</td>\n      <td>89</td>\n      <td>11166</td>\n      <td>127</td>\n      <td>0</td>\n      <td>0</td>\n      <td>0</td>\n      <td>9</td>\n      <td>1</td>\n      <td>46</td>\n      <td>5</td>\n      <td>71</td>\n    </tr>\n    <tr>\n      <th>353966</th>\n      <td>eric zemmour français berbère</td>\n      <td>3</td>\n      <td>0</td>\n      <td>1888</td>\n      <td>712</td>\n      <td>3086</td>\n      <td>0</td>\n      <td>0</td>\n      <td>0</td>\n      <td>13</td>\n      <td>40</td>\n      <td>30</td>\n      <td>4</td>\n      <td>77</td>\n    </tr>\n    <tr>\n      <th>353967</th>\n      <td>gauchistes dépression pq</td>\n      <td>0</td>\n      <td>0</td>\n      <td>139</td>\n      <td>486</td>\n      <td>320</td>\n      <td>0</td>\n      <td>0</td>\n      <td>0</td>\n      <td>9</td>\n      <td>26</td>\n      <td>35</td>\n      <td>4</td>\n      <td>70</td>\n    </tr>\n    <tr>\n      <th>353968</th>\n      <td>algérie emmanuel macron grande histoire amour</td>\n      <td>0</td>\n      <td>0</td>\n      <td>0</td>\n      <td>82</td>\n      <td>24</td>\n      <td>0</td>\n      <td>0</td>\n      <td>0</td>\n      <td>12</td>\n      <td>27</td>\n      <td>23</td>\n      <td>4</td>\n      <td>77</td>\n    </tr>\n  </tbody>\n</table>\n<p>353969 rows × 14 columns</p>\n</div>"
     },
     "execution_count": 10,
     "metadata": {},
     "output_type": "execute_result"
    }
   ],
   "source": [
    "train_df"
   ],
   "metadata": {
    "collapsed": false
   }
  },
  {
   "cell_type": "code",
   "execution_count": 12,
   "outputs": [
    {
     "data": {
      "text/plain": "        favorites_count  followers_count  statuses_count  friends_count  urls  \\\n0                     0             3682          453535           3628     0   \n1                     0               86            1016            284     0   \n2                     1             1944           28234           1995     0   \n3                     0                1            1072              0     1   \n4                     0            13957           25311          10841     0   \n...                 ...              ...             ...            ...   ...   \n353964                0               34            1509             55     1   \n353965                0               89           11166            127     0   \n353966                0             1888             712           3086     0   \n353967                0              139             486            320     0   \n353968                0                0              82             24     0   \n\n        verified  hashtags  tm_hour  tm_min  tm_sec  tm_wday  tm_yday  \n0              0         0        6      54       8        4       70  \n1              0         0       13      51      28        5       78  \n2              0         0       19      47      28        1       74  \n3              0         0       12      11      22        0       73  \n4              0         0       12      46      14        0       73  \n...          ...       ...      ...     ...     ...      ...      ...  \n353964         0         0       14      42      33        2       75  \n353965         0         0        9       1      46        5       71  \n353966         0         0       13      40      30        4       77  \n353967         0         0        9      26      35        4       70  \n353968         0         0       12      27      23        4       77  \n\n[353969 rows x 12 columns]",
      "text/html": "<div>\n<style scoped>\n    .dataframe tbody tr th:only-of-type {\n        vertical-align: middle;\n    }\n\n    .dataframe tbody tr th {\n        vertical-align: top;\n    }\n\n    .dataframe thead th {\n        text-align: right;\n    }\n</style>\n<table border=\"1\" class=\"dataframe\">\n  <thead>\n    <tr style=\"text-align: right;\">\n      <th></th>\n      <th>favorites_count</th>\n      <th>followers_count</th>\n      <th>statuses_count</th>\n      <th>friends_count</th>\n      <th>urls</th>\n      <th>verified</th>\n      <th>hashtags</th>\n      <th>tm_hour</th>\n      <th>tm_min</th>\n      <th>tm_sec</th>\n      <th>tm_wday</th>\n      <th>tm_yday</th>\n    </tr>\n  </thead>\n  <tbody>\n    <tr>\n      <th>0</th>\n      <td>0</td>\n      <td>3682</td>\n      <td>453535</td>\n      <td>3628</td>\n      <td>0</td>\n      <td>0</td>\n      <td>0</td>\n      <td>6</td>\n      <td>54</td>\n      <td>8</td>\n      <td>4</td>\n      <td>70</td>\n    </tr>\n    <tr>\n      <th>1</th>\n      <td>0</td>\n      <td>86</td>\n      <td>1016</td>\n      <td>284</td>\n      <td>0</td>\n      <td>0</td>\n      <td>0</td>\n      <td>13</td>\n      <td>51</td>\n      <td>28</td>\n      <td>5</td>\n      <td>78</td>\n    </tr>\n    <tr>\n      <th>2</th>\n      <td>1</td>\n      <td>1944</td>\n      <td>28234</td>\n      <td>1995</td>\n      <td>0</td>\n      <td>0</td>\n      <td>0</td>\n      <td>19</td>\n      <td>47</td>\n      <td>28</td>\n      <td>1</td>\n      <td>74</td>\n    </tr>\n    <tr>\n      <th>3</th>\n      <td>0</td>\n      <td>1</td>\n      <td>1072</td>\n      <td>0</td>\n      <td>1</td>\n      <td>0</td>\n      <td>0</td>\n      <td>12</td>\n      <td>11</td>\n      <td>22</td>\n      <td>0</td>\n      <td>73</td>\n    </tr>\n    <tr>\n      <th>4</th>\n      <td>0</td>\n      <td>13957</td>\n      <td>25311</td>\n      <td>10841</td>\n      <td>0</td>\n      <td>0</td>\n      <td>0</td>\n      <td>12</td>\n      <td>46</td>\n      <td>14</td>\n      <td>0</td>\n      <td>73</td>\n    </tr>\n    <tr>\n      <th>...</th>\n      <td>...</td>\n      <td>...</td>\n      <td>...</td>\n      <td>...</td>\n      <td>...</td>\n      <td>...</td>\n      <td>...</td>\n      <td>...</td>\n      <td>...</td>\n      <td>...</td>\n      <td>...</td>\n      <td>...</td>\n    </tr>\n    <tr>\n      <th>353964</th>\n      <td>0</td>\n      <td>34</td>\n      <td>1509</td>\n      <td>55</td>\n      <td>1</td>\n      <td>0</td>\n      <td>0</td>\n      <td>14</td>\n      <td>42</td>\n      <td>33</td>\n      <td>2</td>\n      <td>75</td>\n    </tr>\n    <tr>\n      <th>353965</th>\n      <td>0</td>\n      <td>89</td>\n      <td>11166</td>\n      <td>127</td>\n      <td>0</td>\n      <td>0</td>\n      <td>0</td>\n      <td>9</td>\n      <td>1</td>\n      <td>46</td>\n      <td>5</td>\n      <td>71</td>\n    </tr>\n    <tr>\n      <th>353966</th>\n      <td>0</td>\n      <td>1888</td>\n      <td>712</td>\n      <td>3086</td>\n      <td>0</td>\n      <td>0</td>\n      <td>0</td>\n      <td>13</td>\n      <td>40</td>\n      <td>30</td>\n      <td>4</td>\n      <td>77</td>\n    </tr>\n    <tr>\n      <th>353967</th>\n      <td>0</td>\n      <td>139</td>\n      <td>486</td>\n      <td>320</td>\n      <td>0</td>\n      <td>0</td>\n      <td>0</td>\n      <td>9</td>\n      <td>26</td>\n      <td>35</td>\n      <td>4</td>\n      <td>70</td>\n    </tr>\n    <tr>\n      <th>353968</th>\n      <td>0</td>\n      <td>0</td>\n      <td>82</td>\n      <td>24</td>\n      <td>0</td>\n      <td>0</td>\n      <td>0</td>\n      <td>12</td>\n      <td>27</td>\n      <td>23</td>\n      <td>4</td>\n      <td>77</td>\n    </tr>\n  </tbody>\n</table>\n<p>353969 rows × 12 columns</p>\n</div>"
     },
     "execution_count": 12,
     "metadata": {},
     "output_type": "execute_result"
    }
   ],
   "source": [
    "train_df_input = train_df.drop(['retweets_count', 'text'], axis=1)\n",
    "train_df_input"
   ],
   "metadata": {
    "collapsed": false
   }
  },
  {
   "cell_type": "code",
   "execution_count": 22,
   "outputs": [],
   "source": [
    "discrete_features = train_df_input.columns == 'verified'\n",
    "\n",
    "mi_scores = sklearn.feature_selection.mutual_info_regression(train_df_input, train_df['retweets_count'], discrete_features=discrete_features)\n",
    "mi_scores = pd.Series(mi_scores, name=\"MI Scores\", index=train_df_input.columns)\n",
    "mi_scores = mi_scores.sort_values(ascending=False)"
   ],
   "metadata": {
    "collapsed": false
   }
  },
  {
   "cell_type": "code",
   "execution_count": 23,
   "outputs": [
    {
     "data": {
      "text/plain": "<Figure size 800x500 with 1 Axes>",
      "image/png": "[encoded data removed]"
     },
     "metadata": {},
     "output_type": "display_data"
    }
   ],
   "source": [
    "plt.figure(dpi=100, figsize=(8, 5))\n",
    "mi_scores = mi_scores.sort_values(ascending=True)\n",
    "width = np.arange(len(mi_scores))\n",
    "ticks = list(mi_scores.index)\n",
    "plt.barh(width, mi_scores)\n",
    "plt.yticks(width, ticks)\n",
    "plt.title(\"Mutual Information Scores\")\n",
    "plt.show()"
   ],
   "metadata": {
    "collapsed": false
   }
  },
  {
   "cell_type": "code",
   "execution_count": null,
   "outputs": [],
   "source": [
    "input_with_gts = pd.concat([train_df['retweets_count'], train_df_input], axis=1)\n",
    "\n",
    "num_fts = input_with_gts.shape[1]\n",
    "corr = np.corrcoef(input_with_gts.values.T)\n",
    "\n",
    "fig, ax = plt.subplots(figsize=(9, 9))\n",
    "im = ax.imshow(corr, cmap='bwr')\n",
    "ax.set_xticks(np.arange(num_fts), labels=input_with_gts.columns)\n",
    "ax.set_yticks(np.arange(num_fts), labels=input_with_gts.columns)\n",
    "plt.colorbar(im)\n",
    "plt.setp(ax.get_xticklabels(), rotation=45, ha=\"right\",\n",
    "         rotation_mode=\"anchor\")\n",
    "for i in range(num_fts):\n",
    "    for j in range(num_fts):\n",
    "        text = ax.text(j, i, '%.2f' % corr[i, j], ha=\"center\", va=\"center\", color=\"k\")\n",
    "fig.tight_layout()\n",
    "plt.show()"
   ],
   "metadata": {
    "collapsed": false
   }
  },
  {
   "cell_type": "markdown",
   "source": [
    "# NLP"
   ],
   "metadata": {
    "collapsed": false
   }
  },
  {
   "cell_type": "code",
   "execution_count": null,
   "outputs": [],
   "source": [
    "nlp_model = gensim.models.Word2Vec.load('models/word2vec.model')\n",
    "\n",
    "train_tweets = new_train_df['text'].apply(str.split).to_list()\n",
    "train_dictionary = gensim.corpora.Dictionary(train_tweets)\n",
    "train_corpus = [train_dictionary.doc2bow(tweet) for tweet in train_tweets]\n",
    "\n",
    "tfidf = gensim.models.TfidfModel(train_corpus)"
   ],
   "metadata": {
    "collapsed": false
   }
  },
  {
   "cell_type": "code",
   "execution_count": null,
   "outputs": [],
   "source": [
    "text = train_df['text'].iloc[3].split(' ')\n",
    "text_vecs = nlp_model.wv[text]\n",
    "text_img = text_vecs.T @ text_vecs\n",
    "\n",
    "\n",
    "print(text)\n",
    "plt.imshow(text_img)\n",
    "plt.show()"
   ],
   "metadata": {
    "collapsed": false
   }
  },
  {
   "cell_type": "code",
   "execution_count": null,
   "outputs": [],
   "source": [
    "text = new_train_df['text']\n",
    "i = 0\n",
    "encoded_words = [word for word in text.iloc[i].split(' ') if word in nlp_model.wv and\n",
    "                 word in train_dictionary.token2id]\n",
    "if encoded_words:\n",
    "    keys = [train_dictionary.token2id[word] for word in encoded_words]\n",
    "    tf_idf_dict = dict(tfidf[train_corpus[i]])\n",
    "    tf_idf_coefs = np.array([tf_idf_dict[key] for key in keys])\n",
    "\n",
    "    text_vec = nlp_model.wv[encoded_words]\n",
    "    text_vec = (text_vec * tf_idf_coefs[:, None]).sum(0)\n",
    "\n",
    "text_vec"
   ],
   "metadata": {
    "collapsed": false
   }
  },
  {
   "cell_type": "markdown",
   "source": [
    "# Trees, Boosting"
   ],
   "metadata": {
    "collapsed": false
   }
  },
  {
   "cell_type": "code",
   "execution_count": null,
   "outputs": [],
   "source": [
    "full_train_X = train_df_input.values\n",
    "full_train_X = (full_train_X - train_df_input.values.mean(0)) / train_df_input.values.std(0)\n",
    "\n",
    "full_train_y = train_df['retweets_count'].values\n",
    "\n",
    "full_test_X = (test_df_input.values - train_df_input.values.mean(0)) / train_df_input.values.std(0)\n",
    "\n",
    "use_text = False\n",
    "\n",
    "if use_text:\n",
    "    train_text = train_df['text']\n",
    "    test_text = test_df['text']\n",
    "\n",
    "    new_train_X = np.zeros((full_train_X.shape[0], full_train_X.shape[1] + nlp_model.vector_size))\n",
    "    new_test_X = np.zeros((full_train_X.shape[0], full_train_X.shape[1] + nlp_model.vector_size))\n",
    "\n",
    "    for i in range(len(full_train_X)):\n",
    "        text_vec = nlp_model.wv[train_text.iloc[i].split(' ')].mean(0)\n",
    "        new_train_X[i] = np.concatenate([full_train_X[i], text_vec])\n",
    "\n",
    "    for i in range(len(full_test_X)):\n",
    "        encoded_words = [word for word in test_text.iloc[i].split(' ') if word in nlp_model.wv]\n",
    "        if encoded_words:\n",
    "            text_vec = nlp_model.wv[encoded_words].mean(0)\n",
    "            new_test_X[i] = np.concatenate([full_test_X[i], text_vec])\n",
    "        else:\n",
    "            new_test_X[i] = np.concatenate([full_test_X[i], np.zeros((nlp_model.vector_size,))])\n",
    "\n",
    "    full_train_X = new_train_X\n",
    "    full_test_X = new_test_X"
   ],
   "metadata": {
    "collapsed": false
   }
  },
  {
   "cell_type": "code",
   "execution_count": null,
   "outputs": [],
   "source": [
    "perform_cv = False\n",
    "\n",
    "if perform_cv:\n",
    "    scores_xgboost = sklearn.model_selection.cross_validate(xgboost.XGBRegressor(verbosity=0,\n",
    "                                                                                 max_depth=10),\n",
    "                                                            full_train_X,\n",
    "                                                            full_train_y,\n",
    "                                                            cv=5,\n",
    "                                                            scoring='neg_mean_absolute_error',\n",
    "                                                            verbose=2)\n",
    "\n",
    "    print(- scores_xgboost['test_score'].mean())"
   ],
   "metadata": {
    "collapsed": false
   }
  },
  {
   "cell_type": "markdown",
   "source": [
    "# Make submission"
   ],
   "metadata": {
    "collapsed": false
   }
  },
  {
   "cell_type": "code",
   "execution_count": null,
   "outputs": [],
   "source": [
    "make_submission = False\n",
    "\n",
    "if make_submission:\n",
    "    test_ids = test_df[['TweetID']]\n",
    "    model = xgboost.XGBRegressor(verbosity=2)\n",
    "    model.fit(full_train_X, full_train_y)\n",
    "\n",
    "    test_predictions = model.predict(full_test_X)\n",
    "\n",
    "    submission_df = pd.DataFrame(data={'retweets_count': test_predictions})\n",
    "    submission_df = pd.concat([test_ids, submission_df], axis=1)\n",
    "    submission_df.to_csv('data/submission.csv', index=False)"
   ],
   "metadata": {
    "collapsed": false
   }
  }
 ],
 "metadata": {
  "kernelspec": {
   "display_name": "Python 3",
   "language": "python",
   "name": "python3"
  },
  "language_info": {
   "codemirror_mode": {
    "name": "ipython",
    "version": 2
   },
   "file_extension": ".py",
   "mimetype": "text/x-python",
   "name": "python",
   "nbconvert_exporter": "python",
   "pygments_lexer": "ipython2",
   "version": "2.7.6"
  }
 },
 "nbformat": 4,
 "nbformat_minor": 0
}
