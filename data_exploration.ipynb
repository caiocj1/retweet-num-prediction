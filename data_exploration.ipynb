{
 "cells": [
  {
   "cell_type": "code",
   "execution_count": 1,
   "metadata": {
    "collapsed": true
   },
   "outputs": [],
   "source": [
    "import numpy as np\n",
    "import pandas as pd\n",
    "import sklearn\n",
    "import sklearn.neighbors\n",
    "import matplotlib.pyplot as plt"
   ]
  },
  {
   "cell_type": "code",
   "execution_count": 2,
   "outputs": [
    {
     "data": {
      "text/plain": "Index(['Id', 'Elevation', 'Aspect', 'Slope',\n       'Horizontal_Distance_To_Hydrology', 'Vertical_Distance_To_Hydrology',\n       'Horizontal_Distance_To_Roadways', 'Hillshade_9am', 'Hillshade_Noon',\n       'Hillshade_3pm', 'Horizontal_Distance_To_Fire_Points',\n       'Wilderness_Area1', 'Wilderness_Area2', 'Wilderness_Area3',\n       'Wilderness_Area4', 'Soil_Type1', 'Soil_Type2', 'Soil_Type3',\n       'Soil_Type4', 'Soil_Type5', 'Soil_Type6', 'Soil_Type7', 'Soil_Type8',\n       'Soil_Type9', 'Soil_Type10', 'Soil_Type11', 'Soil_Type12',\n       'Soil_Type13', 'Soil_Type14', 'Soil_Type15', 'Soil_Type16',\n       'Soil_Type17', 'Soil_Type18', 'Soil_Type19', 'Soil_Type20',\n       'Soil_Type21', 'Soil_Type22', 'Soil_Type23', 'Soil_Type24',\n       'Soil_Type25', 'Soil_Type26', 'Soil_Type27', 'Soil_Type28',\n       'Soil_Type29', 'Soil_Type30', 'Soil_Type31', 'Soil_Type32',\n       'Soil_Type33', 'Soil_Type34', 'Soil_Type35', 'Soil_Type36',\n       'Soil_Type37', 'Soil_Type38', 'Soil_Type39', 'Soil_Type40',\n       'Cover_Type'],\n      dtype='object')"
     },
     "execution_count": 2,
     "metadata": {},
     "output_type": "execute_result"
    }
   ],
   "source": [
    "train_df = pd.read_csv('data/train.csv')\n",
    "test_df = pd.read_csv('data/test-full.csv')\n",
    "train_df.columns"
   ],
   "metadata": {
    "collapsed": false
   }
  },
  {
   "cell_type": "code",
   "execution_count": 3,
   "outputs": [],
   "source": [
    "data = train_df.T.to_dict()"
   ],
   "metadata": {
    "collapsed": false
   }
  },
  {
   "cell_type": "code",
   "execution_count": 4,
   "outputs": [
    {
     "data": {
      "text/plain": "array([41559587,  2356218,   250338,  3453053,   775833, 25975823,\n        3220996,  3309250,  2033294, 23093650,     3568,      569,\n           6302,     4681,      339,      627,     1006,      839,\n            181,      679,        1,        2,        4,     2096,\n            376,      260,      513,      173,        0,      106,\n            640,       44,       53,      132,       10,      332,\n            742,      265,        6,       48,        8,        7,\n           1308,      736,      304,      663,      619,       18,\n            103,       14,       32,      744,      634,      456],\n      dtype=int64)"
     },
     "execution_count": 4,
     "metadata": {},
     "output_type": "execute_result"
    }
   ],
   "source": [
    "train_df_input = train_df.drop(['Id', 'Cover_Type'], axis=1)\n",
    "train_df_input.values.sum(0)"
   ],
   "metadata": {
    "collapsed": false
   }
  },
  {
   "cell_type": "code",
   "execution_count": 5,
   "outputs": [
    {
     "data": {
      "text/plain": "array([1719426752,   90438473,    8194421,  156541027,   26969912,\n       1365463383,  123259400,  129750854,   82810631, 1150572966,\n           260796,      29884,     253364,      36968,       3031,\n             7525,       4823,      12396,       1597,       6575,\n              105,        179,       1147,      32634,      12410,\n            29971,      17431,        599,          3,       2845,\n             3422,       1899,       4021,       9259,        838,\n            33373,      57752,      21278,        474,       2589,\n             1086,        946,     115247,      30170,      25666,\n            52519,      45154,       1611,       1891,        119,\n              298,      15573,      13806,       8750], dtype=int64)"
     },
     "execution_count": 5,
     "metadata": {},
     "output_type": "execute_result"
    }
   ],
   "source": [
    "test_df_input = test_df.drop(['Id'], axis=1)\n",
    "test_df_input.values.sum(0)"
   ],
   "metadata": {
    "collapsed": false
   }
  },
  {
   "cell_type": "code",
   "execution_count": 6,
   "outputs": [],
   "source": [
    "train_df_input = train_df_input.drop(train_df_input.columns[28], axis=1)\n",
    "test_df_input = test_df_input.drop(train_df_input.columns[28], axis=1)"
   ],
   "metadata": {
    "collapsed": false
   }
  },
  {
   "cell_type": "code",
   "execution_count": 7,
   "outputs": [
    {
     "name": "stdout",
     "output_type": "stream",
     "text": [
      "0.9001537314219382\n"
     ]
    }
   ],
   "source": [
    "full_train_X = (train_df_input.values - train_df_input.values.mean(0)) / train_df_input.values.std(0)\n",
    "\n",
    "pca = sklearn.decomposition.PCA(38)\n",
    "pca.fit(full_train_X)\n",
    "\n",
    "print(pca.explained_variance_ratio_.sum())"
   ],
   "metadata": {
    "collapsed": false
   }
  },
  {
   "cell_type": "code",
   "execution_count": 8,
   "outputs": [],
   "source": [
    "def kfold_cv(X: pd.DataFrame,\n",
    "             y: pd.DataFrame,\n",
    "             n_splits: int = 10,\n",
    "             apply_pca: bool = False,\n",
    "             method: str = 'knn',\n",
    "             n_neighbors: int = 1):\n",
    "    kf = sklearn.model_selection.KFold(n_splits=n_splits, shuffle=True, random_state=123456)\n",
    "    all_splits = [i for i in kf.split(X)]\n",
    "\n",
    "    train_accuracy = []\n",
    "    val_accuracy = []\n",
    "\n",
    "    if method == 'knn':\n",
    "        model = sklearn.neighbors.KNeighborsClassifier(n_neighbors=n_neighbors)\n",
    "    elif method == 'ncc':\n",
    "        model = sklearn.neighbors.NearestCentroid()\n",
    "    elif method == 'log':\n",
    "        model = sklearn.linear_model.LogisticRegression(max_iter=500)\n",
    "\n",
    "    for k in range(n_splits):\n",
    "        train_indexes, val_indexes = all_splits[k]\n",
    "\n",
    "        train_X = X.iloc[train_indexes].values\n",
    "        train_X = (train_X - X.values.mean(0)) / X.values.std(0)\n",
    "        train_y = y.iloc[train_indexes].values - 1\n",
    "\n",
    "        val_X = X.iloc[val_indexes].values\n",
    "        val_X = (val_X - X.values.mean(0)) / X.values.std(0)\n",
    "        val_y = y.iloc[val_indexes].values - 1\n",
    "\n",
    "        if apply_pca:\n",
    "            train_X = pca.transform(train_X)\n",
    "            val_X = pca.transform(val_X)\n",
    "\n",
    "        model.fit(train_X, train_y)\n",
    "\n",
    "        train_predictions = model.predict(train_X)\n",
    "        val_predictions = model.predict(val_X)\n",
    "\n",
    "        train_accuracy.append((train_predictions == train_y).mean())\n",
    "        val_accuracy.append((val_predictions == val_y).mean())\n",
    "\n",
    "    return (sum(train_accuracy) / len(train_accuracy), sum(val_accuracy) / len(val_accuracy))"
   ],
   "metadata": {
    "collapsed": false
   }
  },
  {
   "cell_type": "code",
   "execution_count": 9,
   "outputs": [
    {
     "name": "stdout",
     "output_type": "stream",
     "text": [
      "knn: 1.0000 0.8095\n",
      "ncc: 0.6036 0.5998\n",
      "log: 0.7099 0.7046\n"
     ]
    }
   ],
   "source": [
    "methods = ['knn', 'ncc', 'log']\n",
    "\n",
    "for method in methods:\n",
    "    train_acc, val_acc = kfold_cv(X=train_df_input,\n",
    "                                  y=train_df['Cover_Type'],\n",
    "                                  n_splits=10,\n",
    "                                  apply_pca=False,\n",
    "                                  method=method,\n",
    "                                  n_neighbors=1)\n",
    "    print(method + ':', '{:.4f}'.format(train_acc), '{:.4f}'.format(val_acc))"
   ],
   "metadata": {
    "collapsed": false
   }
  }
 ],
 "metadata": {
  "kernelspec": {
   "display_name": "Python 3",
   "language": "python",
   "name": "python3"
  },
  "language_info": {
   "codemirror_mode": {
    "name": "ipython",
    "version": 2
   },
   "file_extension": ".py",
   "mimetype": "text/x-python",
   "name": "python",
   "nbconvert_exporter": "python",
   "pygments_lexer": "ipython2",
   "version": "2.7.6"
  }
 },
 "nbformat": 4,
 "nbformat_minor": 0
}
