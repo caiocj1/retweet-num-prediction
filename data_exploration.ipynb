{
 "cells": [
  {
   "cell_type": "markdown",
   "source": [
    "# Data Visualization"
   ],
   "metadata": {
    "collapsed": false
   }
  },
  {
   "cell_type": "code",
   "execution_count": null,
   "outputs": [],
   "source": [
    "import numpy as np\n",
    "import pandas as pd\n",
    "import sklearn\n",
    "import sklearn.neighbors\n",
    "import sklearn.ensemble\n",
    "import matplotlib.pyplot as plt\n",
    "import ast\n",
    "import gensim, logging\n",
    "import xgboost\n",
    "import lightgbm\n",
    "import datetime"
   ],
   "metadata": {
    "collapsed": false
   }
  },
  {
   "cell_type": "code",
   "execution_count": null,
   "outputs": [],
   "source": [
    "train_df = pd.read_csv('data/train.csv')\n",
    "test_df = pd.read_csv('data/evaluation.csv')\n",
    "train_df.describe()"
   ],
   "metadata": {
    "collapsed": false
   }
  },
  {
   "cell_type": "code",
   "execution_count": null,
   "outputs": [],
   "source": [
    "train_df"
   ],
   "metadata": {
    "collapsed": false
   }
  },
  {
   "cell_type": "code",
   "execution_count": null,
   "outputs": [],
   "source": [
    "plt.stem(train_df[train_df['retweets_count'] > 2000]['retweets_count'])\n",
    "plt.show()"
   ],
   "metadata": {
    "collapsed": false
   }
  },
  {
   "cell_type": "code",
   "execution_count": null,
   "outputs": [],
   "source": [
    "def format_df(df: pd.DataFrame,\n",
    "              type: str = 'train',\n",
    "              url_len_only: bool = True,\n",
    "              hashtag_len_only: bool = True,\n",
    "              keep_time: bool = False,\n",
    "              extra_fts: bool = False):\n",
    "    final_df = df.drop(['TweetID', 'mentions', 'timestamp'], axis=1)\n",
    "\n",
    "    final_df.urls = final_df.urls.apply(ast.literal_eval)\n",
    "    final_df.hashtags = final_df.hashtags.apply(ast.literal_eval)\n",
    "    if url_len_only:\n",
    "        final_df.urls = final_df.urls.apply(len)\n",
    "    if hashtag_len_only:\n",
    "        final_df.hashtags = final_df.hashtags.apply(len)\n",
    "\n",
    "    if keep_time:\n",
    "        timestamps = df.timestamp // 1000\n",
    "        timestamps = timestamps.apply(datetime.datetime.fromtimestamp).apply(datetime.datetime.timetuple)\n",
    "\n",
    "        time_df = pd.DataFrame(timestamps.tolist(), index=df.index,\n",
    "                               columns=['tm_year', 'tm_mon', 'tm_mday', 'tm_hour', 'tm_min', 'tm_sec', 'tm_wday',\n",
    "                                        'tm_yday', 'tm_isdst'])\n",
    "        time_df = time_df.drop(['tm_year', 'tm_mon', 'tm_mday', 'tm_isdst'], axis=1)\n",
    "\n",
    "        final_df = pd.concat([final_df, time_df], axis=1)\n",
    "\n",
    "    return final_df"
   ],
   "metadata": {
    "collapsed": false
   }
  },
  {
   "cell_type": "code",
   "execution_count": null,
   "outputs": [],
   "source": [
    "new_train_df = format_df(train_df, keep_time=False, url_len_only=True, hashtag_len_only=True)"
   ],
   "metadata": {
    "collapsed": false
   }
  },
  {
   "cell_type": "code",
   "execution_count": null,
   "outputs": [],
   "source": [
    "new_train_df"
   ],
   "metadata": {
    "collapsed": false
   }
  },
  {
   "cell_type": "code",
   "execution_count": null,
   "outputs": [],
   "source": [
    "fig = plt.figure()\n",
    "ax = plt.gca()\n",
    "ax.scatter(new_train_df['retweets_count'], new_train_df['favorites_count'])\n",
    "ax.set_yscale('log')\n",
    "ax.set_xscale('log')\n",
    "plt.show()"
   ],
   "metadata": {
    "collapsed": false
   }
  },
  {
   "cell_type": "code",
   "execution_count": null,
   "outputs": [],
   "source": [
    "train_df_input = new_train_df.drop(['retweets_count', 'text'], axis=1)\n",
    "train_df_input"
   ],
   "metadata": {
    "collapsed": false
   }
  },
  {
   "cell_type": "code",
   "execution_count": null,
   "outputs": [],
   "source": [
    "new_test_df = format_df(test_df, type='test', url_len_only=True, hashtag_len_only=True)\n",
    "test_df_input = new_test_df.drop(['text'], axis=1)\n",
    "test_df_input"
   ],
   "metadata": {
    "collapsed": false
   }
  },
  {
   "cell_type": "code",
   "execution_count": null,
   "outputs": [],
   "source": [
    "input_with_gts = pd.concat([train_df['retweets_count'], train_df_input], axis=1)\n",
    "\n",
    "num_fts = input_with_gts.shape[1]\n",
    "corr = np.corrcoef(input_with_gts.values.T)\n",
    "\n",
    "fig, ax = plt.subplots(figsize=(9, 9))\n",
    "im = ax.imshow(corr, cmap='bwr')\n",
    "ax.set_xticks(np.arange(num_fts), labels=input_with_gts.columns)\n",
    "ax.set_yticks(np.arange(num_fts), labels=input_with_gts.columns)\n",
    "plt.colorbar(im)\n",
    "plt.setp(ax.get_xticklabels(), rotation=45, ha=\"right\",\n",
    "         rotation_mode=\"anchor\")\n",
    "for i in range(num_fts):\n",
    "    for j in range(num_fts):\n",
    "        text = ax.text(j, i, '%.2f' % corr[i, j], ha=\"center\", va=\"center\", color=\"k\")\n",
    "fig.tight_layout()\n",
    "plt.show()"
   ],
   "metadata": {
    "collapsed": false
   }
  },
  {
   "cell_type": "markdown",
   "source": [
    "# NLP"
   ],
   "metadata": {
    "collapsed": false
   }
  },
  {
   "cell_type": "code",
   "execution_count": null,
   "outputs": [],
   "source": [
    "nlp_model = gensim.models.Word2Vec.load('models/word2vec.model')"
   ],
   "metadata": {
    "collapsed": false
   }
  },
  {
   "cell_type": "code",
   "execution_count": null,
   "outputs": [],
   "source": [
    "text = train_df['text'].iloc[11].split(' ')\n",
    "text_vecs = nlp_model.wv[text]\n",
    "text_img = text_vecs.T @ text_vecs\n",
    "\n",
    "\n",
    "print(text)\n",
    "plt.imshow(text_img)\n",
    "plt.show()"
   ],
   "metadata": {
    "collapsed": false
   }
  },
  {
   "cell_type": "code",
   "execution_count": null,
   "outputs": [],
   "source": [],
   "metadata": {
    "collapsed": false
   }
  },
  {
   "cell_type": "markdown",
   "source": [
    "# Trees, Boosting"
   ],
   "metadata": {
    "collapsed": false
   }
  },
  {
   "cell_type": "code",
   "execution_count": null,
   "outputs": [],
   "source": [
    "full_train_X = train_df_input.values\n",
    "full_train_X = (full_train_X - train_df_input.values.mean(0)) / train_df_input.values.std(0)\n",
    "\n",
    "full_train_y = train_df['retweets_count'].values\n",
    "\n",
    "full_test_X = (test_df_input.values - train_df_input.values.mean(0)) / train_df_input.values.std(0)\n",
    "\n",
    "use_text = False\n",
    "\n",
    "if use_text:\n",
    "    train_text = train_df['text']\n",
    "    test_text = test_df['text']\n",
    "\n",
    "    new_train_X = np.zeros((full_train_X.shape[0], full_train_X.shape[1] + nlp_model.vector_size))\n",
    "    new_test_X = np.zeros((full_train_X.shape[0], full_train_X.shape[1] + nlp_model.vector_size))\n",
    "\n",
    "    for i in range(len(full_train_X)):\n",
    "        text_vec = nlp_model.wv[train_text.iloc[i].split(' ')].mean(0)\n",
    "        new_train_X[i] = np.concatenate([full_train_X[i], text_vec])\n",
    "\n",
    "    for i in range(len(full_test_X)):\n",
    "        encoded_words = [word for word in test_text.iloc[i].split(' ') if word in nlp_model.wv]\n",
    "        if encoded_words:\n",
    "            text_vec = nlp_model.wv[encoded_words].mean(0)\n",
    "            new_test_X[i] = np.concatenate([full_test_X[i], text_vec])\n",
    "        else:\n",
    "            new_test_X[i] = np.concatenate([full_test_X[i], np.zeros((nlp_model.vector_size,))])\n",
    "\n",
    "    full_train_X = new_train_X\n",
    "    full_test_X = new_test_X"
   ],
   "metadata": {
    "collapsed": false
   }
  },
  {
   "cell_type": "code",
   "execution_count": null,
   "outputs": [],
   "source": [
    "perform_cv = False\n",
    "\n",
    "if perform_cv:\n",
    "    scores_xgboost = sklearn.model_selection.cross_validate(xgboost.XGBRegressor(verbosity=0,\n",
    "                                                                                 max_depth=10),\n",
    "                                                            full_train_X,\n",
    "                                                            full_train_y,\n",
    "                                                            cv=5,\n",
    "                                                            scoring='neg_mean_absolute_error',\n",
    "                                                            verbose=2)\n",
    "\n",
    "    print(- scores_xgboost['test_score'].mean())"
   ],
   "metadata": {
    "collapsed": false
   }
  },
  {
   "cell_type": "markdown",
   "source": [
    "# Make submission"
   ],
   "metadata": {
    "collapsed": false
   }
  },
  {
   "cell_type": "code",
   "execution_count": null,
   "outputs": [],
   "source": [
    "make_submission = False\n",
    "\n",
    "if make_submission:\n",
    "    test_ids = test_df[['TweetID']]\n",
    "    model = xgboost.XGBRegressor(verbosity=2)\n",
    "    model.fit(full_train_X, full_train_y)\n",
    "\n",
    "    test_predictions = model.predict(full_test_X)\n",
    "\n",
    "    submission_df = pd.DataFrame(data={'retweets_count': test_predictions})\n",
    "    submission_df = pd.concat([test_ids, submission_df], axis=1)\n",
    "    submission_df.to_csv('data/submission.csv', index=False)"
   ],
   "metadata": {
    "collapsed": false
   }
  }
 ],
 "metadata": {
  "kernelspec": {
   "display_name": "Python 3",
   "language": "python",
   "name": "python3"
  },
  "language_info": {
   "codemirror_mode": {
    "name": "ipython",
    "version": 2
   },
   "file_extension": ".py",
   "mimetype": "text/x-python",
   "name": "python",
   "nbconvert_exporter": "python",
   "pygments_lexer": "ipython2",
   "version": "2.7.6"
  }
 },
 "nbformat": 4,
 "nbformat_minor": 0
}
