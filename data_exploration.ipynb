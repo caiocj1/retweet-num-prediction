{
 "cells": [
  {
   "cell_type": "markdown",
   "source": [
    "# Data Exploration"
   ],
   "metadata": {
    "collapsed": false
   }
  },
  {
   "cell_type": "markdown",
   "source": [
    "## Setup"
   ],
   "metadata": {
    "collapsed": false
   }
  },
  {
   "cell_type": "code",
   "execution_count": 1,
   "outputs": [
    {
     "name": "stderr",
     "output_type": "stream",
     "text": [
      "C:\\Users\\caioj\\Anaconda3\\envs\\forest-env\\lib\\site-packages\\xgboost\\compat.py:36: FutureWarning: pandas.Int64Index is deprecated and will be removed from pandas in a future version. Use pandas.Index with the appropriate dtype instead.\n",
      "  from pandas import MultiIndex, Int64Index\n"
     ]
    }
   ],
   "source": [
    "import numpy as np\n",
    "import pandas as pd\n",
    "import sklearn\n",
    "import sklearn.neighbors\n",
    "import sklearn.ensemble\n",
    "import sklearn.cluster\n",
    "import sklearn.feature_selection\n",
    "import matplotlib.pyplot as plt\n",
    "import ast\n",
    "import gensim, logging\n",
    "import xgboost\n",
    "import lightgbm\n",
    "import datetime\n",
    "import seaborn as sbn\n",
    "import torch"
   ],
   "metadata": {
    "collapsed": false
   }
  },
  {
   "cell_type": "code",
   "execution_count": 2,
   "outputs": [
    {
     "data": {
      "text/plain": "       retweets_count  favorites_count  followers_count  statuses_count  \\\ncount   353969.000000    353969.000000     3.539690e+05    3.539690e+05   \nmean        15.831810        46.655442     2.021548e+04    4.808507e+04   \nstd        241.986723       852.044385     2.598715e+05    1.133854e+05   \nmin          0.000000         0.000000     0.000000e+00    1.000000e+00   \n25%          0.000000         0.000000     1.600000e+02    2.972000e+03   \n50%          1.000000         0.000000     7.260000e+02    1.250100e+04   \n75%          3.000000         1.000000     2.283000e+03    4.352200e+04   \nmax      63674.000000    122591.000000     1.441710e+07    8.183508e+06   \n\n       friends_count       verified     timestamp       TweetID  \ncount  353969.000000  353969.000000  3.539690e+05  3.539690e+05  \nmean     1459.289003       0.030005  1.647004e+12  6.872503e+05  \nstd      2502.933271       0.170602  4.846468e+09  4.175793e+05  \nmin         0.000000       0.000000  1.301178e+12  3.000000e+00  \n25%       214.000000       0.000000  1.647068e+12  3.194490e+05  \n50%       693.000000       0.000000  1.647292e+12  6.719730e+05  \n75%      1804.000000       0.000000  1.647532e+12  1.049644e+06  \nmax    237269.000000       1.000000  1.647727e+12  1.434456e+06  ",
      "text/html": "<div>\n<style scoped>\n    .dataframe tbody tr th:only-of-type {\n        vertical-align: middle;\n    }\n\n    .dataframe tbody tr th {\n        vertical-align: top;\n    }\n\n    .dataframe thead th {\n        text-align: right;\n    }\n</style>\n<table border=\"1\" class=\"dataframe\">\n  <thead>\n    <tr style=\"text-align: right;\">\n      <th></th>\n      <th>retweets_count</th>\n      <th>favorites_count</th>\n      <th>followers_count</th>\n      <th>statuses_count</th>\n      <th>friends_count</th>\n      <th>verified</th>\n      <th>timestamp</th>\n      <th>TweetID</th>\n    </tr>\n  </thead>\n  <tbody>\n    <tr>\n      <th>count</th>\n      <td>353969.000000</td>\n      <td>353969.000000</td>\n      <td>3.539690e+05</td>\n      <td>3.539690e+05</td>\n      <td>353969.000000</td>\n      <td>353969.000000</td>\n      <td>3.539690e+05</td>\n      <td>3.539690e+05</td>\n    </tr>\n    <tr>\n      <th>mean</th>\n      <td>15.831810</td>\n      <td>46.655442</td>\n      <td>2.021548e+04</td>\n      <td>4.808507e+04</td>\n      <td>1459.289003</td>\n      <td>0.030005</td>\n      <td>1.647004e+12</td>\n      <td>6.872503e+05</td>\n    </tr>\n    <tr>\n      <th>std</th>\n      <td>241.986723</td>\n      <td>852.044385</td>\n      <td>2.598715e+05</td>\n      <td>1.133854e+05</td>\n      <td>2502.933271</td>\n      <td>0.170602</td>\n      <td>4.846468e+09</td>\n      <td>4.175793e+05</td>\n    </tr>\n    <tr>\n      <th>min</th>\n      <td>0.000000</td>\n      <td>0.000000</td>\n      <td>0.000000e+00</td>\n      <td>1.000000e+00</td>\n      <td>0.000000</td>\n      <td>0.000000</td>\n      <td>1.301178e+12</td>\n      <td>3.000000e+00</td>\n    </tr>\n    <tr>\n      <th>25%</th>\n      <td>0.000000</td>\n      <td>0.000000</td>\n      <td>1.600000e+02</td>\n      <td>2.972000e+03</td>\n      <td>214.000000</td>\n      <td>0.000000</td>\n      <td>1.647068e+12</td>\n      <td>3.194490e+05</td>\n    </tr>\n    <tr>\n      <th>50%</th>\n      <td>1.000000</td>\n      <td>0.000000</td>\n      <td>7.260000e+02</td>\n      <td>1.250100e+04</td>\n      <td>693.000000</td>\n      <td>0.000000</td>\n      <td>1.647292e+12</td>\n      <td>6.719730e+05</td>\n    </tr>\n    <tr>\n      <th>75%</th>\n      <td>3.000000</td>\n      <td>1.000000</td>\n      <td>2.283000e+03</td>\n      <td>4.352200e+04</td>\n      <td>1804.000000</td>\n      <td>0.000000</td>\n      <td>1.647532e+12</td>\n      <td>1.049644e+06</td>\n    </tr>\n    <tr>\n      <th>max</th>\n      <td>63674.000000</td>\n      <td>122591.000000</td>\n      <td>1.441710e+07</td>\n      <td>8.183508e+06</td>\n      <td>237269.000000</td>\n      <td>1.000000</td>\n      <td>1.647727e+12</td>\n      <td>1.434456e+06</td>\n    </tr>\n  </tbody>\n</table>\n</div>"
     },
     "execution_count": 2,
     "metadata": {},
     "output_type": "execute_result"
    }
   ],
   "source": [
    "read_train_df = pd.read_csv('data/train.csv')\n",
    "read_test_df = pd.read_csv('data/evaluation.csv')\n",
    "read_train_df.describe()"
   ],
   "metadata": {
    "collapsed": false
   }
  },
  {
   "cell_type": "code",
   "execution_count": 3,
   "outputs": [
    {
     "data": {
      "text/plain": "                                                     text  retweets_count  \\\n0                      rt refarcir macron ans nom prépare               3   \n1                                               populaire               0   \n2                                     faut dégager cinglé               3   \n3       enseignants mettre prescriptions président rép...               0   \n4                              mafieuse oppressive macron               0   \n...                                                   ...             ...   \n353964                     gonflette tour raciste frustré               0   \n353965  france caste crapuleuse encadrée gangsters irr...               0   \n353966                      eric zemmour français berbère               3   \n353967                           gauchistes dépression pq               0   \n353968      algérie emmanuel macron grande histoire amour               0   \n\n        favorites_count  followers_count  statuses_count  friends_count  \\\n0                     0             3682          453535           3628   \n1                     0               86            1016            284   \n2                     1             1944           28234           1995   \n3                     0                1            1072              0   \n4                     0            13957           25311          10841   \n...                 ...              ...             ...            ...   \n353964                0               34            1509             55   \n353965                0               89           11166            127   \n353966                0             1888             712           3086   \n353967                0              139             486            320   \n353968                0                0              82             24   \n\n       mentions                         urls  verified hashtags  \\\n0            []                           []         0       []   \n1            []                           []         0       []   \n2            []                           []         0       []   \n3            []  ['https://t.co/rytlted08g']         0       []   \n4            []                           []         0       []   \n...         ...                          ...       ...      ...   \n353964       []  ['https://t.co/pma33zhslx']         0       []   \n353965       []                           []         0       []   \n353966       []                           []         0       []   \n353967       []                           []         0       []   \n353968       []                           []         0       []   \n\n            timestamp  TweetID  \n0       1646978048000   832509  \n1       1647694288000  1388011  \n2       1647370048000    63896  \n3       1647256282000   979251  \n4       1647258374000  1040049  \n...               ...      ...  \n353964  1647438153000   142573  \n353965  1647072106000   240866  \n353966  1647607230000  1173763  \n353967  1646987195000   929182  \n353968  1647602843000  1250518  \n\n[353969 rows x 12 columns]",
      "text/html": "<div>\n<style scoped>\n    .dataframe tbody tr th:only-of-type {\n        vertical-align: middle;\n    }\n\n    .dataframe tbody tr th {\n        vertical-align: top;\n    }\n\n    .dataframe thead th {\n        text-align: right;\n    }\n</style>\n<table border=\"1\" class=\"dataframe\">\n  <thead>\n    <tr style=\"text-align: right;\">\n      <th></th>\n      <th>text</th>\n      <th>retweets_count</th>\n      <th>favorites_count</th>\n      <th>followers_count</th>\n      <th>statuses_count</th>\n      <th>friends_count</th>\n      <th>mentions</th>\n      <th>urls</th>\n      <th>verified</th>\n      <th>hashtags</th>\n      <th>timestamp</th>\n      <th>TweetID</th>\n    </tr>\n  </thead>\n  <tbody>\n    <tr>\n      <th>0</th>\n      <td>rt refarcir macron ans nom prépare</td>\n      <td>3</td>\n      <td>0</td>\n      <td>3682</td>\n      <td>453535</td>\n      <td>3628</td>\n      <td>[]</td>\n      <td>[]</td>\n      <td>0</td>\n      <td>[]</td>\n      <td>1646978048000</td>\n      <td>832509</td>\n    </tr>\n    <tr>\n      <th>1</th>\n      <td>populaire</td>\n      <td>0</td>\n      <td>0</td>\n      <td>86</td>\n      <td>1016</td>\n      <td>284</td>\n      <td>[]</td>\n      <td>[]</td>\n      <td>0</td>\n      <td>[]</td>\n      <td>1647694288000</td>\n      <td>1388011</td>\n    </tr>\n    <tr>\n      <th>2</th>\n      <td>faut dégager cinglé</td>\n      <td>3</td>\n      <td>1</td>\n      <td>1944</td>\n      <td>28234</td>\n      <td>1995</td>\n      <td>[]</td>\n      <td>[]</td>\n      <td>0</td>\n      <td>[]</td>\n      <td>1647370048000</td>\n      <td>63896</td>\n    </tr>\n    <tr>\n      <th>3</th>\n      <td>enseignants mettre prescriptions président rép...</td>\n      <td>0</td>\n      <td>0</td>\n      <td>1</td>\n      <td>1072</td>\n      <td>0</td>\n      <td>[]</td>\n      <td>['https://t.co/rytlted08g']</td>\n      <td>0</td>\n      <td>[]</td>\n      <td>1647256282000</td>\n      <td>979251</td>\n    </tr>\n    <tr>\n      <th>4</th>\n      <td>mafieuse oppressive macron</td>\n      <td>0</td>\n      <td>0</td>\n      <td>13957</td>\n      <td>25311</td>\n      <td>10841</td>\n      <td>[]</td>\n      <td>[]</td>\n      <td>0</td>\n      <td>[]</td>\n      <td>1647258374000</td>\n      <td>1040049</td>\n    </tr>\n    <tr>\n      <th>...</th>\n      <td>...</td>\n      <td>...</td>\n      <td>...</td>\n      <td>...</td>\n      <td>...</td>\n      <td>...</td>\n      <td>...</td>\n      <td>...</td>\n      <td>...</td>\n      <td>...</td>\n      <td>...</td>\n      <td>...</td>\n    </tr>\n    <tr>\n      <th>353964</th>\n      <td>gonflette tour raciste frustré</td>\n      <td>0</td>\n      <td>0</td>\n      <td>34</td>\n      <td>1509</td>\n      <td>55</td>\n      <td>[]</td>\n      <td>['https://t.co/pma33zhslx']</td>\n      <td>0</td>\n      <td>[]</td>\n      <td>1647438153000</td>\n      <td>142573</td>\n    </tr>\n    <tr>\n      <th>353965</th>\n      <td>france caste crapuleuse encadrée gangsters irr...</td>\n      <td>0</td>\n      <td>0</td>\n      <td>89</td>\n      <td>11166</td>\n      <td>127</td>\n      <td>[]</td>\n      <td>[]</td>\n      <td>0</td>\n      <td>[]</td>\n      <td>1647072106000</td>\n      <td>240866</td>\n    </tr>\n    <tr>\n      <th>353966</th>\n      <td>eric zemmour français berbère</td>\n      <td>3</td>\n      <td>0</td>\n      <td>1888</td>\n      <td>712</td>\n      <td>3086</td>\n      <td>[]</td>\n      <td>[]</td>\n      <td>0</td>\n      <td>[]</td>\n      <td>1647607230000</td>\n      <td>1173763</td>\n    </tr>\n    <tr>\n      <th>353967</th>\n      <td>gauchistes dépression pq</td>\n      <td>0</td>\n      <td>0</td>\n      <td>139</td>\n      <td>486</td>\n      <td>320</td>\n      <td>[]</td>\n      <td>[]</td>\n      <td>0</td>\n      <td>[]</td>\n      <td>1646987195000</td>\n      <td>929182</td>\n    </tr>\n    <tr>\n      <th>353968</th>\n      <td>algérie emmanuel macron grande histoire amour</td>\n      <td>0</td>\n      <td>0</td>\n      <td>0</td>\n      <td>82</td>\n      <td>24</td>\n      <td>[]</td>\n      <td>[]</td>\n      <td>0</td>\n      <td>[]</td>\n      <td>1647602843000</td>\n      <td>1250518</td>\n    </tr>\n  </tbody>\n</table>\n<p>353969 rows × 12 columns</p>\n</div>"
     },
     "execution_count": 3,
     "metadata": {},
     "output_type": "execute_result"
    }
   ],
   "source": [
    "read_train_df"
   ],
   "metadata": {
    "collapsed": false
   }
  },
  {
   "cell_type": "code",
   "execution_count": 4,
   "outputs": [
    {
     "data": {
      "text/plain": "count    353969.0\nmean          0.0\nstd           0.0\nmin           0.0\n25%           0.0\n50%           0.0\n75%           0.0\nmax           0.0\nName: mentions, dtype: float64"
     },
     "execution_count": 4,
     "metadata": {},
     "output_type": "execute_result"
    }
   ],
   "source": [
    "read_train_df['mentions'].apply(ast.literal_eval).apply(len).describe()"
   ],
   "metadata": {
    "collapsed": false
   }
  },
  {
   "cell_type": "code",
   "execution_count": 5,
   "outputs": [],
   "source": [
    "read_train_df.urls = read_train_df.urls.apply(ast.literal_eval)\n",
    "read_train_df.hashtags = read_train_df.hashtags.apply(ast.literal_eval)\n",
    "\n",
    "read_test_df.urls = read_test_df.urls.apply(ast.literal_eval)\n",
    "read_test_df.hashtags = read_test_df.hashtags.apply(ast.literal_eval)"
   ],
   "metadata": {
    "collapsed": false
   }
  },
  {
   "cell_type": "code",
   "execution_count": 6,
   "outputs": [],
   "source": [
    "def format_df(df: pd.DataFrame,\n",
    "                  type: str = 'train',\n",
    "                  keep_time: bool = False):\n",
    "    final_df = df.drop(['TweetID', 'mentions', 'timestamp'], axis=1)\n",
    "\n",
    "    final_df['url_count'] = final_df.urls.apply(len)\n",
    "    final_df['hashtag_count'] = final_df.hashtags.apply(len)\n",
    "\n",
    "    if keep_time:\n",
    "        timestamps = df.timestamp // 1000\n",
    "        timestamps = timestamps.apply(datetime.datetime.fromtimestamp).apply(datetime.datetime.timetuple)\n",
    "\n",
    "        time_df = pd.DataFrame(timestamps.tolist(), index=df.index,\n",
    "                               columns=['tm_year', 'tm_mon', 'tm_mday', 'tm_hour', 'tm_min', 'tm_sec', 'tm_wday',\n",
    "                                        'tm_yday', 'tm_isdst'])\n",
    "\n",
    "        final_df = pd.concat([final_df, time_df], axis=1)\n",
    "\n",
    "    return final_df"
   ],
   "metadata": {
    "collapsed": false
   }
  },
  {
   "cell_type": "code",
   "execution_count": 7,
   "outputs": [],
   "source": [
    "train_df = format_df(read_train_df, keep_time=True)\n",
    "test_df = format_df(read_test_df, keep_time=True)"
   ],
   "metadata": {
    "collapsed": false
   }
  },
  {
   "cell_type": "code",
   "execution_count": 8,
   "outputs": [
    {
     "data": {
      "text/plain": "                                                     text  retweets_count  \\\n0                      rt refarcir macron ans nom prépare               3   \n1                                               populaire               0   \n2                                     faut dégager cinglé               3   \n3       enseignants mettre prescriptions président rép...               0   \n4                              mafieuse oppressive macron               0   \n...                                                   ...             ...   \n353964                     gonflette tour raciste frustré               0   \n353965  france caste crapuleuse encadrée gangsters irr...               0   \n353966                      eric zemmour français berbère               3   \n353967                           gauchistes dépression pq               0   \n353968      algérie emmanuel macron grande histoire amour               0   \n\n        favorites_count  followers_count  statuses_count  friends_count  \\\n0                     0             3682          453535           3628   \n1                     0               86            1016            284   \n2                     1             1944           28234           1995   \n3                     0                1            1072              0   \n4                     0            13957           25311          10841   \n...                 ...              ...             ...            ...   \n353964                0               34            1509             55   \n353965                0               89           11166            127   \n353966                0             1888             712           3086   \n353967                0              139             486            320   \n353968                0                0              82             24   \n\n                             urls  verified hashtags  url_count  \\\n0                              []         0       []          0   \n1                              []         0       []          0   \n2                              []         0       []          0   \n3       [https://t.co/rytlted08g]         0       []          1   \n4                              []         0       []          0   \n...                           ...       ...      ...        ...   \n353964  [https://t.co/pma33zhslx]         0       []          1   \n353965                         []         0       []          0   \n353966                         []         0       []          0   \n353967                         []         0       []          0   \n353968                         []         0       []          0   \n\n        hashtag_count  tm_year  tm_mon  tm_mday  tm_hour  tm_min  tm_sec  \\\n0                   0     2022       3       11        6      54       8   \n1                   0     2022       3       19       13      51      28   \n2                   0     2022       3       15       19      47      28   \n3                   0     2022       3       14       12      11      22   \n4                   0     2022       3       14       12      46      14   \n...               ...      ...     ...      ...      ...     ...     ...   \n353964              0     2022       3       16       14      42      33   \n353965              0     2022       3       12        9       1      46   \n353966              0     2022       3       18       13      40      30   \n353967              0     2022       3       11        9      26      35   \n353968              0     2022       3       18       12      27      23   \n\n        tm_wday  tm_yday  tm_isdst  \n0             4       70        -1  \n1             5       78        -1  \n2             1       74        -1  \n3             0       73        -1  \n4             0       73        -1  \n...         ...      ...       ...  \n353964        2       75        -1  \n353965        5       71        -1  \n353966        4       77        -1  \n353967        4       70        -1  \n353968        4       77        -1  \n\n[353969 rows x 20 columns]",
      "text/html": "<div>\n<style scoped>\n    .dataframe tbody tr th:only-of-type {\n        vertical-align: middle;\n    }\n\n    .dataframe tbody tr th {\n        vertical-align: top;\n    }\n\n    .dataframe thead th {\n        text-align: right;\n    }\n</style>\n<table border=\"1\" class=\"dataframe\">\n  <thead>\n    <tr style=\"text-align: right;\">\n      <th></th>\n      <th>text</th>\n      <th>retweets_count</th>\n      <th>favorites_count</th>\n      <th>followers_count</th>\n      <th>statuses_count</th>\n      <th>friends_count</th>\n      <th>urls</th>\n      <th>verified</th>\n      <th>hashtags</th>\n      <th>url_count</th>\n      <th>hashtag_count</th>\n      <th>tm_year</th>\n      <th>tm_mon</th>\n      <th>tm_mday</th>\n      <th>tm_hour</th>\n      <th>tm_min</th>\n      <th>tm_sec</th>\n      <th>tm_wday</th>\n      <th>tm_yday</th>\n      <th>tm_isdst</th>\n    </tr>\n  </thead>\n  <tbody>\n    <tr>\n      <th>0</th>\n      <td>rt refarcir macron ans nom prépare</td>\n      <td>3</td>\n      <td>0</td>\n      <td>3682</td>\n      <td>453535</td>\n      <td>3628</td>\n      <td>[]</td>\n      <td>0</td>\n      <td>[]</td>\n      <td>0</td>\n      <td>0</td>\n      <td>2022</td>\n      <td>3</td>\n      <td>11</td>\n      <td>6</td>\n      <td>54</td>\n      <td>8</td>\n      <td>4</td>\n      <td>70</td>\n      <td>-1</td>\n    </tr>\n    <tr>\n      <th>1</th>\n      <td>populaire</td>\n      <td>0</td>\n      <td>0</td>\n      <td>86</td>\n      <td>1016</td>\n      <td>284</td>\n      <td>[]</td>\n      <td>0</td>\n      <td>[]</td>\n      <td>0</td>\n      <td>0</td>\n      <td>2022</td>\n      <td>3</td>\n      <td>19</td>\n      <td>13</td>\n      <td>51</td>\n      <td>28</td>\n      <td>5</td>\n      <td>78</td>\n      <td>-1</td>\n    </tr>\n    <tr>\n      <th>2</th>\n      <td>faut dégager cinglé</td>\n      <td>3</td>\n      <td>1</td>\n      <td>1944</td>\n      <td>28234</td>\n      <td>1995</td>\n      <td>[]</td>\n      <td>0</td>\n      <td>[]</td>\n      <td>0</td>\n      <td>0</td>\n      <td>2022</td>\n      <td>3</td>\n      <td>15</td>\n      <td>19</td>\n      <td>47</td>\n      <td>28</td>\n      <td>1</td>\n      <td>74</td>\n      <td>-1</td>\n    </tr>\n    <tr>\n      <th>3</th>\n      <td>enseignants mettre prescriptions président rép...</td>\n      <td>0</td>\n      <td>0</td>\n      <td>1</td>\n      <td>1072</td>\n      <td>0</td>\n      <td>[https://t.co/rytlted08g]</td>\n      <td>0</td>\n      <td>[]</td>\n      <td>1</td>\n      <td>0</td>\n      <td>2022</td>\n      <td>3</td>\n      <td>14</td>\n      <td>12</td>\n      <td>11</td>\n      <td>22</td>\n      <td>0</td>\n      <td>73</td>\n      <td>-1</td>\n    </tr>\n    <tr>\n      <th>4</th>\n      <td>mafieuse oppressive macron</td>\n      <td>0</td>\n      <td>0</td>\n      <td>13957</td>\n      <td>25311</td>\n      <td>10841</td>\n      <td>[]</td>\n      <td>0</td>\n      <td>[]</td>\n      <td>0</td>\n      <td>0</td>\n      <td>2022</td>\n      <td>3</td>\n      <td>14</td>\n      <td>12</td>\n      <td>46</td>\n      <td>14</td>\n      <td>0</td>\n      <td>73</td>\n      <td>-1</td>\n    </tr>\n    <tr>\n      <th>...</th>\n      <td>...</td>\n      <td>...</td>\n      <td>...</td>\n      <td>...</td>\n      <td>...</td>\n      <td>...</td>\n      <td>...</td>\n      <td>...</td>\n      <td>...</td>\n      <td>...</td>\n      <td>...</td>\n      <td>...</td>\n      <td>...</td>\n      <td>...</td>\n      <td>...</td>\n      <td>...</td>\n      <td>...</td>\n      <td>...</td>\n      <td>...</td>\n      <td>...</td>\n    </tr>\n    <tr>\n      <th>353964</th>\n      <td>gonflette tour raciste frustré</td>\n      <td>0</td>\n      <td>0</td>\n      <td>34</td>\n      <td>1509</td>\n      <td>55</td>\n      <td>[https://t.co/pma33zhslx]</td>\n      <td>0</td>\n      <td>[]</td>\n      <td>1</td>\n      <td>0</td>\n      <td>2022</td>\n      <td>3</td>\n      <td>16</td>\n      <td>14</td>\n      <td>42</td>\n      <td>33</td>\n      <td>2</td>\n      <td>75</td>\n      <td>-1</td>\n    </tr>\n    <tr>\n      <th>353965</th>\n      <td>france caste crapuleuse encadrée gangsters irr...</td>\n      <td>0</td>\n      <td>0</td>\n      <td>89</td>\n      <td>11166</td>\n      <td>127</td>\n      <td>[]</td>\n      <td>0</td>\n      <td>[]</td>\n      <td>0</td>\n      <td>0</td>\n      <td>2022</td>\n      <td>3</td>\n      <td>12</td>\n      <td>9</td>\n      <td>1</td>\n      <td>46</td>\n      <td>5</td>\n      <td>71</td>\n      <td>-1</td>\n    </tr>\n    <tr>\n      <th>353966</th>\n      <td>eric zemmour français berbère</td>\n      <td>3</td>\n      <td>0</td>\n      <td>1888</td>\n      <td>712</td>\n      <td>3086</td>\n      <td>[]</td>\n      <td>0</td>\n      <td>[]</td>\n      <td>0</td>\n      <td>0</td>\n      <td>2022</td>\n      <td>3</td>\n      <td>18</td>\n      <td>13</td>\n      <td>40</td>\n      <td>30</td>\n      <td>4</td>\n      <td>77</td>\n      <td>-1</td>\n    </tr>\n    <tr>\n      <th>353967</th>\n      <td>gauchistes dépression pq</td>\n      <td>0</td>\n      <td>0</td>\n      <td>139</td>\n      <td>486</td>\n      <td>320</td>\n      <td>[]</td>\n      <td>0</td>\n      <td>[]</td>\n      <td>0</td>\n      <td>0</td>\n      <td>2022</td>\n      <td>3</td>\n      <td>11</td>\n      <td>9</td>\n      <td>26</td>\n      <td>35</td>\n      <td>4</td>\n      <td>70</td>\n      <td>-1</td>\n    </tr>\n    <tr>\n      <th>353968</th>\n      <td>algérie emmanuel macron grande histoire amour</td>\n      <td>0</td>\n      <td>0</td>\n      <td>0</td>\n      <td>82</td>\n      <td>24</td>\n      <td>[]</td>\n      <td>0</td>\n      <td>[]</td>\n      <td>0</td>\n      <td>0</td>\n      <td>2022</td>\n      <td>3</td>\n      <td>18</td>\n      <td>12</td>\n      <td>27</td>\n      <td>23</td>\n      <td>4</td>\n      <td>77</td>\n      <td>-1</td>\n    </tr>\n  </tbody>\n</table>\n<p>353969 rows × 20 columns</p>\n</div>"
     },
     "execution_count": 8,
     "metadata": {},
     "output_type": "execute_result"
    }
   ],
   "source": [
    "train_df"
   ],
   "metadata": {
    "collapsed": false
   }
  },
  {
   "cell_type": "code",
   "execution_count": 9,
   "outputs": [
    {
     "data": {
      "text/plain": "        favorites_count  followers_count  statuses_count  friends_count  \\\n0                     0             3682          453535           3628   \n1                     0               86            1016            284   \n2                     1             1944           28234           1995   \n3                     0                1            1072              0   \n4                     0            13957           25311          10841   \n...                 ...              ...             ...            ...   \n353964                0               34            1509             55   \n353965                0               89           11166            127   \n353966                0             1888             712           3086   \n353967                0              139             486            320   \n353968                0                0              82             24   \n\n        verified  url_count  hashtag_count  tm_year  tm_mon  tm_mday  tm_hour  \\\n0              0          0              0     2022       3       11        6   \n1              0          0              0     2022       3       19       13   \n2              0          0              0     2022       3       15       19   \n3              0          1              0     2022       3       14       12   \n4              0          0              0     2022       3       14       12   \n...          ...        ...            ...      ...     ...      ...      ...   \n353964         0          1              0     2022       3       16       14   \n353965         0          0              0     2022       3       12        9   \n353966         0          0              0     2022       3       18       13   \n353967         0          0              0     2022       3       11        9   \n353968         0          0              0     2022       3       18       12   \n\n        tm_min  tm_sec  tm_wday  tm_yday  tm_isdst  \n0           54       8        4       70        -1  \n1           51      28        5       78        -1  \n2           47      28        1       74        -1  \n3           11      22        0       73        -1  \n4           46      14        0       73        -1  \n...        ...     ...      ...      ...       ...  \n353964      42      33        2       75        -1  \n353965       1      46        5       71        -1  \n353966      40      30        4       77        -1  \n353967      26      35        4       70        -1  \n353968      27      23        4       77        -1  \n\n[353969 rows x 16 columns]",
      "text/html": "<div>\n<style scoped>\n    .dataframe tbody tr th:only-of-type {\n        vertical-align: middle;\n    }\n\n    .dataframe tbody tr th {\n        vertical-align: top;\n    }\n\n    .dataframe thead th {\n        text-align: right;\n    }\n</style>\n<table border=\"1\" class=\"dataframe\">\n  <thead>\n    <tr style=\"text-align: right;\">\n      <th></th>\n      <th>favorites_count</th>\n      <th>followers_count</th>\n      <th>statuses_count</th>\n      <th>friends_count</th>\n      <th>verified</th>\n      <th>url_count</th>\n      <th>hashtag_count</th>\n      <th>tm_year</th>\n      <th>tm_mon</th>\n      <th>tm_mday</th>\n      <th>tm_hour</th>\n      <th>tm_min</th>\n      <th>tm_sec</th>\n      <th>tm_wday</th>\n      <th>tm_yday</th>\n      <th>tm_isdst</th>\n    </tr>\n  </thead>\n  <tbody>\n    <tr>\n      <th>0</th>\n      <td>0</td>\n      <td>3682</td>\n      <td>453535</td>\n      <td>3628</td>\n      <td>0</td>\n      <td>0</td>\n      <td>0</td>\n      <td>2022</td>\n      <td>3</td>\n      <td>11</td>\n      <td>6</td>\n      <td>54</td>\n      <td>8</td>\n      <td>4</td>\n      <td>70</td>\n      <td>-1</td>\n    </tr>\n    <tr>\n      <th>1</th>\n      <td>0</td>\n      <td>86</td>\n      <td>1016</td>\n      <td>284</td>\n      <td>0</td>\n      <td>0</td>\n      <td>0</td>\n      <td>2022</td>\n      <td>3</td>\n      <td>19</td>\n      <td>13</td>\n      <td>51</td>\n      <td>28</td>\n      <td>5</td>\n      <td>78</td>\n      <td>-1</td>\n    </tr>\n    <tr>\n      <th>2</th>\n      <td>1</td>\n      <td>1944</td>\n      <td>28234</td>\n      <td>1995</td>\n      <td>0</td>\n      <td>0</td>\n      <td>0</td>\n      <td>2022</td>\n      <td>3</td>\n      <td>15</td>\n      <td>19</td>\n      <td>47</td>\n      <td>28</td>\n      <td>1</td>\n      <td>74</td>\n      <td>-1</td>\n    </tr>\n    <tr>\n      <th>3</th>\n      <td>0</td>\n      <td>1</td>\n      <td>1072</td>\n      <td>0</td>\n      <td>0</td>\n      <td>1</td>\n      <td>0</td>\n      <td>2022</td>\n      <td>3</td>\n      <td>14</td>\n      <td>12</td>\n      <td>11</td>\n      <td>22</td>\n      <td>0</td>\n      <td>73</td>\n      <td>-1</td>\n    </tr>\n    <tr>\n      <th>4</th>\n      <td>0</td>\n      <td>13957</td>\n      <td>25311</td>\n      <td>10841</td>\n      <td>0</td>\n      <td>0</td>\n      <td>0</td>\n      <td>2022</td>\n      <td>3</td>\n      <td>14</td>\n      <td>12</td>\n      <td>46</td>\n      <td>14</td>\n      <td>0</td>\n      <td>73</td>\n      <td>-1</td>\n    </tr>\n    <tr>\n      <th>...</th>\n      <td>...</td>\n      <td>...</td>\n      <td>...</td>\n      <td>...</td>\n      <td>...</td>\n      <td>...</td>\n      <td>...</td>\n      <td>...</td>\n      <td>...</td>\n      <td>...</td>\n      <td>...</td>\n      <td>...</td>\n      <td>...</td>\n      <td>...</td>\n      <td>...</td>\n      <td>...</td>\n    </tr>\n    <tr>\n      <th>353964</th>\n      <td>0</td>\n      <td>34</td>\n      <td>1509</td>\n      <td>55</td>\n      <td>0</td>\n      <td>1</td>\n      <td>0</td>\n      <td>2022</td>\n      <td>3</td>\n      <td>16</td>\n      <td>14</td>\n      <td>42</td>\n      <td>33</td>\n      <td>2</td>\n      <td>75</td>\n      <td>-1</td>\n    </tr>\n    <tr>\n      <th>353965</th>\n      <td>0</td>\n      <td>89</td>\n      <td>11166</td>\n      <td>127</td>\n      <td>0</td>\n      <td>0</td>\n      <td>0</td>\n      <td>2022</td>\n      <td>3</td>\n      <td>12</td>\n      <td>9</td>\n      <td>1</td>\n      <td>46</td>\n      <td>5</td>\n      <td>71</td>\n      <td>-1</td>\n    </tr>\n    <tr>\n      <th>353966</th>\n      <td>0</td>\n      <td>1888</td>\n      <td>712</td>\n      <td>3086</td>\n      <td>0</td>\n      <td>0</td>\n      <td>0</td>\n      <td>2022</td>\n      <td>3</td>\n      <td>18</td>\n      <td>13</td>\n      <td>40</td>\n      <td>30</td>\n      <td>4</td>\n      <td>77</td>\n      <td>-1</td>\n    </tr>\n    <tr>\n      <th>353967</th>\n      <td>0</td>\n      <td>139</td>\n      <td>486</td>\n      <td>320</td>\n      <td>0</td>\n      <td>0</td>\n      <td>0</td>\n      <td>2022</td>\n      <td>3</td>\n      <td>11</td>\n      <td>9</td>\n      <td>26</td>\n      <td>35</td>\n      <td>4</td>\n      <td>70</td>\n      <td>-1</td>\n    </tr>\n    <tr>\n      <th>353968</th>\n      <td>0</td>\n      <td>0</td>\n      <td>82</td>\n      <td>24</td>\n      <td>0</td>\n      <td>0</td>\n      <td>0</td>\n      <td>2022</td>\n      <td>3</td>\n      <td>18</td>\n      <td>12</td>\n      <td>27</td>\n      <td>23</td>\n      <td>4</td>\n      <td>77</td>\n      <td>-1</td>\n    </tr>\n  </tbody>\n</table>\n<p>353969 rows × 16 columns</p>\n</div>"
     },
     "execution_count": 9,
     "metadata": {},
     "output_type": "execute_result"
    }
   ],
   "source": [
    "train_df_input = train_df.drop(['retweets_count', 'text', 'urls', 'hashtags'], axis=1)\n",
    "train_df_input"
   ],
   "metadata": {
    "collapsed": false
   }
  },
  {
   "cell_type": "code",
   "execution_count": 10,
   "outputs": [],
   "source": [
    "def score_dataset(X, y, model=xgboost.XGBRegressor()):\n",
    "    score = sklearn.model_selection.cross_val_score(\n",
    "        model, X, y, cv=5, scoring='neg_mean_absolute_error'\n",
    "    )\n",
    "    score = - score.mean()\n",
    "    return score"
   ],
   "metadata": {
    "collapsed": false
   }
  },
  {
   "cell_type": "code",
   "execution_count": 11,
   "outputs": [
    {
     "name": "stdout",
     "output_type": "stream",
     "text": [
      "Baseline score: 6.68995 MAE\n"
     ]
    }
   ],
   "source": [
    "baseline_score = score_dataset(train_df_input.values, train_df['retweets_count'].values)\n",
    "print(f'Baseline score: {baseline_score:.5f} MAE')"
   ],
   "metadata": {
    "collapsed": false
   }
  },
  {
   "cell_type": "markdown",
   "source": [
    "## Data Visualization, Feature Engineering"
   ],
   "metadata": {
    "collapsed": false
   }
  },
  {
   "cell_type": "code",
   "execution_count": 12,
   "outputs": [
    {
     "ename": "KeyboardInterrupt",
     "evalue": "",
     "output_type": "error",
     "traceback": [
      "\u001B[1;31m---------------------------------------------------------------------------\u001B[0m",
      "\u001B[1;31mKeyboardInterrupt\u001B[0m                         Traceback (most recent call last)",
      "Cell \u001B[1;32mIn [12], line 3\u001B[0m\n\u001B[0;32m      1\u001B[0m discrete_features \u001B[38;5;241m=\u001B[39m train_df_input\u001B[38;5;241m.\u001B[39mcolumns \u001B[38;5;241m==\u001B[39m \u001B[38;5;124m'\u001B[39m\u001B[38;5;124mverified\u001B[39m\u001B[38;5;124m'\u001B[39m\n\u001B[1;32m----> 3\u001B[0m mi_scores \u001B[38;5;241m=\u001B[39m \u001B[43msklearn\u001B[49m\u001B[38;5;241;43m.\u001B[39;49m\u001B[43mfeature_selection\u001B[49m\u001B[38;5;241;43m.\u001B[39;49m\u001B[43mmutual_info_regression\u001B[49m\u001B[43m(\u001B[49m\u001B[43mtrain_df_input\u001B[49m\u001B[43m,\u001B[49m\u001B[43m \u001B[49m\u001B[43mtrain_df\u001B[49m\u001B[43m[\u001B[49m\u001B[38;5;124;43m'\u001B[39;49m\u001B[38;5;124;43mretweets_count\u001B[39;49m\u001B[38;5;124;43m'\u001B[39;49m\u001B[43m]\u001B[49m\u001B[43m,\u001B[49m\u001B[43m \u001B[49m\u001B[43mdiscrete_features\u001B[49m\u001B[38;5;241;43m=\u001B[39;49m\u001B[43mdiscrete_features\u001B[49m\u001B[43m)\u001B[49m\n\u001B[0;32m      4\u001B[0m mi_scores \u001B[38;5;241m=\u001B[39m pd\u001B[38;5;241m.\u001B[39mSeries(mi_scores, name\u001B[38;5;241m=\u001B[39m\u001B[38;5;124m\"\u001B[39m\u001B[38;5;124mMI Scores\u001B[39m\u001B[38;5;124m\"\u001B[39m, index\u001B[38;5;241m=\u001B[39mtrain_df_input\u001B[38;5;241m.\u001B[39mcolumns)\n\u001B[0;32m      5\u001B[0m mi_scores \u001B[38;5;241m=\u001B[39m mi_scores\u001B[38;5;241m.\u001B[39msort_values(ascending\u001B[38;5;241m=\u001B[39m\u001B[38;5;28;01mFalse\u001B[39;00m)\n",
      "File \u001B[1;32m~\\Anaconda3\\envs\\forest-env\\lib\\site-packages\\sklearn\\feature_selection\\_mutual_info.py:389\u001B[0m, in \u001B[0;36mmutual_info_regression\u001B[1;34m(X, y, discrete_features, n_neighbors, copy, random_state)\u001B[0m\n\u001B[0;32m    313\u001B[0m \u001B[38;5;28;01mdef\u001B[39;00m \u001B[38;5;21mmutual_info_regression\u001B[39m(\n\u001B[0;32m    314\u001B[0m     X, y, \u001B[38;5;241m*\u001B[39m, discrete_features\u001B[38;5;241m=\u001B[39m\u001B[38;5;124m\"\u001B[39m\u001B[38;5;124mauto\u001B[39m\u001B[38;5;124m\"\u001B[39m, n_neighbors\u001B[38;5;241m=\u001B[39m\u001B[38;5;241m3\u001B[39m, copy\u001B[38;5;241m=\u001B[39m\u001B[38;5;28;01mTrue\u001B[39;00m, random_state\u001B[38;5;241m=\u001B[39m\u001B[38;5;28;01mNone\u001B[39;00m\n\u001B[0;32m    315\u001B[0m ):\n\u001B[0;32m    316\u001B[0m     \u001B[38;5;124;03m\"\"\"Estimate mutual information for a continuous target variable.\u001B[39;00m\n\u001B[0;32m    317\u001B[0m \n\u001B[0;32m    318\u001B[0m \u001B[38;5;124;03m    Mutual information (MI) [1]_ between two random variables is a non-negative\u001B[39;00m\n\u001B[1;32m   (...)\u001B[0m\n\u001B[0;32m    387\u001B[0m \u001B[38;5;124;03m           of a Random Vector\", Probl. Peredachi Inf., 23:2 (1987), 9-16\u001B[39;00m\n\u001B[0;32m    388\u001B[0m \u001B[38;5;124;03m    \"\"\"\u001B[39;00m\n\u001B[1;32m--> 389\u001B[0m     \u001B[38;5;28;01mreturn\u001B[39;00m \u001B[43m_estimate_mi\u001B[49m\u001B[43m(\u001B[49m\u001B[43mX\u001B[49m\u001B[43m,\u001B[49m\u001B[43m \u001B[49m\u001B[43my\u001B[49m\u001B[43m,\u001B[49m\u001B[43m \u001B[49m\u001B[43mdiscrete_features\u001B[49m\u001B[43m,\u001B[49m\u001B[43m \u001B[49m\u001B[38;5;28;43;01mFalse\u001B[39;49;00m\u001B[43m,\u001B[49m\u001B[43m \u001B[49m\u001B[43mn_neighbors\u001B[49m\u001B[43m,\u001B[49m\u001B[43m \u001B[49m\u001B[43mcopy\u001B[49m\u001B[43m,\u001B[49m\u001B[43m \u001B[49m\u001B[43mrandom_state\u001B[49m\u001B[43m)\u001B[49m\n",
      "File \u001B[1;32m~\\Anaconda3\\envs\\forest-env\\lib\\site-packages\\sklearn\\feature_selection\\_mutual_info.py:305\u001B[0m, in \u001B[0;36m_estimate_mi\u001B[1;34m(X, y, discrete_features, discrete_target, n_neighbors, copy, random_state)\u001B[0m\n\u001B[0;32m    298\u001B[0m     y \u001B[38;5;241m=\u001B[39m scale(y, with_mean\u001B[38;5;241m=\u001B[39m\u001B[38;5;28;01mFalse\u001B[39;00m)\n\u001B[0;32m    299\u001B[0m     y \u001B[38;5;241m+\u001B[39m\u001B[38;5;241m=\u001B[39m (\n\u001B[0;32m    300\u001B[0m         \u001B[38;5;241m1e-10\u001B[39m\n\u001B[0;32m    301\u001B[0m         \u001B[38;5;241m*\u001B[39m np\u001B[38;5;241m.\u001B[39mmaximum(\u001B[38;5;241m1\u001B[39m, np\u001B[38;5;241m.\u001B[39mmean(np\u001B[38;5;241m.\u001B[39mabs(y)))\n\u001B[0;32m    302\u001B[0m         \u001B[38;5;241m*\u001B[39m rng\u001B[38;5;241m.\u001B[39mstandard_normal(size\u001B[38;5;241m=\u001B[39mn_samples)\n\u001B[0;32m    303\u001B[0m     )\n\u001B[1;32m--> 305\u001B[0m mi \u001B[38;5;241m=\u001B[39m [\n\u001B[0;32m    306\u001B[0m     _compute_mi(x, y, discrete_feature, discrete_target, n_neighbors)\n\u001B[0;32m    307\u001B[0m     \u001B[38;5;28;01mfor\u001B[39;00m x, discrete_feature \u001B[38;5;129;01min\u001B[39;00m \u001B[38;5;28mzip\u001B[39m(_iterate_columns(X), discrete_mask)\n\u001B[0;32m    308\u001B[0m ]\n\u001B[0;32m    310\u001B[0m \u001B[38;5;28;01mreturn\u001B[39;00m np\u001B[38;5;241m.\u001B[39marray(mi)\n",
      "File \u001B[1;32m~\\Anaconda3\\envs\\forest-env\\lib\\site-packages\\sklearn\\feature_selection\\_mutual_info.py:306\u001B[0m, in \u001B[0;36m<listcomp>\u001B[1;34m(.0)\u001B[0m\n\u001B[0;32m    298\u001B[0m     y \u001B[38;5;241m=\u001B[39m scale(y, with_mean\u001B[38;5;241m=\u001B[39m\u001B[38;5;28;01mFalse\u001B[39;00m)\n\u001B[0;32m    299\u001B[0m     y \u001B[38;5;241m+\u001B[39m\u001B[38;5;241m=\u001B[39m (\n\u001B[0;32m    300\u001B[0m         \u001B[38;5;241m1e-10\u001B[39m\n\u001B[0;32m    301\u001B[0m         \u001B[38;5;241m*\u001B[39m np\u001B[38;5;241m.\u001B[39mmaximum(\u001B[38;5;241m1\u001B[39m, np\u001B[38;5;241m.\u001B[39mmean(np\u001B[38;5;241m.\u001B[39mabs(y)))\n\u001B[0;32m    302\u001B[0m         \u001B[38;5;241m*\u001B[39m rng\u001B[38;5;241m.\u001B[39mstandard_normal(size\u001B[38;5;241m=\u001B[39mn_samples)\n\u001B[0;32m    303\u001B[0m     )\n\u001B[0;32m    305\u001B[0m mi \u001B[38;5;241m=\u001B[39m [\n\u001B[1;32m--> 306\u001B[0m     \u001B[43m_compute_mi\u001B[49m\u001B[43m(\u001B[49m\u001B[43mx\u001B[49m\u001B[43m,\u001B[49m\u001B[43m \u001B[49m\u001B[43my\u001B[49m\u001B[43m,\u001B[49m\u001B[43m \u001B[49m\u001B[43mdiscrete_feature\u001B[49m\u001B[43m,\u001B[49m\u001B[43m \u001B[49m\u001B[43mdiscrete_target\u001B[49m\u001B[43m,\u001B[49m\u001B[43m \u001B[49m\u001B[43mn_neighbors\u001B[49m\u001B[43m)\u001B[49m\n\u001B[0;32m    307\u001B[0m     \u001B[38;5;28;01mfor\u001B[39;00m x, discrete_feature \u001B[38;5;129;01min\u001B[39;00m \u001B[38;5;28mzip\u001B[39m(_iterate_columns(X), discrete_mask)\n\u001B[0;32m    308\u001B[0m ]\n\u001B[0;32m    310\u001B[0m \u001B[38;5;28;01mreturn\u001B[39;00m np\u001B[38;5;241m.\u001B[39marray(mi)\n",
      "File \u001B[1;32m~\\Anaconda3\\envs\\forest-env\\lib\\site-packages\\sklearn\\feature_selection\\_mutual_info.py:165\u001B[0m, in \u001B[0;36m_compute_mi\u001B[1;34m(x, y, x_discrete, y_discrete, n_neighbors)\u001B[0m\n\u001B[0;32m    163\u001B[0m     \u001B[38;5;28;01mreturn\u001B[39;00m _compute_mi_cd(x, y, n_neighbors)\n\u001B[0;32m    164\u001B[0m \u001B[38;5;28;01melse\u001B[39;00m:\n\u001B[1;32m--> 165\u001B[0m     \u001B[38;5;28;01mreturn\u001B[39;00m \u001B[43m_compute_mi_cc\u001B[49m\u001B[43m(\u001B[49m\u001B[43mx\u001B[49m\u001B[43m,\u001B[49m\u001B[43m \u001B[49m\u001B[43my\u001B[49m\u001B[43m,\u001B[49m\u001B[43m \u001B[49m\u001B[43mn_neighbors\u001B[49m\u001B[43m)\u001B[49m\n",
      "File \u001B[1;32m~\\Anaconda3\\envs\\forest-env\\lib\\site-packages\\sklearn\\feature_selection\\_mutual_info.py:62\u001B[0m, in \u001B[0;36m_compute_mi_cc\u001B[1;34m(x, y, n_neighbors)\u001B[0m\n\u001B[0;32m     59\u001B[0m \u001B[38;5;66;03m# KDTree is explicitly fit to allow for the querying of number of\u001B[39;00m\n\u001B[0;32m     60\u001B[0m \u001B[38;5;66;03m# neighbors within a specified radius\u001B[39;00m\n\u001B[0;32m     61\u001B[0m kd \u001B[38;5;241m=\u001B[39m KDTree(x, metric\u001B[38;5;241m=\u001B[39m\u001B[38;5;124m\"\u001B[39m\u001B[38;5;124mchebyshev\u001B[39m\u001B[38;5;124m\"\u001B[39m)\n\u001B[1;32m---> 62\u001B[0m nx \u001B[38;5;241m=\u001B[39m \u001B[43mkd\u001B[49m\u001B[38;5;241;43m.\u001B[39;49m\u001B[43mquery_radius\u001B[49m\u001B[43m(\u001B[49m\u001B[43mx\u001B[49m\u001B[43m,\u001B[49m\u001B[43m \u001B[49m\u001B[43mradius\u001B[49m\u001B[43m,\u001B[49m\u001B[43m \u001B[49m\u001B[43mcount_only\u001B[49m\u001B[38;5;241;43m=\u001B[39;49m\u001B[38;5;28;43;01mTrue\u001B[39;49;00m\u001B[43m,\u001B[49m\u001B[43m \u001B[49m\u001B[43mreturn_distance\u001B[49m\u001B[38;5;241;43m=\u001B[39;49m\u001B[38;5;28;43;01mFalse\u001B[39;49;00m\u001B[43m)\u001B[49m\n\u001B[0;32m     63\u001B[0m nx \u001B[38;5;241m=\u001B[39m np\u001B[38;5;241m.\u001B[39marray(nx) \u001B[38;5;241m-\u001B[39m \u001B[38;5;241m1.0\u001B[39m\n\u001B[0;32m     65\u001B[0m kd \u001B[38;5;241m=\u001B[39m KDTree(y, metric\u001B[38;5;241m=\u001B[39m\u001B[38;5;124m\"\u001B[39m\u001B[38;5;124mchebyshev\u001B[39m\u001B[38;5;124m\"\u001B[39m)\n",
      "\u001B[1;31mKeyboardInterrupt\u001B[0m: "
     ]
    }
   ],
   "source": [
    "discrete_features = train_df_input.columns == 'verified'\n",
    "\n",
    "mi_scores = sklearn.feature_selection.mutual_info_regression(train_df_input, train_df['retweets_count'], discrete_features=discrete_features)\n",
    "mi_scores = pd.Series(mi_scores, name=\"MI Scores\", index=train_df_input.columns)\n",
    "mi_scores = mi_scores.sort_values(ascending=False)"
   ],
   "metadata": {
    "collapsed": false
   }
  },
  {
   "cell_type": "code",
   "execution_count": null,
   "outputs": [],
   "source": [
    "plt.figure(dpi=100, figsize=(8, 5))\n",
    "mi_scores = mi_scores.sort_values(ascending=True)\n",
    "width = np.arange(len(mi_scores))\n",
    "ticks = list(mi_scores.index)\n",
    "plt.barh(width, mi_scores)\n",
    "plt.yticks(width, ticks)\n",
    "plt.title(\"Mutual Information Scores\")\n",
    "plt.show()"
   ],
   "metadata": {
    "collapsed": false
   }
  },
  {
   "cell_type": "code",
   "execution_count": null,
   "outputs": [],
   "source": [
    "new_train_df = train_df_input.drop(['tm_sec', 'tm_isdst'], axis=1)"
   ],
   "metadata": {
    "collapsed": false
   }
  },
  {
   "cell_type": "code",
   "execution_count": null,
   "outputs": [],
   "source": [
    "baseline_score = score_dataset(new_train_df.values, train_df['retweets_count'].values)\n",
    "print(f'Baseline score: {baseline_score:.5f} MAE')"
   ],
   "metadata": {
    "collapsed": false
   }
  },
  {
   "cell_type": "code",
   "execution_count": null,
   "outputs": [],
   "source": [
    "fig, ax = plt.subplots(4, 2)\n",
    "\n",
    "sbn.kdeplot(ax=ax[0, 0], data=train_df.favorites_count)\n",
    "sbn.kdeplot(ax=ax[0, 1], data=np.log10(train_df.favorites_count).replace([-np.inf], -10))\n",
    "sbn.kdeplot(ax=ax[1, 0], data=train_df.friends_count)\n",
    "sbn.kdeplot(ax=ax[1, 1], data=np.log10(train_df.friends_count).replace([-np.inf], -10))\n",
    "sbn.kdeplot(ax=ax[2, 0], data=train_df.followers_count)\n",
    "sbn.kdeplot(ax=ax[2, 1], data=np.log10(train_df.followers_count).replace([-np.inf], -10))\n",
    "sbn.kdeplot(ax=ax[3, 0], data=train_df.statuses_count)\n",
    "sbn.kdeplot(ax=ax[3, 1], data=np.log10(train_df.statuses_count).replace([-np.inf], -10))\n",
    "\n",
    "fig.tight_layout()\n",
    "plt.show()"
   ],
   "metadata": {
    "collapsed": false
   }
  },
  {
   "cell_type": "code",
   "execution_count": null,
   "outputs": [],
   "source": [
    "new_train_df.favorites_count = np.log10(train_df_input.favorites_count).replace([-np.inf], -10)\n",
    "new_train_df.friends_count = np.log10(train_df_input.friends_count).replace([-np.inf], -10)\n",
    "new_train_df.followers_count = np.log10(train_df_input.followers_count).replace([-np.inf], -10)\n",
    "new_train_df.statuses_count = np.log10(train_df_input.statuses_count).replace([-np.inf], -10)"
   ],
   "metadata": {
    "collapsed": false
   }
  },
  {
   "cell_type": "code",
   "execution_count": null,
   "outputs": [],
   "source": [
    "new_train_df"
   ],
   "metadata": {
    "collapsed": false
   }
  },
  {
   "cell_type": "code",
   "execution_count": null,
   "outputs": [],
   "source": [
    "baseline_score = score_dataset(new_train_df.values, train_df['retweets_count'].values)\n",
    "print(f'Baseline score: {baseline_score:.5f} MAE')"
   ],
   "metadata": {
    "collapsed": false
   }
  },
  {
   "cell_type": "code",
   "execution_count": null,
   "outputs": [],
   "source": [
    "scaler = sklearn.preprocessing.StandardScaler()\n",
    "scaler.fit(new_train_df)\n",
    "\n",
    "kmeans = sklearn.cluster.KMeans(n_clusters=9, random_state=0).fit(scaler.transform(new_train_df))"
   ],
   "metadata": {
    "collapsed": false
   }
  },
  {
   "cell_type": "code",
   "execution_count": null,
   "outputs": [],
   "source": [
    "for i in range(kmeans.n_clusters):\n",
    "    mean_rtwts = train_df[kmeans.labels_ == i]['retweets_count'].mean()\n",
    "    print(f'Cluster {i} mean retweets: {mean_rtwts}')"
   ],
   "metadata": {
    "collapsed": false
   }
  },
  {
   "cell_type": "code",
   "execution_count": null,
   "outputs": [],
   "source": [
    "new_train_df['cluster'] = kmeans.labels_\n",
    "new_train_df['cluster'] = new_train_df['cluster'].astype('category')"
   ],
   "metadata": {
    "collapsed": false
   }
  },
  {
   "cell_type": "code",
   "execution_count": null,
   "outputs": [],
   "source": [
    "baseline_score = score_dataset(new_train_df.values, train_df['retweets_count'].values)\n",
    "print(f'Baseline score: {baseline_score:.5f} MAE')"
   ],
   "metadata": {
    "collapsed": false
   }
  },
  {
   "cell_type": "code",
   "execution_count": null,
   "outputs": [],
   "source": [
    "hashtags_temp = train_df.explode('hashtags')[['hashtags', 'retweets_count']].groupby('hashtags').mean()\n",
    "hashtags_temp"
   ],
   "metadata": {
    "collapsed": false
   }
  },
  {
   "cell_type": "code",
   "execution_count": null,
   "outputs": [],
   "source": [
    "retweet_hash_avg = hashtags_temp.to_dict()['retweets_count']\n",
    "retweet_hash_avg"
   ],
   "metadata": {
    "collapsed": false
   }
  },
  {
   "cell_type": "code",
   "execution_count": null,
   "outputs": [],
   "source": [
    "def get_list_avg(list_obj):\n",
    "    sum = 0\n",
    "    for hash in list_obj:\n",
    "        sum += retweet_hash_avg[hash] if hash in retweet_hash_avg else -1.0\n",
    "    return sum / len(list_obj) if list_obj else -1.0\n",
    "\n",
    "new_train_df['retweet_hash_avg'] = train_df['hashtags'].apply(get_list_avg)"
   ],
   "metadata": {
    "collapsed": false
   }
  },
  {
   "cell_type": "code",
   "execution_count": null,
   "outputs": [],
   "source": [
    "baseline_score = score_dataset(new_train_df.values, train_df['retweets_count'].values)\n",
    "print(f'Baseline score: {baseline_score:.5f} MAE')"
   ],
   "metadata": {
    "collapsed": false
   }
  },
  {
   "cell_type": "code",
   "execution_count": null,
   "outputs": [],
   "source": [
    "test_hashs = test_df.explode('hashtags')['hashtags'].unique()[1:]\n",
    "sum = 0\n",
    "for i in range(len(test_hashs)):\n",
    "    if test_hashs[i] in retweet_hash_avg:\n",
    "        sum += 1\n",
    "print(sum, len(test_hashs))"
   ],
   "metadata": {
    "collapsed": false
   }
  },
  {
   "cell_type": "code",
   "execution_count": 14,
   "outputs": [],
   "source": [
    "def feature_engineering(df: pd.DataFrame, type: str = 'train'):\n",
    "    final_df = df.drop(['text', 'urls', 'hashtags', 'tm_sec', 'tm_isdst'], axis=1)\n",
    "    if type == 'train':\n",
    "        final_df = final_df.drop('retweets_count', axis=1)\n",
    "\n",
    "    # final_df.favorites_count = np.log10(final_df.favorites_count).replace([-np.inf], -10)\n",
    "    # final_df.friends_count = np.log10(final_df.friends_count).replace([-np.inf], -10)\n",
    "    # final_df.followers_count = np.log10(final_df.followers_count).replace([-np.inf], -10)\n",
    "    # final_df.statuses_count = np.log10(final_df.statuses_count).replace([-np.inf], -10)\n",
    "    #\n",
    "    # scaler = sklearn.preprocessing.StandardScaler()\n",
    "    # scaler.fit(final_df)\n",
    "    #\n",
    "    # kmeans = sklearn.cluster.KMeans(n_clusters=9, random_state=0).fit(scaler.transform(final_df))\n",
    "    # final_df['cluster'] = kmeans.labels_\n",
    "    #\n",
    "    # final_df['retweet_hash_avg'] = df['hashtags'].apply(get_list_avg)\n",
    "\n",
    "    return final_df"
   ],
   "metadata": {
    "collapsed": false
   }
  },
  {
   "cell_type": "code",
   "execution_count": 15,
   "outputs": [],
   "source": [
    "train_X = feature_engineering(train_df)\n",
    "train_y = train_df['retweets_count']\n",
    "test_X = feature_engineering(test_df, type='test')"
   ],
   "metadata": {
    "collapsed": false
   }
  },
  {
   "cell_type": "code",
   "execution_count": null,
   "outputs": [],
   "source": [
    "train_X.columns"
   ],
   "metadata": {
    "collapsed": false
   }
  },
  {
   "cell_type": "markdown",
   "source": [
    "# NLP"
   ],
   "metadata": {
    "collapsed": false
   }
  },
  {
   "cell_type": "code",
   "execution_count": 36,
   "outputs": [],
   "source": [
    "nlp_model = gensim.models.Word2Vec.load('models/word2vec.model')\n",
    "\n",
    "train_tweets = read_train_df['text'].apply(str.split).to_list()\n",
    "train_dictionary = gensim.corpora.Dictionary(train_tweets)\n",
    "train_corpus = [train_dictionary.doc2bow(tweet) for tweet in train_tweets]\n",
    "\n",
    "tfidf = gensim.models.TfidfModel(train_corpus)"
   ],
   "metadata": {
    "collapsed": false
   }
  },
  {
   "cell_type": "code",
   "execution_count": 37,
   "outputs": [
    {
     "data": {
      "text/plain": "array([[-0.65600765, -0.70207036, -0.40457688, ..., -0.22908168,\n        -0.67512023,  0.11180787],\n       [ 0.04353184, -0.52940345, -0.01358669, ..., -0.11652195,\n        -1.1295923 ,  0.2752873 ],\n       [-0.15472724, -0.63224866,  0.26312325, ..., -0.01111145,\n        -0.47325656,  0.34688089],\n       ...,\n       [-0.1212101 ,  0.32465485,  0.05760425, ...,  0.4096498 ,\n        -0.98622295,  0.50781222],\n       [ 0.13614201, -0.81974598,  0.51535016, ...,  0.08337006,\n        -1.05903894,  0.40956031],\n       [-1.05322934, -0.70856083,  0.29525026, ..., -0.42473535,\n        -0.79971904,  0.29419353]])"
     },
     "execution_count": 37,
     "metadata": {},
     "output_type": "execute_result"
    }
   ],
   "source": [
    "text = read_train_df['text']\n",
    "\n",
    "text_embed = np.zeros((len(text), nlp_model.vector_size))\n",
    "\n",
    "for i in range(len(text)):\n",
    "    encoded_words = [word for word in text.iloc[i].split(' ') if word in nlp_model.wv and\n",
    "                     word in train_dictionary.token2id]\n",
    "    if encoded_words:\n",
    "        keys = [train_dictionary.token2id[word] for word in encoded_words]\n",
    "        tf_idf_dict = dict(tfidf[train_corpus[i]])\n",
    "        tf_idf_coefs = np.array([tf_idf_dict[key] for key in keys])\n",
    "\n",
    "        text_vec = nlp_model.wv[encoded_words]\n",
    "        text_vec = (text_vec * tf_idf_coefs[:, None]).sum(0)\n",
    "    else:\n",
    "        text_vec = np.zeros((nlp_model.vector_size, ))\n",
    "\n",
    "    text_embed[i] = text_vec\n",
    "\n",
    "text_embed"
   ],
   "metadata": {
    "collapsed": false
   }
  },
  {
   "cell_type": "code",
   "execution_count": 38,
   "outputs": [],
   "source": [
    "from models.conv1d_w2v_mlp import ConvWord2VecModel"
   ],
   "metadata": {
    "collapsed": false
   }
  },
  {
   "cell_type": "code",
   "execution_count": 39,
   "outputs": [
    {
     "data": {
      "text/plain": "ConvWord2VecModel(\n  (conv): Sequential(\n    (0): Conv1d(1, 16, kernel_size=(5,), stride=(1,))\n    (1): BatchNorm1d(16, eps=1e-05, momentum=0.1, affine=True, track_running_stats=True)\n    (2): ReLU()\n    (3): MaxPool1d(kernel_size=2, stride=2, padding=0, dilation=1, ceil_mode=False)\n    (4): Dropout(p=0.3, inplace=False)\n    (5): Conv1d(16, 16, kernel_size=(5,), stride=(2,))\n    (6): BatchNorm1d(16, eps=1e-05, momentum=0.1, affine=True, track_running_stats=True)\n    (7): ReLU()\n    (8): Dropout(p=0.3, inplace=False)\n    (9): Conv1d(16, 64, kernel_size=(5,), stride=(1,))\n    (10): BatchNorm1d(64, eps=1e-05, momentum=0.1, affine=True, track_running_stats=True)\n    (11): ReLU()\n    (12): MaxPool1d(kernel_size=2, stride=2, padding=0, dilation=1, ceil_mode=False)\n    (13): Dropout(p=0.3, inplace=False)\n    (14): Conv1d(64, 64, kernel_size=(5,), stride=(2,))\n    (15): BatchNorm1d(64, eps=1e-05, momentum=0.1, affine=True, track_running_stats=True)\n    (16): ReLU()\n    (17): Dropout(p=0.3, inplace=False)\n    (18): Conv1d(64, 128, kernel_size=(5,), stride=(1,))\n    (19): BatchNorm1d(128, eps=1e-05, momentum=0.1, affine=True, track_running_stats=True)\n    (20): ReLU()\n    (21): MaxPool1d(kernel_size=2, stride=2, padding=0, dilation=1, ceil_mode=False)\n    (22): Dropout(p=0.3, inplace=False)\n    (23): Conv1d(128, 128, kernel_size=(3,), stride=(1,))\n    (24): BatchNorm1d(128, eps=1e-05, momentum=0.1, affine=True, track_running_stats=True)\n    (25): ReLU()\n    (26): Conv1d(128, 4, kernel_size=(1,), stride=(1,))\n    (27): BatchNorm1d(4, eps=1e-05, momentum=0.1, affine=True, track_running_stats=True)\n    (28): Flatten(start_dim=1, end_dim=-1)\n  )\n  (input): Linear(in_features=22, out_features=128, bias=True)\n  (hidden_layers): Sequential(\n    (layer1): Linear(in_features=128, out_features=128, bias=True)\n    (relu1): ReLU()\n    (dropout1): Dropout(p=0.3, inplace=False)\n    (layer2): Linear(in_features=128, out_features=128, bias=True)\n    (relu2): ReLU()\n    (dropout2): Dropout(p=0.3, inplace=False)\n  )\n  (output): Linear(in_features=128, out_features=1, bias=True)\n  (relu): ReLU()\n)"
     },
     "execution_count": 39,
     "metadata": {},
     "output_type": "execute_result"
    }
   ],
   "source": [
    "conv_model = ConvWord2VecModel.load_from_checkpoint('checkpoints/epoch=61-split=0.ckpt')\n",
    "conv_model.eval()"
   ],
   "metadata": {
    "collapsed": false
   }
  },
  {
   "cell_type": "code",
   "execution_count": 40,
   "outputs": [],
   "source": [
    "kf = sklearn.model_selection.KFold(n_splits=10, shuffle=True, random_state=12345)\n",
    "all_splits = [i for i in kf.split(train_X)]\n",
    "train_indexes, val_indexes = all_splits[0]"
   ],
   "metadata": {
    "collapsed": false
   }
  },
  {
   "cell_type": "code",
   "execution_count": 41,
   "outputs": [],
   "source": [
    "train_X_arr = train_X.values\n",
    "scaler = sklearn.preprocessing.StandardScaler()\n",
    "train_X_arr = scaler.fit_transform(train_X_arr)"
   ],
   "metadata": {
    "collapsed": false
   }
  },
  {
   "cell_type": "code",
   "execution_count": 42,
   "outputs": [],
   "source": [
    "train_X_arr = np.concatenate([train_X_arr, text_embed], axis=1)"
   ],
   "metadata": {
    "collapsed": false
   }
  },
  {
   "cell_type": "code",
   "execution_count": 43,
   "outputs": [],
   "source": [
    "input_dict = (torch.tensor(train_X_arr[val_indexes]), train_y.values[val_indexes])"
   ],
   "metadata": {
    "collapsed": false
   }
  },
  {
   "cell_type": "code",
   "execution_count": 45,
   "outputs": [],
   "source": [
    "val_results = conv_model(input_dict).detach().numpy()"
   ],
   "metadata": {
    "collapsed": false
   }
  },
  {
   "cell_type": "code",
   "execution_count": 77,
   "outputs": [
    {
     "data": {
      "text/plain": "<Figure size 640x480 with 1 Axes>",
      "image/png": "[encoded data removed]"
     },
     "metadata": {},
     "output_type": "display_data"
    }
   ],
   "source": [
    "plt.stem(np.abs(val_results - train_y.values[val_indexes]))\n",
    "plt.show()"
   ],
   "metadata": {
    "collapsed": false
   }
  },
  {
   "cell_type": "code",
   "execution_count": 47,
   "outputs": [
    {
     "data": {
      "text/plain": "21         455756\n24          35466\n59         279219\n69         852073\n80         569231\n           ...   \n353932     825966\n353936     970068\n353941      94341\n353965     240866\n353966    1173763\nName: TweetID, Length: 35397, dtype: int64"
     },
     "execution_count": 47,
     "metadata": {},
     "output_type": "execute_result"
    }
   ],
   "source": [
    "read_train_df['TweetID'].iloc[val_indexes]"
   ],
   "metadata": {
    "collapsed": false
   }
  },
  {
   "cell_type": "code",
   "execution_count": 82,
   "outputs": [
    {
     "data": {
      "text/plain": "        TweetID  retweets_count  abs_error\n21       455756        1.008577   1.008577\n24        35466        0.000020   0.000020\n59       279219        5.091687   3.908313\n69       852073        0.000020   0.000020\n80       569231        0.000020   0.000020\n...         ...             ...        ...\n353932   825966        0.000020   0.000020\n353936   970068        0.006539   0.006539\n353941    94341        0.000020   2.999980\n353965   240866        0.000020   0.000020\n353966  1173763        0.704641   2.295359\n\n[35397 rows x 3 columns]",
      "text/html": "<div>\n<style scoped>\n    .dataframe tbody tr th:only-of-type {\n        vertical-align: middle;\n    }\n\n    .dataframe tbody tr th {\n        vertical-align: top;\n    }\n\n    .dataframe thead th {\n        text-align: right;\n    }\n</style>\n<table border=\"1\" class=\"dataframe\">\n  <thead>\n    <tr style=\"text-align: right;\">\n      <th></th>\n      <th>TweetID</th>\n      <th>retweets_count</th>\n      <th>abs_error</th>\n    </tr>\n  </thead>\n  <tbody>\n    <tr>\n      <th>21</th>\n      <td>455756</td>\n      <td>1.008577</td>\n      <td>1.008577</td>\n    </tr>\n    <tr>\n      <th>24</th>\n      <td>35466</td>\n      <td>0.000020</td>\n      <td>0.000020</td>\n    </tr>\n    <tr>\n      <th>59</th>\n      <td>279219</td>\n      <td>5.091687</td>\n      <td>3.908313</td>\n    </tr>\n    <tr>\n      <th>69</th>\n      <td>852073</td>\n      <td>0.000020</td>\n      <td>0.000020</td>\n    </tr>\n    <tr>\n      <th>80</th>\n      <td>569231</td>\n      <td>0.000020</td>\n      <td>0.000020</td>\n    </tr>\n    <tr>\n      <th>...</th>\n      <td>...</td>\n      <td>...</td>\n      <td>...</td>\n    </tr>\n    <tr>\n      <th>353932</th>\n      <td>825966</td>\n      <td>0.000020</td>\n      <td>0.000020</td>\n    </tr>\n    <tr>\n      <th>353936</th>\n      <td>970068</td>\n      <td>0.006539</td>\n      <td>0.006539</td>\n    </tr>\n    <tr>\n      <th>353941</th>\n      <td>94341</td>\n      <td>0.000020</td>\n      <td>2.999980</td>\n    </tr>\n    <tr>\n      <th>353965</th>\n      <td>240866</td>\n      <td>0.000020</td>\n      <td>0.000020</td>\n    </tr>\n    <tr>\n      <th>353966</th>\n      <td>1173763</td>\n      <td>0.704641</td>\n      <td>2.295359</td>\n    </tr>\n  </tbody>\n</table>\n<p>35397 rows × 3 columns</p>\n</div>"
     },
     "execution_count": 82,
     "metadata": {},
     "output_type": "execute_result"
    }
   ],
   "source": [
    "val_predictions = pd.DataFrame(data={'TweetID': read_train_df['TweetID'].iloc[val_indexes], 'retweets_count': val_results, 'abs_error': np.abs(val_results - train_y.values[val_indexes])})\n",
    "val_predictions"
   ],
   "metadata": {
    "collapsed": false
   }
  },
  {
   "cell_type": "code",
   "execution_count": 94,
   "outputs": [
    {
     "data": {
      "text/plain": "21        False\n24        False\n59        False\n69        False\n80        False\n          ...  \n353932    False\n353936    False\n353941    False\n353965    False\n353966    False\nName: abs_error, Length: 35397, dtype: bool"
     },
     "execution_count": 94,
     "metadata": {},
     "output_type": "execute_result"
    }
   ],
   "source": [
    "val_predictions['abs_error'] > 1000"
   ],
   "metadata": {
    "collapsed": false
   }
  },
  {
   "cell_type": "code",
   "execution_count": 98,
   "outputs": [
    {
     "data": {
      "text/plain": "        favorites_count  followers_count  statuses_count  friends_count  \\\n754                6547           222170            4746             17   \n1499               5727            36471          111739            495   \n8640               3376           105441           15329            410   \n10242              1354             6361           15025           4617   \n19933             51187             1426           12220           1009   \n...                 ...              ...             ...            ...   \n345894             2585           234981           21464            366   \n348217             3224              770           10353             56   \n349545            10325               14              90            111   \n350971             2519             2075           12057           1820   \n351100             4490           437700          218654           1698   \n\n        verified  url_count  hashtag_count  tm_year  tm_mon  tm_mday  tm_hour  \\\n754            1          1              0     2022       3        7       11   \n1499           1          1              0     2022       3        3        6   \n8640           0          1              0     2022       3       11       17   \n10242          0          1              2     2018       9       27       20   \n19933          0          0              0     2022       1        6       13   \n...          ...        ...            ...      ...     ...      ...      ...   \n345894         0          1              2     2022       3        9       17   \n348217         0          0              0     2022       3       12       22   \n349545         0          0              2     2022       2       24       10   \n350971         0          0              0     2022       3        6        6   \n351100         1          1              0     2022       2        3       16   \n\n        tm_min  tm_wday  tm_yday  \n754         28        0       66  \n1499        15        3       62  \n8640        42        4       70  \n10242       32        3      270  \n19933       49        3        6  \n...        ...      ...      ...  \n345894      43        2       68  \n348217      12        5       71  \n349545      44        3       55  \n350971      48        6       65  \n351100      20        3       34  \n\n[65 rows x 14 columns]",
      "text/html": "<div>\n<style scoped>\n    .dataframe tbody tr th:only-of-type {\n        vertical-align: middle;\n    }\n\n    .dataframe tbody tr th {\n        vertical-align: top;\n    }\n\n    .dataframe thead th {\n        text-align: right;\n    }\n</style>\n<table border=\"1\" class=\"dataframe\">\n  <thead>\n    <tr style=\"text-align: right;\">\n      <th></th>\n      <th>favorites_count</th>\n      <th>followers_count</th>\n      <th>statuses_count</th>\n      <th>friends_count</th>\n      <th>verified</th>\n      <th>url_count</th>\n      <th>hashtag_count</th>\n      <th>tm_year</th>\n      <th>tm_mon</th>\n      <th>tm_mday</th>\n      <th>tm_hour</th>\n      <th>tm_min</th>\n      <th>tm_wday</th>\n      <th>tm_yday</th>\n    </tr>\n  </thead>\n  <tbody>\n    <tr>\n      <th>754</th>\n      <td>6547</td>\n      <td>222170</td>\n      <td>4746</td>\n      <td>17</td>\n      <td>1</td>\n      <td>1</td>\n      <td>0</td>\n      <td>2022</td>\n      <td>3</td>\n      <td>7</td>\n      <td>11</td>\n      <td>28</td>\n      <td>0</td>\n      <td>66</td>\n    </tr>\n    <tr>\n      <th>1499</th>\n      <td>5727</td>\n      <td>36471</td>\n      <td>111739</td>\n      <td>495</td>\n      <td>1</td>\n      <td>1</td>\n      <td>0</td>\n      <td>2022</td>\n      <td>3</td>\n      <td>3</td>\n      <td>6</td>\n      <td>15</td>\n      <td>3</td>\n      <td>62</td>\n    </tr>\n    <tr>\n      <th>8640</th>\n      <td>3376</td>\n      <td>105441</td>\n      <td>15329</td>\n      <td>410</td>\n      <td>0</td>\n      <td>1</td>\n      <td>0</td>\n      <td>2022</td>\n      <td>3</td>\n      <td>11</td>\n      <td>17</td>\n      <td>42</td>\n      <td>4</td>\n      <td>70</td>\n    </tr>\n    <tr>\n      <th>10242</th>\n      <td>1354</td>\n      <td>6361</td>\n      <td>15025</td>\n      <td>4617</td>\n      <td>0</td>\n      <td>1</td>\n      <td>2</td>\n      <td>2018</td>\n      <td>9</td>\n      <td>27</td>\n      <td>20</td>\n      <td>32</td>\n      <td>3</td>\n      <td>270</td>\n    </tr>\n    <tr>\n      <th>19933</th>\n      <td>51187</td>\n      <td>1426</td>\n      <td>12220</td>\n      <td>1009</td>\n      <td>0</td>\n      <td>0</td>\n      <td>0</td>\n      <td>2022</td>\n      <td>1</td>\n      <td>6</td>\n      <td>13</td>\n      <td>49</td>\n      <td>3</td>\n      <td>6</td>\n    </tr>\n    <tr>\n      <th>...</th>\n      <td>...</td>\n      <td>...</td>\n      <td>...</td>\n      <td>...</td>\n      <td>...</td>\n      <td>...</td>\n      <td>...</td>\n      <td>...</td>\n      <td>...</td>\n      <td>...</td>\n      <td>...</td>\n      <td>...</td>\n      <td>...</td>\n      <td>...</td>\n    </tr>\n    <tr>\n      <th>345894</th>\n      <td>2585</td>\n      <td>234981</td>\n      <td>21464</td>\n      <td>366</td>\n      <td>0</td>\n      <td>1</td>\n      <td>2</td>\n      <td>2022</td>\n      <td>3</td>\n      <td>9</td>\n      <td>17</td>\n      <td>43</td>\n      <td>2</td>\n      <td>68</td>\n    </tr>\n    <tr>\n      <th>348217</th>\n      <td>3224</td>\n      <td>770</td>\n      <td>10353</td>\n      <td>56</td>\n      <td>0</td>\n      <td>0</td>\n      <td>0</td>\n      <td>2022</td>\n      <td>3</td>\n      <td>12</td>\n      <td>22</td>\n      <td>12</td>\n      <td>5</td>\n      <td>71</td>\n    </tr>\n    <tr>\n      <th>349545</th>\n      <td>10325</td>\n      <td>14</td>\n      <td>90</td>\n      <td>111</td>\n      <td>0</td>\n      <td>0</td>\n      <td>2</td>\n      <td>2022</td>\n      <td>2</td>\n      <td>24</td>\n      <td>10</td>\n      <td>44</td>\n      <td>3</td>\n      <td>55</td>\n    </tr>\n    <tr>\n      <th>350971</th>\n      <td>2519</td>\n      <td>2075</td>\n      <td>12057</td>\n      <td>1820</td>\n      <td>0</td>\n      <td>0</td>\n      <td>0</td>\n      <td>2022</td>\n      <td>3</td>\n      <td>6</td>\n      <td>6</td>\n      <td>48</td>\n      <td>6</td>\n      <td>65</td>\n    </tr>\n    <tr>\n      <th>351100</th>\n      <td>4490</td>\n      <td>437700</td>\n      <td>218654</td>\n      <td>1698</td>\n      <td>1</td>\n      <td>1</td>\n      <td>0</td>\n      <td>2022</td>\n      <td>2</td>\n      <td>3</td>\n      <td>16</td>\n      <td>20</td>\n      <td>3</td>\n      <td>34</td>\n    </tr>\n  </tbody>\n</table>\n<p>65 rows × 14 columns</p>\n</div>"
     },
     "execution_count": 98,
     "metadata": {},
     "output_type": "execute_result"
    }
   ],
   "source": [
    "train_X.iloc[val_indexes][val_predictions['abs_error'] > 500]"
   ],
   "metadata": {
    "collapsed": false
   }
  },
  {
   "cell_type": "markdown",
   "source": [
    "# Make submission"
   ],
   "metadata": {
    "collapsed": false
   }
  },
  {
   "cell_type": "code",
   "execution_count": 67,
   "outputs": [
    {
     "name": "stdout",
     "output_type": "stream",
     "text": [
      "Saved csv\n"
     ]
    }
   ],
   "source": [
    "make_submission = True\n",
    "\n",
    "if make_submission:\n",
    "    test_ids = read_train_df['TweetID'].iloc[val_indexes]\n",
    "    # model = xgboost.XGBRegressor(verbosity=1, max_depth=10)\n",
    "    # model.fit(full_train_X, train_y)\n",
    "    #\n",
    "    # test_predictions = model.predict(full_test_X)\n",
    "\n",
    "    submission_df = pd.DataFrame(data={'TweetID': test_ids, 'retweets_count': val_results})\n",
    "    submission_df.to_csv('data/val_predictions.csv', index=False)\n",
    "\n",
    "    print('Saved csv')"
   ],
   "metadata": {
    "collapsed": false
   }
  }
 ],
 "metadata": {
  "kernelspec": {
   "display_name": "Python 3",
   "language": "python",
   "name": "python3"
  },
  "language_info": {
   "codemirror_mode": {
    "name": "ipython",
    "version": 2
   },
   "file_extension": ".py",
   "mimetype": "text/x-python",
   "name": "python",
   "nbconvert_exporter": "python",
   "pygments_lexer": "ipython2",
   "version": "2.7.6"
  }
 },
 "nbformat": 4,
 "nbformat_minor": 0
}
